{
 "cells": [
  {
   "cell_type": "markdown",
   "metadata": {},
   "source": [
    "### Ex.2\n",
    "\n",
    "The file limits_IT_province.geojson includes the contour of all the italian \"province\"\n",
    "The file polveri.csv includes the data about pollution captured by different sensor in the province of veneto in different years (number of days over limits)\n",
    "Task: compute the average values measured in the different provinces in 2022 and 2012\n",
    "create a choroplet map with the provinces colored with a categorical colormap\n",
    "add a symbol map (scattered_geo) with size representing the average number of days over limits in 2022 and color representing the increase/decrease with respect to 2012 (with a smart color mapping)\n"
   ]
  },
  {
   "cell_type": "code",
   "execution_count": null,
   "metadata": {},
   "outputs": [
    {
     "name": "stderr",
     "output_type": "stream",
     "text": [
      "c:\\Users\\Utente\\anaconda3\\lib\\site-packages\\cupy\\_environment.py:205: UserWarning: CUDA path could not be detected. Set CUDA_PATH environment variable if CuPy fails to load.\n",
      "  warnings.warn(\n",
      "c:\\Users\\Utente\\anaconda3\\lib\\site-packages\\cupy\\_environment.py:205: UserWarning: CUDA path could not be detected. Set CUDA_PATH environment variable if CuPy fails to load.\n",
      "  warnings.warn(\n",
      "c:\\Users\\Utente\\anaconda3\\lib\\site-packages\\cupy\\_environment.py:205: UserWarning: CUDA path could not be detected. Set CUDA_PATH environment variable if CuPy fails to load.\n",
      "  warnings.warn(\n"
     ]
    },
    {
     "name": "stdout",
     "output_type": "stream",
     "text": [
      "  Provincia    val2022\n",
      "0   Belluno  15.000000\n",
      "1    Padova  21.200000\n",
      "2    Rovigo  23.000000\n",
      "3   Treviso  18.000000\n",
      "4   Venezia  21.333333\n",
      "5    Verona  18.000000\n",
      "6   Vicenza  19.750000\n"
     ]
    }
   ],
   "source": [
    "import pandas as pd\n",
    "import plotly.express as px\n",
    "import numpy as np\n",
    "\n",
    "pm25 = pd.read_csv(\"polveri.csv\")\n",
    "\n",
    "\n",
    "pm25.head()\n",
    "\n",
    "#need to group, average"
   ]
  },
  {
   "cell_type": "code",
   "execution_count": 1,
   "metadata": {
    "scrolled": true
   },
   "outputs": [],
   "source": [
    "#\n",
    "\n",
    "province = \"limits_IT_provinces.geojson\"\n",
    "\n",
    "\n"
   ]
  },
  {
   "cell_type": "markdown",
   "metadata": {},
   "source": [
    "what's wrong in the previous visualization?"
   ]
  },
  {
   "cell_type": "markdown",
   "metadata": {},
   "source": [
    "\n"
   ]
  }
 ],
 "metadata": {
  "kernelspec": {
   "display_name": "Python 3 (ipykernel)",
   "language": "python",
   "name": "python3"
  },
  "language_info": {
   "codemirror_mode": {
    "name": "ipython",
    "version": 3
   },
   "file_extension": ".py",
   "mimetype": "text/x-python",
   "name": "python",
   "nbconvert_exporter": "python",
   "pygments_lexer": "ipython3",
   "version": "3.9.13"
  }
 },
 "nbformat": 4,
 "nbformat_minor": 4
}
