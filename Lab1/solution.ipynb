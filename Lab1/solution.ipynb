{
 "cells": [
  {
   "cell_type": "code",
   "execution_count": 3,
   "metadata": {
    "colab": {
     "base_uri": "https://localhost:8080/",
     "height": 278
    },
    "id": "TMweFM5TagqD",
    "outputId": "5c201c3b-2ab8-4418-987e-a1e9d45d78a3"
   },
   "outputs": [
    {
     "name": "stderr",
     "output_type": "stream",
     "text": [
      "c:\\Users\\Utente\\anaconda3\\lib\\site-packages\\numpy\\_distributor_init.py:30: UserWarning: loaded more than 1 DLL from .libs:\n",
      "c:\\Users\\Utente\\anaconda3\\lib\\site-packages\\numpy\\.libs\\libopenblas.XWYDX2IKJW2NMTWSFYNGFUWKQU3LYTCZ.gfortran-win_amd64.dll\n",
      "c:\\Users\\Utente\\anaconda3\\lib\\site-packages\\numpy\\.libs\\libopenblas64__v0.3.21-gcc_10_3_0.dll\n",
      "  warnings.warn(\"loaded more than 1 DLL from .libs:\"\n"
     ]
    },
    {
     "data": {
      "text/html": [
       "<div>\n",
       "<style scoped>\n",
       "    .dataframe tbody tr th:only-of-type {\n",
       "        vertical-align: middle;\n",
       "    }\n",
       "\n",
       "    .dataframe tbody tr th {\n",
       "        vertical-align: top;\n",
       "    }\n",
       "\n",
       "    .dataframe thead th {\n",
       "        text-align: right;\n",
       "    }\n",
       "</style>\n",
       "<table border=\"1\" class=\"dataframe\">\n",
       "  <thead>\n",
       "    <tr style=\"text-align: right;\">\n",
       "      <th></th>\n",
       "      <th>Year</th>\n",
       "      <th>Agriculture</th>\n",
       "      <th>Architecture</th>\n",
       "      <th>Art and Performance</th>\n",
       "      <th>Biology</th>\n",
       "      <th>Business</th>\n",
       "      <th>Communications and Journalism</th>\n",
       "      <th>Computer Science</th>\n",
       "      <th>Education</th>\n",
       "      <th>Engineering</th>\n",
       "      <th>English</th>\n",
       "      <th>Foreign Languages</th>\n",
       "      <th>Health Professions</th>\n",
       "      <th>Math and Statistics</th>\n",
       "      <th>Physical Sciences</th>\n",
       "      <th>Psychology</th>\n",
       "      <th>Public Administration</th>\n",
       "      <th>Social Sciences and History</th>\n",
       "    </tr>\n",
       "  </thead>\n",
       "  <tbody>\n",
       "    <tr>\n",
       "      <th>0</th>\n",
       "      <td>1970</td>\n",
       "      <td>4.229798</td>\n",
       "      <td>11.921005</td>\n",
       "      <td>59.7</td>\n",
       "      <td>29.088363</td>\n",
       "      <td>9.064439</td>\n",
       "      <td>35.3</td>\n",
       "      <td>13.6</td>\n",
       "      <td>74.535328</td>\n",
       "      <td>0.8</td>\n",
       "      <td>65.570923</td>\n",
       "      <td>73.8</td>\n",
       "      <td>77.1</td>\n",
       "      <td>38.0</td>\n",
       "      <td>13.8</td>\n",
       "      <td>44.4</td>\n",
       "      <td>68.4</td>\n",
       "      <td>36.8</td>\n",
       "    </tr>\n",
       "    <tr>\n",
       "      <th>1</th>\n",
       "      <td>1971</td>\n",
       "      <td>5.452797</td>\n",
       "      <td>12.003106</td>\n",
       "      <td>59.9</td>\n",
       "      <td>29.394403</td>\n",
       "      <td>9.503187</td>\n",
       "      <td>35.5</td>\n",
       "      <td>13.6</td>\n",
       "      <td>74.149204</td>\n",
       "      <td>1.0</td>\n",
       "      <td>64.556485</td>\n",
       "      <td>73.9</td>\n",
       "      <td>75.5</td>\n",
       "      <td>39.0</td>\n",
       "      <td>14.9</td>\n",
       "      <td>46.2</td>\n",
       "      <td>65.5</td>\n",
       "      <td>36.2</td>\n",
       "    </tr>\n",
       "    <tr>\n",
       "      <th>2</th>\n",
       "      <td>1972</td>\n",
       "      <td>7.420710</td>\n",
       "      <td>13.214594</td>\n",
       "      <td>60.4</td>\n",
       "      <td>29.810221</td>\n",
       "      <td>10.558962</td>\n",
       "      <td>36.6</td>\n",
       "      <td>14.9</td>\n",
       "      <td>73.554520</td>\n",
       "      <td>1.2</td>\n",
       "      <td>63.664263</td>\n",
       "      <td>74.6</td>\n",
       "      <td>76.9</td>\n",
       "      <td>40.2</td>\n",
       "      <td>14.8</td>\n",
       "      <td>47.6</td>\n",
       "      <td>62.6</td>\n",
       "      <td>36.1</td>\n",
       "    </tr>\n",
       "    <tr>\n",
       "      <th>3</th>\n",
       "      <td>1973</td>\n",
       "      <td>9.653602</td>\n",
       "      <td>14.791613</td>\n",
       "      <td>60.2</td>\n",
       "      <td>31.147915</td>\n",
       "      <td>12.804602</td>\n",
       "      <td>38.4</td>\n",
       "      <td>16.4</td>\n",
       "      <td>73.501814</td>\n",
       "      <td>1.6</td>\n",
       "      <td>62.941502</td>\n",
       "      <td>74.9</td>\n",
       "      <td>77.4</td>\n",
       "      <td>40.9</td>\n",
       "      <td>16.5</td>\n",
       "      <td>50.4</td>\n",
       "      <td>64.3</td>\n",
       "      <td>36.4</td>\n",
       "    </tr>\n",
       "    <tr>\n",
       "      <th>4</th>\n",
       "      <td>1974</td>\n",
       "      <td>14.074623</td>\n",
       "      <td>17.444688</td>\n",
       "      <td>61.9</td>\n",
       "      <td>32.996183</td>\n",
       "      <td>16.204850</td>\n",
       "      <td>40.5</td>\n",
       "      <td>18.9</td>\n",
       "      <td>73.336811</td>\n",
       "      <td>2.2</td>\n",
       "      <td>62.413412</td>\n",
       "      <td>75.3</td>\n",
       "      <td>77.9</td>\n",
       "      <td>41.8</td>\n",
       "      <td>18.2</td>\n",
       "      <td>52.6</td>\n",
       "      <td>66.1</td>\n",
       "      <td>37.3</td>\n",
       "    </tr>\n",
       "  </tbody>\n",
       "</table>\n",
       "</div>"
      ],
      "text/plain": [
       "   Year  Agriculture  Architecture  Art and Performance    Biology   Business  \\\n",
       "0  1970     4.229798     11.921005                 59.7  29.088363   9.064439   \n",
       "1  1971     5.452797     12.003106                 59.9  29.394403   9.503187   \n",
       "2  1972     7.420710     13.214594                 60.4  29.810221  10.558962   \n",
       "3  1973     9.653602     14.791613                 60.2  31.147915  12.804602   \n",
       "4  1974    14.074623     17.444688                 61.9  32.996183  16.204850   \n",
       "\n",
       "   Communications and Journalism  Computer Science  Education  Engineering  \\\n",
       "0                           35.3              13.6  74.535328          0.8   \n",
       "1                           35.5              13.6  74.149204          1.0   \n",
       "2                           36.6              14.9  73.554520          1.2   \n",
       "3                           38.4              16.4  73.501814          1.6   \n",
       "4                           40.5              18.9  73.336811          2.2   \n",
       "\n",
       "     English  Foreign Languages  Health Professions  Math and Statistics  \\\n",
       "0  65.570923               73.8                77.1                 38.0   \n",
       "1  64.556485               73.9                75.5                 39.0   \n",
       "2  63.664263               74.6                76.9                 40.2   \n",
       "3  62.941502               74.9                77.4                 40.9   \n",
       "4  62.413412               75.3                77.9                 41.8   \n",
       "\n",
       "   Physical Sciences  Psychology  Public Administration  \\\n",
       "0               13.8        44.4                   68.4   \n",
       "1               14.9        46.2                   65.5   \n",
       "2               14.8        47.6                   62.6   \n",
       "3               16.5        50.4                   64.3   \n",
       "4               18.2        52.6                   66.1   \n",
       "\n",
       "   Social Sciences and History  \n",
       "0                         36.8  \n",
       "1                         36.2  \n",
       "2                         36.1  \n",
       "3                         36.4  \n",
       "4                         37.3  "
      ]
     },
     "execution_count": 3,
     "metadata": {},
     "output_type": "execute_result"
    }
   ],
   "source": [
    "import pandas as pd\n",
    "import plotly as py\n",
    "from plotly import express as px\n",
    "import matplotlib.pyplot as plt\n",
    "\n",
    "degree_gender_ratio = pd.read_csv('data/percent-degrees-conferred-women-usa.csv')\n",
    "\n",
    "degree_gender_ratio.head()\n"
   ]
  },
  {
   "cell_type": "markdown",
   "metadata": {},
   "source": [
    "modified exercise sent by student. Need to change colormap\n",
    "We can reshape the dataframe to be able to use color by category!"
   ]
  },
  {
   "cell_type": "code",
   "execution_count": 13,
   "metadata": {
    "colab": {
     "base_uri": "https://localhost:8080/",
     "height": 542
    },
    "id": "vGXGKZYNf7rh",
    "outputId": "e7a4d3b1-0aab-4948-e6c3-4a2c8440f092"
   },
   "outputs": [
    {
     "data": {
      "application/vnd.plotly.v1+json": {
       "config": {
        "plotlyServerURL": "https://plot.ly"
       },
       "data": [
        {
         "hovertemplate": "variable=Agriculture<br>Year=%{x}<br>value=%{y}<extra></extra>",
         "legendgroup": "Agriculture",
         "line": {
          "color": "#AA0DFE",
          "dash": "solid"
         },
         "marker": {
          "symbol": "circle"
         },
         "mode": "lines",
         "name": "Agriculture",
         "orientation": "v",
         "showlegend": true,
         "type": "scatter",
         "x": [
          1970,
          1971,
          1972,
          1973,
          1974,
          1975,
          1976,
          1977,
          1978,
          1979,
          1980,
          1981,
          1982,
          1983,
          1984,
          1985,
          1986,
          1987,
          1988,
          1989,
          1990,
          1991,
          1992,
          1993,
          1994,
          1995,
          1996,
          1997,
          1998,
          1999,
          2000,
          2001,
          2002,
          2003,
          2004,
          2005,
          2006,
          2007,
          2008,
          2009,
          2010,
          2011
         ],
         "xaxis": "x",
         "y": [
          4.22979798,
          5.452796685,
          7.42071022,
          9.653602412,
          14.07462346,
          18.33316153,
          22.25276005,
          24.6401766,
          27.14619175,
          29.63336549,
          30.75938956,
          31.31865519,
          32.63666364,
          31.6353471,
          31.09294748,
          31.3796588,
          31.19871923,
          31.48642948,
          31.08508746,
          31.6124031,
          32.70344407,
          34.71183749,
          33.93165961,
          34.94683208,
          36.03267447,
          36.84480747,
          38.96977475,
          40.68568483,
          41.91240333,
          42.88720191,
          45.05776637,
          45.86601517,
          47.13465821,
          47.93518721,
          47.88714025,
          47.67275409,
          46.79029957,
          47.60502633,
          47.570834,
          48.66722357,
          48.73004227,
          50.03718193
         ],
         "yaxis": "y"
        },
        {
         "hovertemplate": "variable=Architecture<br>Year=%{x}<br>value=%{y}<extra></extra>",
         "legendgroup": "Architecture",
         "line": {
          "color": "#3283FE",
          "dash": "solid"
         },
         "marker": {
          "symbol": "circle"
         },
         "mode": "lines",
         "name": "Architecture",
         "orientation": "v",
         "showlegend": true,
         "type": "scatter",
         "x": [
          1970,
          1971,
          1972,
          1973,
          1974,
          1975,
          1976,
          1977,
          1978,
          1979,
          1980,
          1981,
          1982,
          1983,
          1984,
          1985,
          1986,
          1987,
          1988,
          1989,
          1990,
          1991,
          1992,
          1993,
          1994,
          1995,
          1996,
          1997,
          1998,
          1999,
          2000,
          2001,
          2002,
          2003,
          2004,
          2005,
          2006,
          2007,
          2008,
          2009,
          2010,
          2011
         ],
         "xaxis": "x",
         "y": [
          11.92100539,
          12.00310559,
          13.21459351,
          14.7916134,
          17.44468758,
          19.13404767,
          21.39449143,
          23.74054054,
          25.84923973,
          27.77047744,
          28.08038075,
          29.84169408,
          34.81624758,
          35.82625735,
          35.45308311,
          36.13334795,
          37.24022346,
          38.73067535,
          39.3989071,
          39.09653994,
          40.82404662,
          33.67988118,
          35.20235628,
          35.77715877,
          34.43353129,
          36.06321839,
          35.9264854,
          35.10193413,
          37.59854457,
          38.63152919,
          40.02358491,
          40.69028156,
          41.13295053,
          42.75854266,
          43.46649345,
          43.10036784,
          44.49933107,
          43.10045895,
          42.71173041,
          43.34892051,
          42.06672091,
          42.7734375
         ],
         "yaxis": "y"
        },
        {
         "hovertemplate": "variable=Art and Performance<br>Year=%{x}<br>value=%{y}<extra></extra>",
         "legendgroup": "Art and Performance",
         "line": {
          "color": "#85660D",
          "dash": "solid"
         },
         "marker": {
          "symbol": "circle"
         },
         "mode": "lines",
         "name": "Art and Performance",
         "orientation": "v",
         "showlegend": true,
         "type": "scatter",
         "x": [
          1970,
          1971,
          1972,
          1973,
          1974,
          1975,
          1976,
          1977,
          1978,
          1979,
          1980,
          1981,
          1982,
          1983,
          1984,
          1985,
          1986,
          1987,
          1988,
          1989,
          1990,
          1991,
          1992,
          1993,
          1994,
          1995,
          1996,
          1997,
          1998,
          1999,
          2000,
          2001,
          2002,
          2003,
          2004,
          2005,
          2006,
          2007,
          2008,
          2009,
          2010,
          2011
         ],
         "xaxis": "x",
         "y": [
          59.7,
          59.9,
          60.4,
          60.2,
          61.9,
          60.9,
          61.3,
          62,
          62.5,
          63.2,
          63.4,
          63.3,
          63.1,
          62.4,
          62.1,
          61.8,
          62.1,
          61.7,
          61.7,
          62,
          62.6,
          62.1,
          61,
          60.2,
          59.4,
          59.2,
          58.6,
          58.7,
          59.1,
          59.2,
          59.2,
          59.4,
          60.9,
          61.1,
          61.3,
          61.4,
          61.6,
          61.4,
          60.7,
          61,
          61.3,
          61.2
         ],
         "yaxis": "y"
        },
        {
         "hovertemplate": "variable=Biology<br>Year=%{x}<br>value=%{y}<extra></extra>",
         "legendgroup": "Biology",
         "line": {
          "color": "#782AB6",
          "dash": "solid"
         },
         "marker": {
          "symbol": "circle"
         },
         "mode": "lines",
         "name": "Biology",
         "orientation": "v",
         "showlegend": true,
         "type": "scatter",
         "x": [
          1970,
          1971,
          1972,
          1973,
          1974,
          1975,
          1976,
          1977,
          1978,
          1979,
          1980,
          1981,
          1982,
          1983,
          1984,
          1985,
          1986,
          1987,
          1988,
          1989,
          1990,
          1991,
          1992,
          1993,
          1994,
          1995,
          1996,
          1997,
          1998,
          1999,
          2000,
          2001,
          2002,
          2003,
          2004,
          2005,
          2006,
          2007,
          2008,
          2009,
          2010,
          2011
         ],
         "xaxis": "x",
         "y": [
          29.08836297,
          29.39440285,
          29.81022105,
          31.14791477,
          32.99618284,
          34.44990213,
          36.07287146,
          38.33138629,
          40.11249564,
          42.06555109,
          43.99925716,
          45.24951206,
          45.96733794,
          46.71313451,
          47.66908276,
          47.9098841,
          48.30067763,
          50.20987789,
          50.09981147,
          50.77471585,
          50.81809432,
          51.46880537,
          51.34974154,
          51.12484404,
          52.2462176,
          52.59940342,
          53.78988011,
          54.99946903,
          56.35124789,
          58.22882288,
          59.38985737,
          60.71233149,
          61.8951284,
          62.1694558,
          61.91458697,
          61.50098432,
          60.17284465,
          59.41199314,
          59.30576517,
          58.48958333,
          59.01025521,
          58.7423969
         ],
         "yaxis": "y"
        },
        {
         "hovertemplate": "variable=Business<br>Year=%{x}<br>value=%{y}<extra></extra>",
         "legendgroup": "Business",
         "line": {
          "color": "#565656",
          "dash": "solid"
         },
         "marker": {
          "symbol": "circle"
         },
         "mode": "lines",
         "name": "Business",
         "orientation": "v",
         "showlegend": true,
         "type": "scatter",
         "x": [
          1970,
          1971,
          1972,
          1973,
          1974,
          1975,
          1976,
          1977,
          1978,
          1979,
          1980,
          1981,
          1982,
          1983,
          1984,
          1985,
          1986,
          1987,
          1988,
          1989,
          1990,
          1991,
          1992,
          1993,
          1994,
          1995,
          1996,
          1997,
          1998,
          1999,
          2000,
          2001,
          2002,
          2003,
          2004,
          2005,
          2006,
          2007,
          2008,
          2009,
          2010,
          2011
         ],
         "xaxis": "x",
         "y": [
          9.064438975,
          9.503186594,
          10.5589621,
          12.80460152,
          16.20485038,
          19.68624931,
          23.4300375,
          27.16342715,
          30.52751868,
          33.62163381,
          36.76572529,
          39.26622984,
          41.94937335,
          43.54206966,
          45.12403027,
          45.747782,
          46.53291505,
          46.69046648,
          46.7648277,
          46.7815648,
          47.20085084,
          47.22432481,
          47.21939541,
          47.63933161,
          47.98392441,
          48.57318101,
          48.6473926,
          48.56105033,
          49.2585152,
          49.81020815,
          49.80361649,
          50.27514494,
          50.5523346,
          50.34559774,
          49.95089449,
          49.79185139,
          49.21091439,
          49.00045935,
          48.88802678,
          48.84047414,
          48.75798769,
          48.18041792
         ],
         "yaxis": "y"
        },
        {
         "hovertemplate": "variable=Communications and Journalism<br>Year=%{x}<br>value=%{y}<extra></extra>",
         "legendgroup": "Communications and Journalism",
         "line": {
          "color": "#1C8356",
          "dash": "solid"
         },
         "marker": {
          "symbol": "circle"
         },
         "mode": "lines",
         "name": "Communications and Journalism",
         "orientation": "v",
         "showlegend": true,
         "type": "scatter",
         "x": [
          1970,
          1971,
          1972,
          1973,
          1974,
          1975,
          1976,
          1977,
          1978,
          1979,
          1980,
          1981,
          1982,
          1983,
          1984,
          1985,
          1986,
          1987,
          1988,
          1989,
          1990,
          1991,
          1992,
          1993,
          1994,
          1995,
          1996,
          1997,
          1998,
          1999,
          2000,
          2001,
          2002,
          2003,
          2004,
          2005,
          2006,
          2007,
          2008,
          2009,
          2010,
          2011
         ],
         "xaxis": "x",
         "y": [
          35.3,
          35.5,
          36.6,
          38.4,
          40.5,
          41.5,
          44.3,
          46.9,
          49.9,
          52.3,
          54.7,
          56.4,
          58,
          58.6,
          59.1,
          59,
          60,
          60.2,
          60.4,
          60.5,
          60.8,
          60.8,
          59.7,
          58.7,
          58.1,
          58.8,
          58.7,
          60,
          60,
          61.2,
          61.9,
          63,
          63.7,
          64.6,
          64.2,
          63.4,
          63,
          62.5,
          62.4,
          62.8,
          62.5,
          62.2
         ],
         "yaxis": "y"
        },
        {
         "hovertemplate": "variable=Computer Science<br>Year=%{x}<br>value=%{y}<extra></extra>",
         "legendgroup": "Computer Science",
         "line": {
          "color": "#16FF32",
          "dash": "solid"
         },
         "marker": {
          "symbol": "circle"
         },
         "mode": "lines",
         "name": "Computer Science",
         "orientation": "v",
         "showlegend": true,
         "type": "scatter",
         "x": [
          1970,
          1971,
          1972,
          1973,
          1974,
          1975,
          1976,
          1977,
          1978,
          1979,
          1980,
          1981,
          1982,
          1983,
          1984,
          1985,
          1986,
          1987,
          1988,
          1989,
          1990,
          1991,
          1992,
          1993,
          1994,
          1995,
          1996,
          1997,
          1998,
          1999,
          2000,
          2001,
          2002,
          2003,
          2004,
          2005,
          2006,
          2007,
          2008,
          2009,
          2010,
          2011
         ],
         "xaxis": "x",
         "y": [
          13.6,
          13.6,
          14.9,
          16.4,
          18.9,
          19.8,
          23.9,
          25.7,
          28.1,
          30.2,
          32.5,
          34.8,
          36.3,
          37.1,
          36.8,
          35.7,
          34.7,
          32.4,
          30.8,
          29.9,
          29.4,
          28.7,
          28.2,
          28.5,
          28.5,
          27.5,
          27.1,
          26.8,
          27,
          28.1,
          27.7,
          27.6,
          27,
          25.1,
          22.2,
          20.6,
          18.6,
          17.6,
          17.8,
          18.1,
          17.6,
          18.2
         ],
         "yaxis": "y"
        },
        {
         "hovertemplate": "variable=Education<br>Year=%{x}<br>value=%{y}<extra></extra>",
         "legendgroup": "Education",
         "line": {
          "color": "#F7E1A0",
          "dash": "solid"
         },
         "marker": {
          "symbol": "circle"
         },
         "mode": "lines",
         "name": "Education",
         "orientation": "v",
         "showlegend": true,
         "type": "scatter",
         "x": [
          1970,
          1971,
          1972,
          1973,
          1974,
          1975,
          1976,
          1977,
          1978,
          1979,
          1980,
          1981,
          1982,
          1983,
          1984,
          1985,
          1986,
          1987,
          1988,
          1989,
          1990,
          1991,
          1992,
          1993,
          1994,
          1995,
          1996,
          1997,
          1998,
          1999,
          2000,
          2001,
          2002,
          2003,
          2004,
          2005,
          2006,
          2007,
          2008,
          2009,
          2010,
          2011
         ],
         "xaxis": "x",
         "y": [
          74.53532758,
          74.14920369,
          73.55451996,
          73.50181443,
          73.33681143,
          72.80185448,
          72.16652471,
          72.45639481,
          73.19282134,
          73.82114234,
          74.98103152,
          75.84512345,
          75.84364914,
          75.95060123,
          75.86911601,
          75.92343971,
          76.14301516,
          76.96309168,
          77.62766177,
          78.11191872,
          78.86685859,
          78.99124597,
          78.43518191,
          77.26731199,
          75.81493264,
          75.12525621,
          75.03519921,
          75.1637013,
          75.48616027,
          75.83816206,
          76.69214284,
          77.37522931,
          78.64424394,
          78.54494815,
          78.65074774,
          79.06712173,
          78.68630551,
          78.72141311,
          79.19632674,
          79.5329087,
          79.61862451,
          79.43281184
         ],
         "yaxis": "y"
        },
        {
         "hovertemplate": "variable=Engineering<br>Year=%{x}<br>value=%{y}<extra></extra>",
         "legendgroup": "Engineering",
         "line": {
          "color": "#E2E2E2",
          "dash": "solid"
         },
         "marker": {
          "symbol": "circle"
         },
         "mode": "lines",
         "name": "Engineering",
         "orientation": "v",
         "showlegend": true,
         "type": "scatter",
         "x": [
          1970,
          1971,
          1972,
          1973,
          1974,
          1975,
          1976,
          1977,
          1978,
          1979,
          1980,
          1981,
          1982,
          1983,
          1984,
          1985,
          1986,
          1987,
          1988,
          1989,
          1990,
          1991,
          1992,
          1993,
          1994,
          1995,
          1996,
          1997,
          1998,
          1999,
          2000,
          2001,
          2002,
          2003,
          2004,
          2005,
          2006,
          2007,
          2008,
          2009,
          2010,
          2011
         ],
         "xaxis": "x",
         "y": [
          0.8,
          1,
          1.2,
          1.6,
          2.2,
          3.2,
          4.5,
          6.8,
          8.4,
          9.4,
          10.3,
          11.6,
          12.4,
          13.1,
          13.5,
          13.5,
          13.9,
          14,
          13.9,
          14.1,
          14.1,
          14,
          14.5,
          14.9,
          15.7,
          16.2,
          16.7,
          17,
          17.8,
          18.6,
          18.4,
          19,
          18.7,
          18.8,
          18.2,
          17.9,
          16.8,
          16.8,
          16.5,
          16.8,
          17.2,
          17.5
         ],
         "yaxis": "y"
        },
        {
         "hovertemplate": "variable=English<br>Year=%{x}<br>value=%{y}<extra></extra>",
         "legendgroup": "English",
         "line": {
          "color": "#1CBE4F",
          "dash": "solid"
         },
         "marker": {
          "symbol": "circle"
         },
         "mode": "lines",
         "name": "English",
         "orientation": "v",
         "showlegend": true,
         "type": "scatter",
         "x": [
          1970,
          1971,
          1972,
          1973,
          1974,
          1975,
          1976,
          1977,
          1978,
          1979,
          1980,
          1981,
          1982,
          1983,
          1984,
          1985,
          1986,
          1987,
          1988,
          1989,
          1990,
          1991,
          1992,
          1993,
          1994,
          1995,
          1996,
          1997,
          1998,
          1999,
          2000,
          2001,
          2002,
          2003,
          2004,
          2005,
          2006,
          2007,
          2008,
          2009,
          2010,
          2011
         ],
         "xaxis": "x",
         "y": [
          65.57092343,
          64.55648516,
          63.6642632,
          62.94150212,
          62.41341209,
          61.64720641,
          62.14819377,
          62.72306675,
          63.61912216,
          65.08838972,
          65.28413007,
          65.83832154,
          65.84735212,
          65.91837999,
          65.74986233,
          65.79819852,
          65.98256091,
          66.70603055,
          67.14449816,
          67.01707156,
          66.92190193,
          66.24147465,
          65.62245655,
          65.73095014,
          65.64197772,
          65.93694921,
          66.43777883,
          66.78635548,
          67.2554484,
          67.82022113,
          68.36599498,
          68.57852029,
          68.82995959,
          68.89448726,
          68.45473436,
          68.57122114,
          68.29759443,
          67.87492278,
          67.59402834,
          67.96979204,
          67.92810557,
          68.42673015
         ],
         "yaxis": "y"
        },
        {
         "hovertemplate": "variable=Foreign Languages<br>Year=%{x}<br>value=%{y}<extra></extra>",
         "legendgroup": "Foreign Languages",
         "line": {
          "color": "#C4451C",
          "dash": "solid"
         },
         "marker": {
          "symbol": "circle"
         },
         "mode": "lines",
         "name": "Foreign Languages",
         "orientation": "v",
         "showlegend": true,
         "type": "scatter",
         "x": [
          1970,
          1971,
          1972,
          1973,
          1974,
          1975,
          1976,
          1977,
          1978,
          1979,
          1980,
          1981,
          1982,
          1983,
          1984,
          1985,
          1986,
          1987,
          1988,
          1989,
          1990,
          1991,
          1992,
          1993,
          1994,
          1995,
          1996,
          1997,
          1998,
          1999,
          2000,
          2001,
          2002,
          2003,
          2004,
          2005,
          2006,
          2007,
          2008,
          2009,
          2010,
          2011
         ],
         "xaxis": "x",
         "y": [
          73.8,
          73.9,
          74.6,
          74.9,
          75.3,
          75,
          74.4,
          74.3,
          74.3,
          74.2,
          74.1,
          73.9,
          72.7,
          71.8,
          72.1,
          70.8,
          71.2,
          72,
          72.3,
          72.4,
          71.2,
          71.1,
          71,
          70,
          69.1,
          69.6,
          69.7,
          70,
          70.1,
          70.9,
          70.9,
          71.2,
          70.5,
          70.6,
          70.8,
          69.9,
          69.6,
          70.2,
          70.2,
          69.3,
          69,
          69.5
         ],
         "yaxis": "y"
        },
        {
         "hovertemplate": "variable=Health Professions<br>Year=%{x}<br>value=%{y}<extra></extra>",
         "legendgroup": "Health Professions",
         "line": {
          "color": "#DEA0FD",
          "dash": "solid"
         },
         "marker": {
          "symbol": "circle"
         },
         "mode": "lines",
         "name": "Health Professions",
         "orientation": "v",
         "showlegend": true,
         "type": "scatter",
         "x": [
          1970,
          1971,
          1972,
          1973,
          1974,
          1975,
          1976,
          1977,
          1978,
          1979,
          1980,
          1981,
          1982,
          1983,
          1984,
          1985,
          1986,
          1987,
          1988,
          1989,
          1990,
          1991,
          1992,
          1993,
          1994,
          1995,
          1996,
          1997,
          1998,
          1999,
          2000,
          2001,
          2002,
          2003,
          2004,
          2005,
          2006,
          2007,
          2008,
          2009,
          2010,
          2011
         ],
         "xaxis": "x",
         "y": [
          77.1,
          75.5,
          76.9,
          77.4,
          77.9,
          78.9,
          79.2,
          80.5,
          81.9,
          82.3,
          83.5,
          84.1,
          84.4,
          84.6,
          85.1,
          85.3,
          85.7,
          85.5,
          85.2,
          84.6,
          83.9,
          83.5,
          83,
          82.4,
          81.8,
          81.5,
          81.3,
          81.9,
          82.1,
          83.5,
          83.5,
          85.1,
          85.8,
          86.5,
          86.5,
          86,
          85.9,
          85.4,
          85.2,
          85.1,
          85,
          84.8
         ],
         "yaxis": "y"
        },
        {
         "hovertemplate": "variable=Math and Statistics<br>Year=%{x}<br>value=%{y}<extra></extra>",
         "legendgroup": "Math and Statistics",
         "line": {
          "color": "#FE00FA",
          "dash": "solid"
         },
         "marker": {
          "symbol": "circle"
         },
         "mode": "lines",
         "name": "Math and Statistics",
         "orientation": "v",
         "showlegend": true,
         "type": "scatter",
         "x": [
          1970,
          1971,
          1972,
          1973,
          1974,
          1975,
          1976,
          1977,
          1978,
          1979,
          1980,
          1981,
          1982,
          1983,
          1984,
          1985,
          1986,
          1987,
          1988,
          1989,
          1990,
          1991,
          1992,
          1993,
          1994,
          1995,
          1996,
          1997,
          1998,
          1999,
          2000,
          2001,
          2002,
          2003,
          2004,
          2005,
          2006,
          2007,
          2008,
          2009,
          2010,
          2011
         ],
         "xaxis": "x",
         "y": [
          38,
          39,
          40.2,
          40.9,
          41.8,
          40.7,
          41.5,
          41.1,
          41.6,
          42.3,
          42.8,
          43.2,
          44,
          44.3,
          46.2,
          46.5,
          46.7,
          46.5,
          46.2,
          46.2,
          47.3,
          47,
          47.4,
          46.4,
          47,
          46.1,
          46.4,
          47,
          48.3,
          47.8,
          48.2,
          47,
          45.7,
          46,
          44.7,
          45.1,
          44.1,
          44.1,
          43.3,
          43.3,
          43.1,
          43.1
         ],
         "yaxis": "y"
        },
        {
         "hovertemplate": "variable=Physical Sciences<br>Year=%{x}<br>value=%{y}<extra></extra>",
         "legendgroup": "Physical Sciences",
         "line": {
          "color": "#325A9B",
          "dash": "solid"
         },
         "marker": {
          "symbol": "circle"
         },
         "mode": "lines",
         "name": "Physical Sciences",
         "orientation": "v",
         "showlegend": true,
         "type": "scatter",
         "x": [
          1970,
          1971,
          1972,
          1973,
          1974,
          1975,
          1976,
          1977,
          1978,
          1979,
          1980,
          1981,
          1982,
          1983,
          1984,
          1985,
          1986,
          1987,
          1988,
          1989,
          1990,
          1991,
          1992,
          1993,
          1994,
          1995,
          1996,
          1997,
          1998,
          1999,
          2000,
          2001,
          2002,
          2003,
          2004,
          2005,
          2006,
          2007,
          2008,
          2009,
          2010,
          2011
         ],
         "xaxis": "x",
         "y": [
          13.8,
          14.9,
          14.8,
          16.5,
          18.2,
          19.1,
          20,
          21.3,
          22.5,
          23.7,
          24.6,
          25.7,
          27.3,
          27.6,
          28,
          27.5,
          28.4,
          30.4,
          29.7,
          31.3,
          31.6,
          32.6,
          32.6,
          33.6,
          34.8,
          35.9,
          37.3,
          38.3,
          39.7,
          40.2,
          41,
          42.2,
          41.1,
          41.7,
          42.1,
          41.6,
          40.8,
          40.7,
          40.7,
          40.7,
          40.2,
          40.1
         ],
         "yaxis": "y"
        },
        {
         "hovertemplate": "variable=Psychology<br>Year=%{x}<br>value=%{y}<extra></extra>",
         "legendgroup": "Psychology",
         "line": {
          "color": "#FEAF16",
          "dash": "solid"
         },
         "marker": {
          "symbol": "circle"
         },
         "mode": "lines",
         "name": "Psychology",
         "orientation": "v",
         "showlegend": true,
         "type": "scatter",
         "x": [
          1970,
          1971,
          1972,
          1973,
          1974,
          1975,
          1976,
          1977,
          1978,
          1979,
          1980,
          1981,
          1982,
          1983,
          1984,
          1985,
          1986,
          1987,
          1988,
          1989,
          1990,
          1991,
          1992,
          1993,
          1994,
          1995,
          1996,
          1997,
          1998,
          1999,
          2000,
          2001,
          2002,
          2003,
          2004,
          2005,
          2006,
          2007,
          2008,
          2009,
          2010,
          2011
         ],
         "xaxis": "x",
         "y": [
          44.4,
          46.2,
          47.6,
          50.4,
          52.6,
          54.5,
          56.9,
          59,
          61.3,
          63.3,
          65.1,
          66.9,
          67.5,
          67.9,
          68.2,
          69,
          69,
          70.1,
          70.9,
          71.6,
          72.6,
          73.2,
          73.2,
          73.1,
          72.9,
          73,
          73.9,
          74.4,
          75.1,
          76.5,
          77.5,
          77.5,
          77.7,
          77.8,
          77.8,
          77.5,
          77.4,
          77.1,
          77.2,
          77.1,
          77,
          76.7
         ],
         "yaxis": "y"
        },
        {
         "hovertemplate": "variable=Public Administration<br>Year=%{x}<br>value=%{y}<extra></extra>",
         "legendgroup": "Public Administration",
         "line": {
          "color": "#F8A19F",
          "dash": "solid"
         },
         "marker": {
          "symbol": "circle"
         },
         "mode": "lines",
         "name": "Public Administration",
         "orientation": "v",
         "showlegend": true,
         "type": "scatter",
         "x": [
          1970,
          1971,
          1972,
          1973,
          1974,
          1975,
          1976,
          1977,
          1978,
          1979,
          1980,
          1981,
          1982,
          1983,
          1984,
          1985,
          1986,
          1987,
          1988,
          1989,
          1990,
          1991,
          1992,
          1993,
          1994,
          1995,
          1996,
          1997,
          1998,
          1999,
          2000,
          2001,
          2002,
          2003,
          2004,
          2005,
          2006,
          2007,
          2008,
          2009,
          2010,
          2011
         ],
         "xaxis": "x",
         "y": [
          68.4,
          65.5,
          62.6,
          64.3,
          66.1,
          63,
          65.6,
          69.3,
          71.5,
          73.3,
          74.6,
          74.7,
          76.8,
          76.1,
          75.9,
          75,
          75.7,
          76.4,
          75.6,
          76,
          77.6,
          78.2,
          77.3,
          78,
          78.8,
          78.8,
          79.8,
          81,
          81.3,
          81.1,
          81.1,
          80.9,
          81.3,
          81.5,
          80.7,
          81.2,
          81.2,
          82.1,
          81.7,
          82,
          81.7,
          81.9
         ],
         "yaxis": "y"
        },
        {
         "hovertemplate": "variable=Social Sciences and History<br>Year=%{x}<br>value=%{y}<extra></extra>",
         "legendgroup": "Social Sciences and History",
         "line": {
          "color": "#90AD1C",
          "dash": "solid"
         },
         "marker": {
          "symbol": "circle"
         },
         "mode": "lines",
         "name": "Social Sciences and History",
         "orientation": "v",
         "showlegend": true,
         "type": "scatter",
         "x": [
          1970,
          1971,
          1972,
          1973,
          1974,
          1975,
          1976,
          1977,
          1978,
          1979,
          1980,
          1981,
          1982,
          1983,
          1984,
          1985,
          1986,
          1987,
          1988,
          1989,
          1990,
          1991,
          1992,
          1993,
          1994,
          1995,
          1996,
          1997,
          1998,
          1999,
          2000,
          2001,
          2002,
          2003,
          2004,
          2005,
          2006,
          2007,
          2008,
          2009,
          2010,
          2011
         ],
         "xaxis": "x",
         "y": [
          36.8,
          36.2,
          36.1,
          36.4,
          37.3,
          37.7,
          39.2,
          40.5,
          41.8,
          43.6,
          44.2,
          44.6,
          44.6,
          44.1,
          44.1,
          43.8,
          44,
          43.9,
          44.4,
          44.2,
          45.1,
          45.5,
          45.8,
          46.1,
          46.8,
          47.9,
          48.7,
          49.2,
          50.5,
          51.2,
          51.8,
          51.7,
          51.5,
          50.9,
          50.5,
          50,
          49.8,
          49.3,
          49.4,
          49.4,
          49.3,
          49.2
         ],
         "yaxis": "y"
        }
       ],
       "layout": {
        "legend": {
         "font": {
          "color": "black",
          "size": 8
         },
         "title": {
          "text": "<b> Major </b>"
         },
         "tracegroupgap": 0
        },
        "margin": {
         "t": 60
        },
        "template": {
         "data": {
          "bar": [
           {
            "error_x": {
             "color": "#2a3f5f"
            },
            "error_y": {
             "color": "#2a3f5f"
            },
            "marker": {
             "line": {
              "color": "#E5ECF6",
              "width": 0.5
             },
             "pattern": {
              "fillmode": "overlay",
              "size": 10,
              "solidity": 0.2
             }
            },
            "type": "bar"
           }
          ],
          "barpolar": [
           {
            "marker": {
             "line": {
              "color": "#E5ECF6",
              "width": 0.5
             },
             "pattern": {
              "fillmode": "overlay",
              "size": 10,
              "solidity": 0.2
             }
            },
            "type": "barpolar"
           }
          ],
          "carpet": [
           {
            "aaxis": {
             "endlinecolor": "#2a3f5f",
             "gridcolor": "white",
             "linecolor": "white",
             "minorgridcolor": "white",
             "startlinecolor": "#2a3f5f"
            },
            "baxis": {
             "endlinecolor": "#2a3f5f",
             "gridcolor": "white",
             "linecolor": "white",
             "minorgridcolor": "white",
             "startlinecolor": "#2a3f5f"
            },
            "type": "carpet"
           }
          ],
          "choropleth": [
           {
            "colorbar": {
             "outlinewidth": 0,
             "ticks": ""
            },
            "type": "choropleth"
           }
          ],
          "contour": [
           {
            "colorbar": {
             "outlinewidth": 0,
             "ticks": ""
            },
            "colorscale": [
             [
              0,
              "#0d0887"
             ],
             [
              0.1111111111111111,
              "#46039f"
             ],
             [
              0.2222222222222222,
              "#7201a8"
             ],
             [
              0.3333333333333333,
              "#9c179e"
             ],
             [
              0.4444444444444444,
              "#bd3786"
             ],
             [
              0.5555555555555556,
              "#d8576b"
             ],
             [
              0.6666666666666666,
              "#ed7953"
             ],
             [
              0.7777777777777778,
              "#fb9f3a"
             ],
             [
              0.8888888888888888,
              "#fdca26"
             ],
             [
              1,
              "#f0f921"
             ]
            ],
            "type": "contour"
           }
          ],
          "contourcarpet": [
           {
            "colorbar": {
             "outlinewidth": 0,
             "ticks": ""
            },
            "type": "contourcarpet"
           }
          ],
          "heatmap": [
           {
            "colorbar": {
             "outlinewidth": 0,
             "ticks": ""
            },
            "colorscale": [
             [
              0,
              "#0d0887"
             ],
             [
              0.1111111111111111,
              "#46039f"
             ],
             [
              0.2222222222222222,
              "#7201a8"
             ],
             [
              0.3333333333333333,
              "#9c179e"
             ],
             [
              0.4444444444444444,
              "#bd3786"
             ],
             [
              0.5555555555555556,
              "#d8576b"
             ],
             [
              0.6666666666666666,
              "#ed7953"
             ],
             [
              0.7777777777777778,
              "#fb9f3a"
             ],
             [
              0.8888888888888888,
              "#fdca26"
             ],
             [
              1,
              "#f0f921"
             ]
            ],
            "type": "heatmap"
           }
          ],
          "heatmapgl": [
           {
            "colorbar": {
             "outlinewidth": 0,
             "ticks": ""
            },
            "colorscale": [
             [
              0,
              "#0d0887"
             ],
             [
              0.1111111111111111,
              "#46039f"
             ],
             [
              0.2222222222222222,
              "#7201a8"
             ],
             [
              0.3333333333333333,
              "#9c179e"
             ],
             [
              0.4444444444444444,
              "#bd3786"
             ],
             [
              0.5555555555555556,
              "#d8576b"
             ],
             [
              0.6666666666666666,
              "#ed7953"
             ],
             [
              0.7777777777777778,
              "#fb9f3a"
             ],
             [
              0.8888888888888888,
              "#fdca26"
             ],
             [
              1,
              "#f0f921"
             ]
            ],
            "type": "heatmapgl"
           }
          ],
          "histogram": [
           {
            "marker": {
             "pattern": {
              "fillmode": "overlay",
              "size": 10,
              "solidity": 0.2
             }
            },
            "type": "histogram"
           }
          ],
          "histogram2d": [
           {
            "colorbar": {
             "outlinewidth": 0,
             "ticks": ""
            },
            "colorscale": [
             [
              0,
              "#0d0887"
             ],
             [
              0.1111111111111111,
              "#46039f"
             ],
             [
              0.2222222222222222,
              "#7201a8"
             ],
             [
              0.3333333333333333,
              "#9c179e"
             ],
             [
              0.4444444444444444,
              "#bd3786"
             ],
             [
              0.5555555555555556,
              "#d8576b"
             ],
             [
              0.6666666666666666,
              "#ed7953"
             ],
             [
              0.7777777777777778,
              "#fb9f3a"
             ],
             [
              0.8888888888888888,
              "#fdca26"
             ],
             [
              1,
              "#f0f921"
             ]
            ],
            "type": "histogram2d"
           }
          ],
          "histogram2dcontour": [
           {
            "colorbar": {
             "outlinewidth": 0,
             "ticks": ""
            },
            "colorscale": [
             [
              0,
              "#0d0887"
             ],
             [
              0.1111111111111111,
              "#46039f"
             ],
             [
              0.2222222222222222,
              "#7201a8"
             ],
             [
              0.3333333333333333,
              "#9c179e"
             ],
             [
              0.4444444444444444,
              "#bd3786"
             ],
             [
              0.5555555555555556,
              "#d8576b"
             ],
             [
              0.6666666666666666,
              "#ed7953"
             ],
             [
              0.7777777777777778,
              "#fb9f3a"
             ],
             [
              0.8888888888888888,
              "#fdca26"
             ],
             [
              1,
              "#f0f921"
             ]
            ],
            "type": "histogram2dcontour"
           }
          ],
          "mesh3d": [
           {
            "colorbar": {
             "outlinewidth": 0,
             "ticks": ""
            },
            "type": "mesh3d"
           }
          ],
          "parcoords": [
           {
            "line": {
             "colorbar": {
              "outlinewidth": 0,
              "ticks": ""
             }
            },
            "type": "parcoords"
           }
          ],
          "pie": [
           {
            "automargin": true,
            "type": "pie"
           }
          ],
          "scatter": [
           {
            "fillpattern": {
             "fillmode": "overlay",
             "size": 10,
             "solidity": 0.2
            },
            "type": "scatter"
           }
          ],
          "scatter3d": [
           {
            "line": {
             "colorbar": {
              "outlinewidth": 0,
              "ticks": ""
             }
            },
            "marker": {
             "colorbar": {
              "outlinewidth": 0,
              "ticks": ""
             }
            },
            "type": "scatter3d"
           }
          ],
          "scattercarpet": [
           {
            "marker": {
             "colorbar": {
              "outlinewidth": 0,
              "ticks": ""
             }
            },
            "type": "scattercarpet"
           }
          ],
          "scattergeo": [
           {
            "marker": {
             "colorbar": {
              "outlinewidth": 0,
              "ticks": ""
             }
            },
            "type": "scattergeo"
           }
          ],
          "scattergl": [
           {
            "marker": {
             "colorbar": {
              "outlinewidth": 0,
              "ticks": ""
             }
            },
            "type": "scattergl"
           }
          ],
          "scattermapbox": [
           {
            "marker": {
             "colorbar": {
              "outlinewidth": 0,
              "ticks": ""
             }
            },
            "type": "scattermapbox"
           }
          ],
          "scatterpolar": [
           {
            "marker": {
             "colorbar": {
              "outlinewidth": 0,
              "ticks": ""
             }
            },
            "type": "scatterpolar"
           }
          ],
          "scatterpolargl": [
           {
            "marker": {
             "colorbar": {
              "outlinewidth": 0,
              "ticks": ""
             }
            },
            "type": "scatterpolargl"
           }
          ],
          "scatterternary": [
           {
            "marker": {
             "colorbar": {
              "outlinewidth": 0,
              "ticks": ""
             }
            },
            "type": "scatterternary"
           }
          ],
          "surface": [
           {
            "colorbar": {
             "outlinewidth": 0,
             "ticks": ""
            },
            "colorscale": [
             [
              0,
              "#0d0887"
             ],
             [
              0.1111111111111111,
              "#46039f"
             ],
             [
              0.2222222222222222,
              "#7201a8"
             ],
             [
              0.3333333333333333,
              "#9c179e"
             ],
             [
              0.4444444444444444,
              "#bd3786"
             ],
             [
              0.5555555555555556,
              "#d8576b"
             ],
             [
              0.6666666666666666,
              "#ed7953"
             ],
             [
              0.7777777777777778,
              "#fb9f3a"
             ],
             [
              0.8888888888888888,
              "#fdca26"
             ],
             [
              1,
              "#f0f921"
             ]
            ],
            "type": "surface"
           }
          ],
          "table": [
           {
            "cells": {
             "fill": {
              "color": "#EBF0F8"
             },
             "line": {
              "color": "white"
             }
            },
            "header": {
             "fill": {
              "color": "#C8D4E3"
             },
             "line": {
              "color": "white"
             }
            },
            "type": "table"
           }
          ]
         },
         "layout": {
          "annotationdefaults": {
           "arrowcolor": "#2a3f5f",
           "arrowhead": 0,
           "arrowwidth": 1
          },
          "autotypenumbers": "strict",
          "coloraxis": {
           "colorbar": {
            "outlinewidth": 0,
            "ticks": ""
           }
          },
          "colorscale": {
           "diverging": [
            [
             0,
             "#8e0152"
            ],
            [
             0.1,
             "#c51b7d"
            ],
            [
             0.2,
             "#de77ae"
            ],
            [
             0.3,
             "#f1b6da"
            ],
            [
             0.4,
             "#fde0ef"
            ],
            [
             0.5,
             "#f7f7f7"
            ],
            [
             0.6,
             "#e6f5d0"
            ],
            [
             0.7,
             "#b8e186"
            ],
            [
             0.8,
             "#7fbc41"
            ],
            [
             0.9,
             "#4d9221"
            ],
            [
             1,
             "#276419"
            ]
           ],
           "sequential": [
            [
             0,
             "#0d0887"
            ],
            [
             0.1111111111111111,
             "#46039f"
            ],
            [
             0.2222222222222222,
             "#7201a8"
            ],
            [
             0.3333333333333333,
             "#9c179e"
            ],
            [
             0.4444444444444444,
             "#bd3786"
            ],
            [
             0.5555555555555556,
             "#d8576b"
            ],
            [
             0.6666666666666666,
             "#ed7953"
            ],
            [
             0.7777777777777778,
             "#fb9f3a"
            ],
            [
             0.8888888888888888,
             "#fdca26"
            ],
            [
             1,
             "#f0f921"
            ]
           ],
           "sequentialminus": [
            [
             0,
             "#0d0887"
            ],
            [
             0.1111111111111111,
             "#46039f"
            ],
            [
             0.2222222222222222,
             "#7201a8"
            ],
            [
             0.3333333333333333,
             "#9c179e"
            ],
            [
             0.4444444444444444,
             "#bd3786"
            ],
            [
             0.5555555555555556,
             "#d8576b"
            ],
            [
             0.6666666666666666,
             "#ed7953"
            ],
            [
             0.7777777777777778,
             "#fb9f3a"
            ],
            [
             0.8888888888888888,
             "#fdca26"
            ],
            [
             1,
             "#f0f921"
            ]
           ]
          },
          "colorway": [
           "#636efa",
           "#EF553B",
           "#00cc96",
           "#ab63fa",
           "#FFA15A",
           "#19d3f3",
           "#FF6692",
           "#B6E880",
           "#FF97FF",
           "#FECB52"
          ],
          "font": {
           "color": "#2a3f5f"
          },
          "geo": {
           "bgcolor": "white",
           "lakecolor": "white",
           "landcolor": "#E5ECF6",
           "showlakes": true,
           "showland": true,
           "subunitcolor": "white"
          },
          "hoverlabel": {
           "align": "left"
          },
          "hovermode": "closest",
          "mapbox": {
           "style": "light"
          },
          "paper_bgcolor": "white",
          "plot_bgcolor": "#E5ECF6",
          "polar": {
           "angularaxis": {
            "gridcolor": "white",
            "linecolor": "white",
            "ticks": ""
           },
           "bgcolor": "#E5ECF6",
           "radialaxis": {
            "gridcolor": "white",
            "linecolor": "white",
            "ticks": ""
           }
          },
          "scene": {
           "xaxis": {
            "backgroundcolor": "#E5ECF6",
            "gridcolor": "white",
            "gridwidth": 2,
            "linecolor": "white",
            "showbackground": true,
            "ticks": "",
            "zerolinecolor": "white"
           },
           "yaxis": {
            "backgroundcolor": "#E5ECF6",
            "gridcolor": "white",
            "gridwidth": 2,
            "linecolor": "white",
            "showbackground": true,
            "ticks": "",
            "zerolinecolor": "white"
           },
           "zaxis": {
            "backgroundcolor": "#E5ECF6",
            "gridcolor": "white",
            "gridwidth": 2,
            "linecolor": "white",
            "showbackground": true,
            "ticks": "",
            "zerolinecolor": "white"
           }
          },
          "shapedefaults": {
           "line": {
            "color": "#2a3f5f"
           }
          },
          "ternary": {
           "aaxis": {
            "gridcolor": "white",
            "linecolor": "white",
            "ticks": ""
           },
           "baxis": {
            "gridcolor": "white",
            "linecolor": "white",
            "ticks": ""
           },
           "bgcolor": "#E5ECF6",
           "caxis": {
            "gridcolor": "white",
            "linecolor": "white",
            "ticks": ""
           }
          },
          "title": {
           "x": 0.05
          },
          "xaxis": {
           "automargin": true,
           "gridcolor": "white",
           "linecolor": "white",
           "ticks": "",
           "title": {
            "standoff": 15
           },
           "zerolinecolor": "white",
           "zerolinewidth": 2
          },
          "yaxis": {
           "automargin": true,
           "gridcolor": "white",
           "linecolor": "white",
           "ticks": "",
           "title": {
            "standoff": 15
           },
           "zerolinecolor": "white",
           "zerolinewidth": 2
          }
         }
        },
        "xaxis": {
         "anchor": "y",
         "domain": [
          0,
          1
         ],
         "title": {
          "text": "Year"
         }
        },
        "yaxis": {
         "anchor": "x",
         "domain": [
          0,
          1
         ],
         "title": {
          "text": "value"
         }
        }
       }
      }
     },
     "metadata": {},
     "output_type": "display_data"
    }
   ],
   "source": [
    "\n",
    "fig_original = px.line(degree_gender_ratio, x='Year', y=[x for x in degree_gender_ratio.columns[1:]],color_discrete_sequence=px.colors.qualitative.Alphabet)\n",
    "fig_original.update_layout(legend = dict(title='<b> Major </b>', font = dict(size = 8, color = \"black\")))\n",
    "\n",
    "fig_original.show()\n"
   ]
  },
  {
   "cell_type": "code",
   "execution_count": 14,
   "metadata": {},
   "outputs": [
    {
     "data": {
      "text/html": [
       "<div>\n",
       "<style scoped>\n",
       "    .dataframe tbody tr th:only-of-type {\n",
       "        vertical-align: middle;\n",
       "    }\n",
       "\n",
       "    .dataframe tbody tr th {\n",
       "        vertical-align: top;\n",
       "    }\n",
       "\n",
       "    .dataframe thead th {\n",
       "        text-align: right;\n",
       "    }\n",
       "</style>\n",
       "<table border=\"1\" class=\"dataframe\">\n",
       "  <thead>\n",
       "    <tr style=\"text-align: right;\">\n",
       "      <th></th>\n",
       "      <th>Year</th>\n",
       "      <th>Major</th>\n",
       "      <th>value</th>\n",
       "    </tr>\n",
       "  </thead>\n",
       "  <tbody>\n",
       "    <tr>\n",
       "      <th>0</th>\n",
       "      <td>1970</td>\n",
       "      <td>Agriculture</td>\n",
       "      <td>4.229798</td>\n",
       "    </tr>\n",
       "    <tr>\n",
       "      <th>1</th>\n",
       "      <td>1971</td>\n",
       "      <td>Agriculture</td>\n",
       "      <td>5.452797</td>\n",
       "    </tr>\n",
       "    <tr>\n",
       "      <th>2</th>\n",
       "      <td>1972</td>\n",
       "      <td>Agriculture</td>\n",
       "      <td>7.420710</td>\n",
       "    </tr>\n",
       "    <tr>\n",
       "      <th>3</th>\n",
       "      <td>1973</td>\n",
       "      <td>Agriculture</td>\n",
       "      <td>9.653602</td>\n",
       "    </tr>\n",
       "    <tr>\n",
       "      <th>4</th>\n",
       "      <td>1974</td>\n",
       "      <td>Agriculture</td>\n",
       "      <td>14.074623</td>\n",
       "    </tr>\n",
       "  </tbody>\n",
       "</table>\n",
       "</div>"
      ],
      "text/plain": [
       "   Year        Major      value\n",
       "0  1970  Agriculture   4.229798\n",
       "1  1971  Agriculture   5.452797\n",
       "2  1972  Agriculture   7.420710\n",
       "3  1973  Agriculture   9.653602\n",
       "4  1974  Agriculture  14.074623"
      ]
     },
     "execution_count": 14,
     "metadata": {},
     "output_type": "execute_result"
    }
   ],
   "source": [
    "df_melt = degree_gender_ratio.melt(id_vars='Year', var_name=\"Major\", value_name='value', value_vars=[x for x in degree_gender_ratio.columns[1:]])\n",
    "df_melt.head()"
   ]
  },
  {
   "cell_type": "code",
   "execution_count": 6,
   "metadata": {},
   "outputs": [
    {
     "data": {
      "application/vnd.plotly.v1+json": {
       "config": {
        "plotlyServerURL": "https://plot.ly"
       },
       "data": [
        {
         "hovertemplate": "Major=Agriculture<br>Year=%{x}<br>value=%{y}<extra></extra>",
         "legendgroup": "Agriculture",
         "line": {
          "color": "#AA0DFE",
          "dash": "solid"
         },
         "marker": {
          "symbol": "circle"
         },
         "mode": "lines",
         "name": "Agriculture",
         "orientation": "v",
         "showlegend": true,
         "type": "scatter",
         "x": [
          1970,
          1971,
          1972,
          1973,
          1974,
          1975,
          1976,
          1977,
          1978,
          1979,
          1980,
          1981,
          1982,
          1983,
          1984,
          1985,
          1986,
          1987,
          1988,
          1989,
          1990,
          1991,
          1992,
          1993,
          1994,
          1995,
          1996,
          1997,
          1998,
          1999,
          2000,
          2001,
          2002,
          2003,
          2004,
          2005,
          2006,
          2007,
          2008,
          2009,
          2010,
          2011
         ],
         "xaxis": "x",
         "y": [
          4.22979798,
          5.452796685,
          7.42071022,
          9.653602412,
          14.07462346,
          18.33316153,
          22.25276005,
          24.6401766,
          27.14619175,
          29.63336549,
          30.75938956,
          31.31865519,
          32.63666364,
          31.6353471,
          31.09294748,
          31.3796588,
          31.19871923,
          31.48642948,
          31.08508746,
          31.6124031,
          32.70344407,
          34.71183749,
          33.93165961,
          34.94683208,
          36.03267447,
          36.84480747,
          38.96977475,
          40.68568483,
          41.91240333,
          42.88720191,
          45.05776637,
          45.86601517,
          47.13465821,
          47.93518721,
          47.88714025,
          47.67275409,
          46.79029957,
          47.60502633,
          47.570834,
          48.66722357,
          48.73004227,
          50.03718193
         ],
         "yaxis": "y"
        },
        {
         "hovertemplate": "Major=Architecture<br>Year=%{x}<br>value=%{y}<extra></extra>",
         "legendgroup": "Architecture",
         "line": {
          "color": "#3283FE",
          "dash": "solid"
         },
         "marker": {
          "symbol": "circle"
         },
         "mode": "lines",
         "name": "Architecture",
         "orientation": "v",
         "showlegend": true,
         "type": "scatter",
         "x": [
          1970,
          1971,
          1972,
          1973,
          1974,
          1975,
          1976,
          1977,
          1978,
          1979,
          1980,
          1981,
          1982,
          1983,
          1984,
          1985,
          1986,
          1987,
          1988,
          1989,
          1990,
          1991,
          1992,
          1993,
          1994,
          1995,
          1996,
          1997,
          1998,
          1999,
          2000,
          2001,
          2002,
          2003,
          2004,
          2005,
          2006,
          2007,
          2008,
          2009,
          2010,
          2011
         ],
         "xaxis": "x",
         "y": [
          11.92100539,
          12.00310559,
          13.21459351,
          14.7916134,
          17.44468758,
          19.13404767,
          21.39449143,
          23.74054054,
          25.84923973,
          27.77047744,
          28.08038075,
          29.84169408,
          34.81624758,
          35.82625735,
          35.45308311,
          36.13334795,
          37.24022346,
          38.73067535,
          39.3989071,
          39.09653994,
          40.82404662,
          33.67988118,
          35.20235628,
          35.77715877,
          34.43353129,
          36.06321839,
          35.9264854,
          35.10193413,
          37.59854457,
          38.63152919,
          40.02358491,
          40.69028156,
          41.13295053,
          42.75854266,
          43.46649345,
          43.10036784,
          44.49933107,
          43.10045895,
          42.71173041,
          43.34892051,
          42.06672091,
          42.7734375
         ],
         "yaxis": "y"
        },
        {
         "hovertemplate": "Major=Art and Performance<br>Year=%{x}<br>value=%{y}<extra></extra>",
         "legendgroup": "Art and Performance",
         "line": {
          "color": "#85660D",
          "dash": "solid"
         },
         "marker": {
          "symbol": "circle"
         },
         "mode": "lines",
         "name": "Art and Performance",
         "orientation": "v",
         "showlegend": true,
         "type": "scatter",
         "x": [
          1970,
          1971,
          1972,
          1973,
          1974,
          1975,
          1976,
          1977,
          1978,
          1979,
          1980,
          1981,
          1982,
          1983,
          1984,
          1985,
          1986,
          1987,
          1988,
          1989,
          1990,
          1991,
          1992,
          1993,
          1994,
          1995,
          1996,
          1997,
          1998,
          1999,
          2000,
          2001,
          2002,
          2003,
          2004,
          2005,
          2006,
          2007,
          2008,
          2009,
          2010,
          2011
         ],
         "xaxis": "x",
         "y": [
          59.7,
          59.9,
          60.4,
          60.2,
          61.9,
          60.9,
          61.3,
          62,
          62.5,
          63.2,
          63.4,
          63.3,
          63.1,
          62.4,
          62.1,
          61.8,
          62.1,
          61.7,
          61.7,
          62,
          62.6,
          62.1,
          61,
          60.2,
          59.4,
          59.2,
          58.6,
          58.7,
          59.1,
          59.2,
          59.2,
          59.4,
          60.9,
          61.1,
          61.3,
          61.4,
          61.6,
          61.4,
          60.7,
          61,
          61.3,
          61.2
         ],
         "yaxis": "y"
        },
        {
         "hovertemplate": "Major=Biology<br>Year=%{x}<br>value=%{y}<extra></extra>",
         "legendgroup": "Biology",
         "line": {
          "color": "#782AB6",
          "dash": "solid"
         },
         "marker": {
          "symbol": "circle"
         },
         "mode": "lines",
         "name": "Biology",
         "orientation": "v",
         "showlegend": true,
         "type": "scatter",
         "x": [
          1970,
          1971,
          1972,
          1973,
          1974,
          1975,
          1976,
          1977,
          1978,
          1979,
          1980,
          1981,
          1982,
          1983,
          1984,
          1985,
          1986,
          1987,
          1988,
          1989,
          1990,
          1991,
          1992,
          1993,
          1994,
          1995,
          1996,
          1997,
          1998,
          1999,
          2000,
          2001,
          2002,
          2003,
          2004,
          2005,
          2006,
          2007,
          2008,
          2009,
          2010,
          2011
         ],
         "xaxis": "x",
         "y": [
          29.08836297,
          29.39440285,
          29.81022105,
          31.14791477,
          32.99618284,
          34.44990213,
          36.07287146,
          38.33138629,
          40.11249564,
          42.06555109,
          43.99925716,
          45.24951206,
          45.96733794,
          46.71313451,
          47.66908276,
          47.9098841,
          48.30067763,
          50.20987789,
          50.09981147,
          50.77471585,
          50.81809432,
          51.46880537,
          51.34974154,
          51.12484404,
          52.2462176,
          52.59940342,
          53.78988011,
          54.99946903,
          56.35124789,
          58.22882288,
          59.38985737,
          60.71233149,
          61.8951284,
          62.1694558,
          61.91458697,
          61.50098432,
          60.17284465,
          59.41199314,
          59.30576517,
          58.48958333,
          59.01025521,
          58.7423969
         ],
         "yaxis": "y"
        },
        {
         "hovertemplate": "Major=Business<br>Year=%{x}<br>value=%{y}<extra></extra>",
         "legendgroup": "Business",
         "line": {
          "color": "#565656",
          "dash": "solid"
         },
         "marker": {
          "symbol": "circle"
         },
         "mode": "lines",
         "name": "Business",
         "orientation": "v",
         "showlegend": true,
         "type": "scatter",
         "x": [
          1970,
          1971,
          1972,
          1973,
          1974,
          1975,
          1976,
          1977,
          1978,
          1979,
          1980,
          1981,
          1982,
          1983,
          1984,
          1985,
          1986,
          1987,
          1988,
          1989,
          1990,
          1991,
          1992,
          1993,
          1994,
          1995,
          1996,
          1997,
          1998,
          1999,
          2000,
          2001,
          2002,
          2003,
          2004,
          2005,
          2006,
          2007,
          2008,
          2009,
          2010,
          2011
         ],
         "xaxis": "x",
         "y": [
          9.064438975,
          9.503186594,
          10.5589621,
          12.80460152,
          16.20485038,
          19.68624931,
          23.4300375,
          27.16342715,
          30.52751868,
          33.62163381,
          36.76572529,
          39.26622984,
          41.94937335,
          43.54206966,
          45.12403027,
          45.747782,
          46.53291505,
          46.69046648,
          46.7648277,
          46.7815648,
          47.20085084,
          47.22432481,
          47.21939541,
          47.63933161,
          47.98392441,
          48.57318101,
          48.6473926,
          48.56105033,
          49.2585152,
          49.81020815,
          49.80361649,
          50.27514494,
          50.5523346,
          50.34559774,
          49.95089449,
          49.79185139,
          49.21091439,
          49.00045935,
          48.88802678,
          48.84047414,
          48.75798769,
          48.18041792
         ],
         "yaxis": "y"
        },
        {
         "hovertemplate": "Major=Communications and Journalism<br>Year=%{x}<br>value=%{y}<extra></extra>",
         "legendgroup": "Communications and Journalism",
         "line": {
          "color": "#1C8356",
          "dash": "solid"
         },
         "marker": {
          "symbol": "circle"
         },
         "mode": "lines",
         "name": "Communications and Journalism",
         "orientation": "v",
         "showlegend": true,
         "type": "scatter",
         "x": [
          1970,
          1971,
          1972,
          1973,
          1974,
          1975,
          1976,
          1977,
          1978,
          1979,
          1980,
          1981,
          1982,
          1983,
          1984,
          1985,
          1986,
          1987,
          1988,
          1989,
          1990,
          1991,
          1992,
          1993,
          1994,
          1995,
          1996,
          1997,
          1998,
          1999,
          2000,
          2001,
          2002,
          2003,
          2004,
          2005,
          2006,
          2007,
          2008,
          2009,
          2010,
          2011
         ],
         "xaxis": "x",
         "y": [
          35.3,
          35.5,
          36.6,
          38.4,
          40.5,
          41.5,
          44.3,
          46.9,
          49.9,
          52.3,
          54.7,
          56.4,
          58,
          58.6,
          59.1,
          59,
          60,
          60.2,
          60.4,
          60.5,
          60.8,
          60.8,
          59.7,
          58.7,
          58.1,
          58.8,
          58.7,
          60,
          60,
          61.2,
          61.9,
          63,
          63.7,
          64.6,
          64.2,
          63.4,
          63,
          62.5,
          62.4,
          62.8,
          62.5,
          62.2
         ],
         "yaxis": "y"
        },
        {
         "hovertemplate": "Major=Computer Science<br>Year=%{x}<br>value=%{y}<extra></extra>",
         "legendgroup": "Computer Science",
         "line": {
          "color": "#16FF32",
          "dash": "solid"
         },
         "marker": {
          "symbol": "circle"
         },
         "mode": "lines",
         "name": "Computer Science",
         "orientation": "v",
         "showlegend": true,
         "type": "scatter",
         "x": [
          1970,
          1971,
          1972,
          1973,
          1974,
          1975,
          1976,
          1977,
          1978,
          1979,
          1980,
          1981,
          1982,
          1983,
          1984,
          1985,
          1986,
          1987,
          1988,
          1989,
          1990,
          1991,
          1992,
          1993,
          1994,
          1995,
          1996,
          1997,
          1998,
          1999,
          2000,
          2001,
          2002,
          2003,
          2004,
          2005,
          2006,
          2007,
          2008,
          2009,
          2010,
          2011
         ],
         "xaxis": "x",
         "y": [
          13.6,
          13.6,
          14.9,
          16.4,
          18.9,
          19.8,
          23.9,
          25.7,
          28.1,
          30.2,
          32.5,
          34.8,
          36.3,
          37.1,
          36.8,
          35.7,
          34.7,
          32.4,
          30.8,
          29.9,
          29.4,
          28.7,
          28.2,
          28.5,
          28.5,
          27.5,
          27.1,
          26.8,
          27,
          28.1,
          27.7,
          27.6,
          27,
          25.1,
          22.2,
          20.6,
          18.6,
          17.6,
          17.8,
          18.1,
          17.6,
          18.2
         ],
         "yaxis": "y"
        },
        {
         "hovertemplate": "Major=Education<br>Year=%{x}<br>value=%{y}<extra></extra>",
         "legendgroup": "Education",
         "line": {
          "color": "#F7E1A0",
          "dash": "solid"
         },
         "marker": {
          "symbol": "circle"
         },
         "mode": "lines",
         "name": "Education",
         "orientation": "v",
         "showlegend": true,
         "type": "scatter",
         "x": [
          1970,
          1971,
          1972,
          1973,
          1974,
          1975,
          1976,
          1977,
          1978,
          1979,
          1980,
          1981,
          1982,
          1983,
          1984,
          1985,
          1986,
          1987,
          1988,
          1989,
          1990,
          1991,
          1992,
          1993,
          1994,
          1995,
          1996,
          1997,
          1998,
          1999,
          2000,
          2001,
          2002,
          2003,
          2004,
          2005,
          2006,
          2007,
          2008,
          2009,
          2010,
          2011
         ],
         "xaxis": "x",
         "y": [
          74.53532758,
          74.14920369,
          73.55451996,
          73.50181443,
          73.33681143,
          72.80185448,
          72.16652471,
          72.45639481,
          73.19282134,
          73.82114234,
          74.98103152,
          75.84512345,
          75.84364914,
          75.95060123,
          75.86911601,
          75.92343971,
          76.14301516,
          76.96309168,
          77.62766177,
          78.11191872,
          78.86685859,
          78.99124597,
          78.43518191,
          77.26731199,
          75.81493264,
          75.12525621,
          75.03519921,
          75.1637013,
          75.48616027,
          75.83816206,
          76.69214284,
          77.37522931,
          78.64424394,
          78.54494815,
          78.65074774,
          79.06712173,
          78.68630551,
          78.72141311,
          79.19632674,
          79.5329087,
          79.61862451,
          79.43281184
         ],
         "yaxis": "y"
        },
        {
         "hovertemplate": "Major=Engineering<br>Year=%{x}<br>value=%{y}<extra></extra>",
         "legendgroup": "Engineering",
         "line": {
          "color": "#E2E2E2",
          "dash": "solid"
         },
         "marker": {
          "symbol": "circle"
         },
         "mode": "lines",
         "name": "Engineering",
         "orientation": "v",
         "showlegend": true,
         "type": "scatter",
         "x": [
          1970,
          1971,
          1972,
          1973,
          1974,
          1975,
          1976,
          1977,
          1978,
          1979,
          1980,
          1981,
          1982,
          1983,
          1984,
          1985,
          1986,
          1987,
          1988,
          1989,
          1990,
          1991,
          1992,
          1993,
          1994,
          1995,
          1996,
          1997,
          1998,
          1999,
          2000,
          2001,
          2002,
          2003,
          2004,
          2005,
          2006,
          2007,
          2008,
          2009,
          2010,
          2011
         ],
         "xaxis": "x",
         "y": [
          0.8,
          1,
          1.2,
          1.6,
          2.2,
          3.2,
          4.5,
          6.8,
          8.4,
          9.4,
          10.3,
          11.6,
          12.4,
          13.1,
          13.5,
          13.5,
          13.9,
          14,
          13.9,
          14.1,
          14.1,
          14,
          14.5,
          14.9,
          15.7,
          16.2,
          16.7,
          17,
          17.8,
          18.6,
          18.4,
          19,
          18.7,
          18.8,
          18.2,
          17.9,
          16.8,
          16.8,
          16.5,
          16.8,
          17.2,
          17.5
         ],
         "yaxis": "y"
        },
        {
         "hovertemplate": "Major=English<br>Year=%{x}<br>value=%{y}<extra></extra>",
         "legendgroup": "English",
         "line": {
          "color": "#1CBE4F",
          "dash": "solid"
         },
         "marker": {
          "symbol": "circle"
         },
         "mode": "lines",
         "name": "English",
         "orientation": "v",
         "showlegend": true,
         "type": "scatter",
         "x": [
          1970,
          1971,
          1972,
          1973,
          1974,
          1975,
          1976,
          1977,
          1978,
          1979,
          1980,
          1981,
          1982,
          1983,
          1984,
          1985,
          1986,
          1987,
          1988,
          1989,
          1990,
          1991,
          1992,
          1993,
          1994,
          1995,
          1996,
          1997,
          1998,
          1999,
          2000,
          2001,
          2002,
          2003,
          2004,
          2005,
          2006,
          2007,
          2008,
          2009,
          2010,
          2011
         ],
         "xaxis": "x",
         "y": [
          65.57092343,
          64.55648516,
          63.6642632,
          62.94150212,
          62.41341209,
          61.64720641,
          62.14819377,
          62.72306675,
          63.61912216,
          65.08838972,
          65.28413007,
          65.83832154,
          65.84735212,
          65.91837999,
          65.74986233,
          65.79819852,
          65.98256091,
          66.70603055,
          67.14449816,
          67.01707156,
          66.92190193,
          66.24147465,
          65.62245655,
          65.73095014,
          65.64197772,
          65.93694921,
          66.43777883,
          66.78635548,
          67.2554484,
          67.82022113,
          68.36599498,
          68.57852029,
          68.82995959,
          68.89448726,
          68.45473436,
          68.57122114,
          68.29759443,
          67.87492278,
          67.59402834,
          67.96979204,
          67.92810557,
          68.42673015
         ],
         "yaxis": "y"
        },
        {
         "hovertemplate": "Major=Foreign Languages<br>Year=%{x}<br>value=%{y}<extra></extra>",
         "legendgroup": "Foreign Languages",
         "line": {
          "color": "#C4451C",
          "dash": "solid"
         },
         "marker": {
          "symbol": "circle"
         },
         "mode": "lines",
         "name": "Foreign Languages",
         "orientation": "v",
         "showlegend": true,
         "type": "scatter",
         "x": [
          1970,
          1971,
          1972,
          1973,
          1974,
          1975,
          1976,
          1977,
          1978,
          1979,
          1980,
          1981,
          1982,
          1983,
          1984,
          1985,
          1986,
          1987,
          1988,
          1989,
          1990,
          1991,
          1992,
          1993,
          1994,
          1995,
          1996,
          1997,
          1998,
          1999,
          2000,
          2001,
          2002,
          2003,
          2004,
          2005,
          2006,
          2007,
          2008,
          2009,
          2010,
          2011
         ],
         "xaxis": "x",
         "y": [
          73.8,
          73.9,
          74.6,
          74.9,
          75.3,
          75,
          74.4,
          74.3,
          74.3,
          74.2,
          74.1,
          73.9,
          72.7,
          71.8,
          72.1,
          70.8,
          71.2,
          72,
          72.3,
          72.4,
          71.2,
          71.1,
          71,
          70,
          69.1,
          69.6,
          69.7,
          70,
          70.1,
          70.9,
          70.9,
          71.2,
          70.5,
          70.6,
          70.8,
          69.9,
          69.6,
          70.2,
          70.2,
          69.3,
          69,
          69.5
         ],
         "yaxis": "y"
        },
        {
         "hovertemplate": "Major=Health Professions<br>Year=%{x}<br>value=%{y}<extra></extra>",
         "legendgroup": "Health Professions",
         "line": {
          "color": "#DEA0FD",
          "dash": "solid"
         },
         "marker": {
          "symbol": "circle"
         },
         "mode": "lines",
         "name": "Health Professions",
         "orientation": "v",
         "showlegend": true,
         "type": "scatter",
         "x": [
          1970,
          1971,
          1972,
          1973,
          1974,
          1975,
          1976,
          1977,
          1978,
          1979,
          1980,
          1981,
          1982,
          1983,
          1984,
          1985,
          1986,
          1987,
          1988,
          1989,
          1990,
          1991,
          1992,
          1993,
          1994,
          1995,
          1996,
          1997,
          1998,
          1999,
          2000,
          2001,
          2002,
          2003,
          2004,
          2005,
          2006,
          2007,
          2008,
          2009,
          2010,
          2011
         ],
         "xaxis": "x",
         "y": [
          77.1,
          75.5,
          76.9,
          77.4,
          77.9,
          78.9,
          79.2,
          80.5,
          81.9,
          82.3,
          83.5,
          84.1,
          84.4,
          84.6,
          85.1,
          85.3,
          85.7,
          85.5,
          85.2,
          84.6,
          83.9,
          83.5,
          83,
          82.4,
          81.8,
          81.5,
          81.3,
          81.9,
          82.1,
          83.5,
          83.5,
          85.1,
          85.8,
          86.5,
          86.5,
          86,
          85.9,
          85.4,
          85.2,
          85.1,
          85,
          84.8
         ],
         "yaxis": "y"
        },
        {
         "hovertemplate": "Major=Math and Statistics<br>Year=%{x}<br>value=%{y}<extra></extra>",
         "legendgroup": "Math and Statistics",
         "line": {
          "color": "#FE00FA",
          "dash": "solid"
         },
         "marker": {
          "symbol": "circle"
         },
         "mode": "lines",
         "name": "Math and Statistics",
         "orientation": "v",
         "showlegend": true,
         "type": "scatter",
         "x": [
          1970,
          1971,
          1972,
          1973,
          1974,
          1975,
          1976,
          1977,
          1978,
          1979,
          1980,
          1981,
          1982,
          1983,
          1984,
          1985,
          1986,
          1987,
          1988,
          1989,
          1990,
          1991,
          1992,
          1993,
          1994,
          1995,
          1996,
          1997,
          1998,
          1999,
          2000,
          2001,
          2002,
          2003,
          2004,
          2005,
          2006,
          2007,
          2008,
          2009,
          2010,
          2011
         ],
         "xaxis": "x",
         "y": [
          38,
          39,
          40.2,
          40.9,
          41.8,
          40.7,
          41.5,
          41.1,
          41.6,
          42.3,
          42.8,
          43.2,
          44,
          44.3,
          46.2,
          46.5,
          46.7,
          46.5,
          46.2,
          46.2,
          47.3,
          47,
          47.4,
          46.4,
          47,
          46.1,
          46.4,
          47,
          48.3,
          47.8,
          48.2,
          47,
          45.7,
          46,
          44.7,
          45.1,
          44.1,
          44.1,
          43.3,
          43.3,
          43.1,
          43.1
         ],
         "yaxis": "y"
        },
        {
         "hovertemplate": "Major=Physical Sciences<br>Year=%{x}<br>value=%{y}<extra></extra>",
         "legendgroup": "Physical Sciences",
         "line": {
          "color": "#325A9B",
          "dash": "solid"
         },
         "marker": {
          "symbol": "circle"
         },
         "mode": "lines",
         "name": "Physical Sciences",
         "orientation": "v",
         "showlegend": true,
         "type": "scatter",
         "x": [
          1970,
          1971,
          1972,
          1973,
          1974,
          1975,
          1976,
          1977,
          1978,
          1979,
          1980,
          1981,
          1982,
          1983,
          1984,
          1985,
          1986,
          1987,
          1988,
          1989,
          1990,
          1991,
          1992,
          1993,
          1994,
          1995,
          1996,
          1997,
          1998,
          1999,
          2000,
          2001,
          2002,
          2003,
          2004,
          2005,
          2006,
          2007,
          2008,
          2009,
          2010,
          2011
         ],
         "xaxis": "x",
         "y": [
          13.8,
          14.9,
          14.8,
          16.5,
          18.2,
          19.1,
          20,
          21.3,
          22.5,
          23.7,
          24.6,
          25.7,
          27.3,
          27.6,
          28,
          27.5,
          28.4,
          30.4,
          29.7,
          31.3,
          31.6,
          32.6,
          32.6,
          33.6,
          34.8,
          35.9,
          37.3,
          38.3,
          39.7,
          40.2,
          41,
          42.2,
          41.1,
          41.7,
          42.1,
          41.6,
          40.8,
          40.7,
          40.7,
          40.7,
          40.2,
          40.1
         ],
         "yaxis": "y"
        },
        {
         "hovertemplate": "Major=Psychology<br>Year=%{x}<br>value=%{y}<extra></extra>",
         "legendgroup": "Psychology",
         "line": {
          "color": "#FEAF16",
          "dash": "solid"
         },
         "marker": {
          "symbol": "circle"
         },
         "mode": "lines",
         "name": "Psychology",
         "orientation": "v",
         "showlegend": true,
         "type": "scatter",
         "x": [
          1970,
          1971,
          1972,
          1973,
          1974,
          1975,
          1976,
          1977,
          1978,
          1979,
          1980,
          1981,
          1982,
          1983,
          1984,
          1985,
          1986,
          1987,
          1988,
          1989,
          1990,
          1991,
          1992,
          1993,
          1994,
          1995,
          1996,
          1997,
          1998,
          1999,
          2000,
          2001,
          2002,
          2003,
          2004,
          2005,
          2006,
          2007,
          2008,
          2009,
          2010,
          2011
         ],
         "xaxis": "x",
         "y": [
          44.4,
          46.2,
          47.6,
          50.4,
          52.6,
          54.5,
          56.9,
          59,
          61.3,
          63.3,
          65.1,
          66.9,
          67.5,
          67.9,
          68.2,
          69,
          69,
          70.1,
          70.9,
          71.6,
          72.6,
          73.2,
          73.2,
          73.1,
          72.9,
          73,
          73.9,
          74.4,
          75.1,
          76.5,
          77.5,
          77.5,
          77.7,
          77.8,
          77.8,
          77.5,
          77.4,
          77.1,
          77.2,
          77.1,
          77,
          76.7
         ],
         "yaxis": "y"
        },
        {
         "hovertemplate": "Major=Public Administration<br>Year=%{x}<br>value=%{y}<extra></extra>",
         "legendgroup": "Public Administration",
         "line": {
          "color": "#F8A19F",
          "dash": "solid"
         },
         "marker": {
          "symbol": "circle"
         },
         "mode": "lines",
         "name": "Public Administration",
         "orientation": "v",
         "showlegend": true,
         "type": "scatter",
         "x": [
          1970,
          1971,
          1972,
          1973,
          1974,
          1975,
          1976,
          1977,
          1978,
          1979,
          1980,
          1981,
          1982,
          1983,
          1984,
          1985,
          1986,
          1987,
          1988,
          1989,
          1990,
          1991,
          1992,
          1993,
          1994,
          1995,
          1996,
          1997,
          1998,
          1999,
          2000,
          2001,
          2002,
          2003,
          2004,
          2005,
          2006,
          2007,
          2008,
          2009,
          2010,
          2011
         ],
         "xaxis": "x",
         "y": [
          68.4,
          65.5,
          62.6,
          64.3,
          66.1,
          63,
          65.6,
          69.3,
          71.5,
          73.3,
          74.6,
          74.7,
          76.8,
          76.1,
          75.9,
          75,
          75.7,
          76.4,
          75.6,
          76,
          77.6,
          78.2,
          77.3,
          78,
          78.8,
          78.8,
          79.8,
          81,
          81.3,
          81.1,
          81.1,
          80.9,
          81.3,
          81.5,
          80.7,
          81.2,
          81.2,
          82.1,
          81.7,
          82,
          81.7,
          81.9
         ],
         "yaxis": "y"
        },
        {
         "hovertemplate": "Major=Social Sciences and History<br>Year=%{x}<br>value=%{y}<extra></extra>",
         "legendgroup": "Social Sciences and History",
         "line": {
          "color": "#90AD1C",
          "dash": "solid"
         },
         "marker": {
          "symbol": "circle"
         },
         "mode": "lines",
         "name": "Social Sciences and History",
         "orientation": "v",
         "showlegend": true,
         "type": "scatter",
         "x": [
          1970,
          1971,
          1972,
          1973,
          1974,
          1975,
          1976,
          1977,
          1978,
          1979,
          1980,
          1981,
          1982,
          1983,
          1984,
          1985,
          1986,
          1987,
          1988,
          1989,
          1990,
          1991,
          1992,
          1993,
          1994,
          1995,
          1996,
          1997,
          1998,
          1999,
          2000,
          2001,
          2002,
          2003,
          2004,
          2005,
          2006,
          2007,
          2008,
          2009,
          2010,
          2011
         ],
         "xaxis": "x",
         "y": [
          36.8,
          36.2,
          36.1,
          36.4,
          37.3,
          37.7,
          39.2,
          40.5,
          41.8,
          43.6,
          44.2,
          44.6,
          44.6,
          44.1,
          44.1,
          43.8,
          44,
          43.9,
          44.4,
          44.2,
          45.1,
          45.5,
          45.8,
          46.1,
          46.8,
          47.9,
          48.7,
          49.2,
          50.5,
          51.2,
          51.8,
          51.7,
          51.5,
          50.9,
          50.5,
          50,
          49.8,
          49.3,
          49.4,
          49.4,
          49.3,
          49.2
         ],
         "yaxis": "y"
        }
       ],
       "layout": {
        "legend": {
         "title": {
          "text": "Major"
         },
         "tracegroupgap": 0
        },
        "margin": {
         "t": 60
        },
        "template": {
         "data": {
          "bar": [
           {
            "error_x": {
             "color": "#2a3f5f"
            },
            "error_y": {
             "color": "#2a3f5f"
            },
            "marker": {
             "line": {
              "color": "#E5ECF6",
              "width": 0.5
             },
             "pattern": {
              "fillmode": "overlay",
              "size": 10,
              "solidity": 0.2
             }
            },
            "type": "bar"
           }
          ],
          "barpolar": [
           {
            "marker": {
             "line": {
              "color": "#E5ECF6",
              "width": 0.5
             },
             "pattern": {
              "fillmode": "overlay",
              "size": 10,
              "solidity": 0.2
             }
            },
            "type": "barpolar"
           }
          ],
          "carpet": [
           {
            "aaxis": {
             "endlinecolor": "#2a3f5f",
             "gridcolor": "white",
             "linecolor": "white",
             "minorgridcolor": "white",
             "startlinecolor": "#2a3f5f"
            },
            "baxis": {
             "endlinecolor": "#2a3f5f",
             "gridcolor": "white",
             "linecolor": "white",
             "minorgridcolor": "white",
             "startlinecolor": "#2a3f5f"
            },
            "type": "carpet"
           }
          ],
          "choropleth": [
           {
            "colorbar": {
             "outlinewidth": 0,
             "ticks": ""
            },
            "type": "choropleth"
           }
          ],
          "contour": [
           {
            "colorbar": {
             "outlinewidth": 0,
             "ticks": ""
            },
            "colorscale": [
             [
              0,
              "#0d0887"
             ],
             [
              0.1111111111111111,
              "#46039f"
             ],
             [
              0.2222222222222222,
              "#7201a8"
             ],
             [
              0.3333333333333333,
              "#9c179e"
             ],
             [
              0.4444444444444444,
              "#bd3786"
             ],
             [
              0.5555555555555556,
              "#d8576b"
             ],
             [
              0.6666666666666666,
              "#ed7953"
             ],
             [
              0.7777777777777778,
              "#fb9f3a"
             ],
             [
              0.8888888888888888,
              "#fdca26"
             ],
             [
              1,
              "#f0f921"
             ]
            ],
            "type": "contour"
           }
          ],
          "contourcarpet": [
           {
            "colorbar": {
             "outlinewidth": 0,
             "ticks": ""
            },
            "type": "contourcarpet"
           }
          ],
          "heatmap": [
           {
            "colorbar": {
             "outlinewidth": 0,
             "ticks": ""
            },
            "colorscale": [
             [
              0,
              "#0d0887"
             ],
             [
              0.1111111111111111,
              "#46039f"
             ],
             [
              0.2222222222222222,
              "#7201a8"
             ],
             [
              0.3333333333333333,
              "#9c179e"
             ],
             [
              0.4444444444444444,
              "#bd3786"
             ],
             [
              0.5555555555555556,
              "#d8576b"
             ],
             [
              0.6666666666666666,
              "#ed7953"
             ],
             [
              0.7777777777777778,
              "#fb9f3a"
             ],
             [
              0.8888888888888888,
              "#fdca26"
             ],
             [
              1,
              "#f0f921"
             ]
            ],
            "type": "heatmap"
           }
          ],
          "heatmapgl": [
           {
            "colorbar": {
             "outlinewidth": 0,
             "ticks": ""
            },
            "colorscale": [
             [
              0,
              "#0d0887"
             ],
             [
              0.1111111111111111,
              "#46039f"
             ],
             [
              0.2222222222222222,
              "#7201a8"
             ],
             [
              0.3333333333333333,
              "#9c179e"
             ],
             [
              0.4444444444444444,
              "#bd3786"
             ],
             [
              0.5555555555555556,
              "#d8576b"
             ],
             [
              0.6666666666666666,
              "#ed7953"
             ],
             [
              0.7777777777777778,
              "#fb9f3a"
             ],
             [
              0.8888888888888888,
              "#fdca26"
             ],
             [
              1,
              "#f0f921"
             ]
            ],
            "type": "heatmapgl"
           }
          ],
          "histogram": [
           {
            "marker": {
             "pattern": {
              "fillmode": "overlay",
              "size": 10,
              "solidity": 0.2
             }
            },
            "type": "histogram"
           }
          ],
          "histogram2d": [
           {
            "colorbar": {
             "outlinewidth": 0,
             "ticks": ""
            },
            "colorscale": [
             [
              0,
              "#0d0887"
             ],
             [
              0.1111111111111111,
              "#46039f"
             ],
             [
              0.2222222222222222,
              "#7201a8"
             ],
             [
              0.3333333333333333,
              "#9c179e"
             ],
             [
              0.4444444444444444,
              "#bd3786"
             ],
             [
              0.5555555555555556,
              "#d8576b"
             ],
             [
              0.6666666666666666,
              "#ed7953"
             ],
             [
              0.7777777777777778,
              "#fb9f3a"
             ],
             [
              0.8888888888888888,
              "#fdca26"
             ],
             [
              1,
              "#f0f921"
             ]
            ],
            "type": "histogram2d"
           }
          ],
          "histogram2dcontour": [
           {
            "colorbar": {
             "outlinewidth": 0,
             "ticks": ""
            },
            "colorscale": [
             [
              0,
              "#0d0887"
             ],
             [
              0.1111111111111111,
              "#46039f"
             ],
             [
              0.2222222222222222,
              "#7201a8"
             ],
             [
              0.3333333333333333,
              "#9c179e"
             ],
             [
              0.4444444444444444,
              "#bd3786"
             ],
             [
              0.5555555555555556,
              "#d8576b"
             ],
             [
              0.6666666666666666,
              "#ed7953"
             ],
             [
              0.7777777777777778,
              "#fb9f3a"
             ],
             [
              0.8888888888888888,
              "#fdca26"
             ],
             [
              1,
              "#f0f921"
             ]
            ],
            "type": "histogram2dcontour"
           }
          ],
          "mesh3d": [
           {
            "colorbar": {
             "outlinewidth": 0,
             "ticks": ""
            },
            "type": "mesh3d"
           }
          ],
          "parcoords": [
           {
            "line": {
             "colorbar": {
              "outlinewidth": 0,
              "ticks": ""
             }
            },
            "type": "parcoords"
           }
          ],
          "pie": [
           {
            "automargin": true,
            "type": "pie"
           }
          ],
          "scatter": [
           {
            "fillpattern": {
             "fillmode": "overlay",
             "size": 10,
             "solidity": 0.2
            },
            "type": "scatter"
           }
          ],
          "scatter3d": [
           {
            "line": {
             "colorbar": {
              "outlinewidth": 0,
              "ticks": ""
             }
            },
            "marker": {
             "colorbar": {
              "outlinewidth": 0,
              "ticks": ""
             }
            },
            "type": "scatter3d"
           }
          ],
          "scattercarpet": [
           {
            "marker": {
             "colorbar": {
              "outlinewidth": 0,
              "ticks": ""
             }
            },
            "type": "scattercarpet"
           }
          ],
          "scattergeo": [
           {
            "marker": {
             "colorbar": {
              "outlinewidth": 0,
              "ticks": ""
             }
            },
            "type": "scattergeo"
           }
          ],
          "scattergl": [
           {
            "marker": {
             "colorbar": {
              "outlinewidth": 0,
              "ticks": ""
             }
            },
            "type": "scattergl"
           }
          ],
          "scattermapbox": [
           {
            "marker": {
             "colorbar": {
              "outlinewidth": 0,
              "ticks": ""
             }
            },
            "type": "scattermapbox"
           }
          ],
          "scatterpolar": [
           {
            "marker": {
             "colorbar": {
              "outlinewidth": 0,
              "ticks": ""
             }
            },
            "type": "scatterpolar"
           }
          ],
          "scatterpolargl": [
           {
            "marker": {
             "colorbar": {
              "outlinewidth": 0,
              "ticks": ""
             }
            },
            "type": "scatterpolargl"
           }
          ],
          "scatterternary": [
           {
            "marker": {
             "colorbar": {
              "outlinewidth": 0,
              "ticks": ""
             }
            },
            "type": "scatterternary"
           }
          ],
          "surface": [
           {
            "colorbar": {
             "outlinewidth": 0,
             "ticks": ""
            },
            "colorscale": [
             [
              0,
              "#0d0887"
             ],
             [
              0.1111111111111111,
              "#46039f"
             ],
             [
              0.2222222222222222,
              "#7201a8"
             ],
             [
              0.3333333333333333,
              "#9c179e"
             ],
             [
              0.4444444444444444,
              "#bd3786"
             ],
             [
              0.5555555555555556,
              "#d8576b"
             ],
             [
              0.6666666666666666,
              "#ed7953"
             ],
             [
              0.7777777777777778,
              "#fb9f3a"
             ],
             [
              0.8888888888888888,
              "#fdca26"
             ],
             [
              1,
              "#f0f921"
             ]
            ],
            "type": "surface"
           }
          ],
          "table": [
           {
            "cells": {
             "fill": {
              "color": "#EBF0F8"
             },
             "line": {
              "color": "white"
             }
            },
            "header": {
             "fill": {
              "color": "#C8D4E3"
             },
             "line": {
              "color": "white"
             }
            },
            "type": "table"
           }
          ]
         },
         "layout": {
          "annotationdefaults": {
           "arrowcolor": "#2a3f5f",
           "arrowhead": 0,
           "arrowwidth": 1
          },
          "autotypenumbers": "strict",
          "coloraxis": {
           "colorbar": {
            "outlinewidth": 0,
            "ticks": ""
           }
          },
          "colorscale": {
           "diverging": [
            [
             0,
             "#8e0152"
            ],
            [
             0.1,
             "#c51b7d"
            ],
            [
             0.2,
             "#de77ae"
            ],
            [
             0.3,
             "#f1b6da"
            ],
            [
             0.4,
             "#fde0ef"
            ],
            [
             0.5,
             "#f7f7f7"
            ],
            [
             0.6,
             "#e6f5d0"
            ],
            [
             0.7,
             "#b8e186"
            ],
            [
             0.8,
             "#7fbc41"
            ],
            [
             0.9,
             "#4d9221"
            ],
            [
             1,
             "#276419"
            ]
           ],
           "sequential": [
            [
             0,
             "#0d0887"
            ],
            [
             0.1111111111111111,
             "#46039f"
            ],
            [
             0.2222222222222222,
             "#7201a8"
            ],
            [
             0.3333333333333333,
             "#9c179e"
            ],
            [
             0.4444444444444444,
             "#bd3786"
            ],
            [
             0.5555555555555556,
             "#d8576b"
            ],
            [
             0.6666666666666666,
             "#ed7953"
            ],
            [
             0.7777777777777778,
             "#fb9f3a"
            ],
            [
             0.8888888888888888,
             "#fdca26"
            ],
            [
             1,
             "#f0f921"
            ]
           ],
           "sequentialminus": [
            [
             0,
             "#0d0887"
            ],
            [
             0.1111111111111111,
             "#46039f"
            ],
            [
             0.2222222222222222,
             "#7201a8"
            ],
            [
             0.3333333333333333,
             "#9c179e"
            ],
            [
             0.4444444444444444,
             "#bd3786"
            ],
            [
             0.5555555555555556,
             "#d8576b"
            ],
            [
             0.6666666666666666,
             "#ed7953"
            ],
            [
             0.7777777777777778,
             "#fb9f3a"
            ],
            [
             0.8888888888888888,
             "#fdca26"
            ],
            [
             1,
             "#f0f921"
            ]
           ]
          },
          "colorway": [
           "#636efa",
           "#EF553B",
           "#00cc96",
           "#ab63fa",
           "#FFA15A",
           "#19d3f3",
           "#FF6692",
           "#B6E880",
           "#FF97FF",
           "#FECB52"
          ],
          "font": {
           "color": "#2a3f5f"
          },
          "geo": {
           "bgcolor": "white",
           "lakecolor": "white",
           "landcolor": "#E5ECF6",
           "showlakes": true,
           "showland": true,
           "subunitcolor": "white"
          },
          "hoverlabel": {
           "align": "left"
          },
          "hovermode": "closest",
          "mapbox": {
           "style": "light"
          },
          "paper_bgcolor": "white",
          "plot_bgcolor": "#E5ECF6",
          "polar": {
           "angularaxis": {
            "gridcolor": "white",
            "linecolor": "white",
            "ticks": ""
           },
           "bgcolor": "#E5ECF6",
           "radialaxis": {
            "gridcolor": "white",
            "linecolor": "white",
            "ticks": ""
           }
          },
          "scene": {
           "xaxis": {
            "backgroundcolor": "#E5ECF6",
            "gridcolor": "white",
            "gridwidth": 2,
            "linecolor": "white",
            "showbackground": true,
            "ticks": "",
            "zerolinecolor": "white"
           },
           "yaxis": {
            "backgroundcolor": "#E5ECF6",
            "gridcolor": "white",
            "gridwidth": 2,
            "linecolor": "white",
            "showbackground": true,
            "ticks": "",
            "zerolinecolor": "white"
           },
           "zaxis": {
            "backgroundcolor": "#E5ECF6",
            "gridcolor": "white",
            "gridwidth": 2,
            "linecolor": "white",
            "showbackground": true,
            "ticks": "",
            "zerolinecolor": "white"
           }
          },
          "shapedefaults": {
           "line": {
            "color": "#2a3f5f"
           }
          },
          "ternary": {
           "aaxis": {
            "gridcolor": "white",
            "linecolor": "white",
            "ticks": ""
           },
           "baxis": {
            "gridcolor": "white",
            "linecolor": "white",
            "ticks": ""
           },
           "bgcolor": "#E5ECF6",
           "caxis": {
            "gridcolor": "white",
            "linecolor": "white",
            "ticks": ""
           }
          },
          "title": {
           "x": 0.05
          },
          "xaxis": {
           "automargin": true,
           "gridcolor": "white",
           "linecolor": "white",
           "ticks": "",
           "title": {
            "standoff": 15
           },
           "zerolinecolor": "white",
           "zerolinewidth": 2
          },
          "yaxis": {
           "automargin": true,
           "gridcolor": "white",
           "linecolor": "white",
           "ticks": "",
           "title": {
            "standoff": 15
           },
           "zerolinecolor": "white",
           "zerolinewidth": 2
          }
         }
        },
        "title": {
         "text": "hiding variations"
        },
        "xaxis": {
         "anchor": "y",
         "domain": [
          0,
          1
         ],
         "title": {
          "text": "Year"
         }
        },
        "yaxis": {
         "anchor": "x",
         "domain": [
          0,
          1
         ],
         "range": [
          -50,
          120
         ],
         "title": {
          "text": "value"
         }
        }
       }
      }
     },
     "metadata": {},
     "output_type": "display_data"
    }
   ],
   "source": [
    "fig = px.line(df_melt, x='Year', y='value',color=\"Major\",color_discrete_sequence=px.colors.qualitative.Alphabet)\n",
    "fig.update_layout(title='hiding variations', yaxis=dict(range=[-50, 120]))\n",
    "fig.show()"
   ]
  },
  {
   "cell_type": "markdown",
   "metadata": {},
   "source": [
    "changing aspect ratio"
   ]
  },
  {
   "cell_type": "code",
   "execution_count": 18,
   "metadata": {
    "colab": {
     "base_uri": "https://localhost:8080/",
     "height": 542
    },
    "id": "I2GaI6amlBxB",
    "outputId": "7ad458f7-8a90-4c18-82cb-a502184e8af5"
   },
   "outputs": [
    {
     "data": {
      "application/vnd.plotly.v1+json": {
       "config": {
        "plotlyServerURL": "https://plot.ly"
       },
       "data": [
        {
         "hovertemplate": "variable=Agriculture<br>Year=%{x}<br>value=%{y}<extra></extra>",
         "legendgroup": "Agriculture",
         "line": {
          "color": "#AA0DFE",
          "dash": "solid"
         },
         "marker": {
          "symbol": "circle"
         },
         "mode": "lines",
         "name": "Agriculture",
         "orientation": "v",
         "showlegend": true,
         "type": "scatter",
         "x": [
          1970,
          1971,
          1972,
          1973,
          1974,
          1975,
          1976,
          1977,
          1978,
          1979,
          1980,
          1981,
          1982,
          1983,
          1984,
          1985,
          1986,
          1987,
          1988,
          1989,
          1990,
          1991,
          1992,
          1993,
          1994,
          1995,
          1996,
          1997,
          1998,
          1999,
          2000,
          2001,
          2002,
          2003,
          2004,
          2005,
          2006,
          2007,
          2008,
          2009,
          2010,
          2011
         ],
         "xaxis": "x",
         "y": [
          4.22979798,
          5.452796685,
          7.42071022,
          9.653602412,
          14.07462346,
          18.33316153,
          22.25276005,
          24.6401766,
          27.14619175,
          29.63336549,
          30.75938956,
          31.31865519,
          32.63666364,
          31.6353471,
          31.09294748,
          31.3796588,
          31.19871923,
          31.48642948,
          31.08508746,
          31.6124031,
          32.70344407,
          34.71183749,
          33.93165961,
          34.94683208,
          36.03267447,
          36.84480747,
          38.96977475,
          40.68568483,
          41.91240333,
          42.88720191,
          45.05776637,
          45.86601517,
          47.13465821,
          47.93518721,
          47.88714025,
          47.67275409,
          46.79029957,
          47.60502633,
          47.570834,
          48.66722357,
          48.73004227,
          50.03718193
         ],
         "yaxis": "y"
        },
        {
         "hovertemplate": "variable=Architecture<br>Year=%{x}<br>value=%{y}<extra></extra>",
         "legendgroup": "Architecture",
         "line": {
          "color": "#3283FE",
          "dash": "solid"
         },
         "marker": {
          "symbol": "circle"
         },
         "mode": "lines",
         "name": "Architecture",
         "orientation": "v",
         "showlegend": true,
         "type": "scatter",
         "x": [
          1970,
          1971,
          1972,
          1973,
          1974,
          1975,
          1976,
          1977,
          1978,
          1979,
          1980,
          1981,
          1982,
          1983,
          1984,
          1985,
          1986,
          1987,
          1988,
          1989,
          1990,
          1991,
          1992,
          1993,
          1994,
          1995,
          1996,
          1997,
          1998,
          1999,
          2000,
          2001,
          2002,
          2003,
          2004,
          2005,
          2006,
          2007,
          2008,
          2009,
          2010,
          2011
         ],
         "xaxis": "x",
         "y": [
          11.92100539,
          12.00310559,
          13.21459351,
          14.7916134,
          17.44468758,
          19.13404767,
          21.39449143,
          23.74054054,
          25.84923973,
          27.77047744,
          28.08038075,
          29.84169408,
          34.81624758,
          35.82625735,
          35.45308311,
          36.13334795,
          37.24022346,
          38.73067535,
          39.3989071,
          39.09653994,
          40.82404662,
          33.67988118,
          35.20235628,
          35.77715877,
          34.43353129,
          36.06321839,
          35.9264854,
          35.10193413,
          37.59854457,
          38.63152919,
          40.02358491,
          40.69028156,
          41.13295053,
          42.75854266,
          43.46649345,
          43.10036784,
          44.49933107,
          43.10045895,
          42.71173041,
          43.34892051,
          42.06672091,
          42.7734375
         ],
         "yaxis": "y"
        },
        {
         "hovertemplate": "variable=Art and Performance<br>Year=%{x}<br>value=%{y}<extra></extra>",
         "legendgroup": "Art and Performance",
         "line": {
          "color": "#85660D",
          "dash": "solid"
         },
         "marker": {
          "symbol": "circle"
         },
         "mode": "lines",
         "name": "Art and Performance",
         "orientation": "v",
         "showlegend": true,
         "type": "scatter",
         "x": [
          1970,
          1971,
          1972,
          1973,
          1974,
          1975,
          1976,
          1977,
          1978,
          1979,
          1980,
          1981,
          1982,
          1983,
          1984,
          1985,
          1986,
          1987,
          1988,
          1989,
          1990,
          1991,
          1992,
          1993,
          1994,
          1995,
          1996,
          1997,
          1998,
          1999,
          2000,
          2001,
          2002,
          2003,
          2004,
          2005,
          2006,
          2007,
          2008,
          2009,
          2010,
          2011
         ],
         "xaxis": "x",
         "y": [
          59.7,
          59.9,
          60.4,
          60.2,
          61.9,
          60.9,
          61.3,
          62,
          62.5,
          63.2,
          63.4,
          63.3,
          63.1,
          62.4,
          62.1,
          61.8,
          62.1,
          61.7,
          61.7,
          62,
          62.6,
          62.1,
          61,
          60.2,
          59.4,
          59.2,
          58.6,
          58.7,
          59.1,
          59.2,
          59.2,
          59.4,
          60.9,
          61.1,
          61.3,
          61.4,
          61.6,
          61.4,
          60.7,
          61,
          61.3,
          61.2
         ],
         "yaxis": "y"
        },
        {
         "hovertemplate": "variable=Biology<br>Year=%{x}<br>value=%{y}<extra></extra>",
         "legendgroup": "Biology",
         "line": {
          "color": "#782AB6",
          "dash": "solid"
         },
         "marker": {
          "symbol": "circle"
         },
         "mode": "lines",
         "name": "Biology",
         "orientation": "v",
         "showlegend": true,
         "type": "scatter",
         "x": [
          1970,
          1971,
          1972,
          1973,
          1974,
          1975,
          1976,
          1977,
          1978,
          1979,
          1980,
          1981,
          1982,
          1983,
          1984,
          1985,
          1986,
          1987,
          1988,
          1989,
          1990,
          1991,
          1992,
          1993,
          1994,
          1995,
          1996,
          1997,
          1998,
          1999,
          2000,
          2001,
          2002,
          2003,
          2004,
          2005,
          2006,
          2007,
          2008,
          2009,
          2010,
          2011
         ],
         "xaxis": "x",
         "y": [
          29.08836297,
          29.39440285,
          29.81022105,
          31.14791477,
          32.99618284,
          34.44990213,
          36.07287146,
          38.33138629,
          40.11249564,
          42.06555109,
          43.99925716,
          45.24951206,
          45.96733794,
          46.71313451,
          47.66908276,
          47.9098841,
          48.30067763,
          50.20987789,
          50.09981147,
          50.77471585,
          50.81809432,
          51.46880537,
          51.34974154,
          51.12484404,
          52.2462176,
          52.59940342,
          53.78988011,
          54.99946903,
          56.35124789,
          58.22882288,
          59.38985737,
          60.71233149,
          61.8951284,
          62.1694558,
          61.91458697,
          61.50098432,
          60.17284465,
          59.41199314,
          59.30576517,
          58.48958333,
          59.01025521,
          58.7423969
         ],
         "yaxis": "y"
        },
        {
         "hovertemplate": "variable=Business<br>Year=%{x}<br>value=%{y}<extra></extra>",
         "legendgroup": "Business",
         "line": {
          "color": "#565656",
          "dash": "solid"
         },
         "marker": {
          "symbol": "circle"
         },
         "mode": "lines",
         "name": "Business",
         "orientation": "v",
         "showlegend": true,
         "type": "scatter",
         "x": [
          1970,
          1971,
          1972,
          1973,
          1974,
          1975,
          1976,
          1977,
          1978,
          1979,
          1980,
          1981,
          1982,
          1983,
          1984,
          1985,
          1986,
          1987,
          1988,
          1989,
          1990,
          1991,
          1992,
          1993,
          1994,
          1995,
          1996,
          1997,
          1998,
          1999,
          2000,
          2001,
          2002,
          2003,
          2004,
          2005,
          2006,
          2007,
          2008,
          2009,
          2010,
          2011
         ],
         "xaxis": "x",
         "y": [
          9.064438975,
          9.503186594,
          10.5589621,
          12.80460152,
          16.20485038,
          19.68624931,
          23.4300375,
          27.16342715,
          30.52751868,
          33.62163381,
          36.76572529,
          39.26622984,
          41.94937335,
          43.54206966,
          45.12403027,
          45.747782,
          46.53291505,
          46.69046648,
          46.7648277,
          46.7815648,
          47.20085084,
          47.22432481,
          47.21939541,
          47.63933161,
          47.98392441,
          48.57318101,
          48.6473926,
          48.56105033,
          49.2585152,
          49.81020815,
          49.80361649,
          50.27514494,
          50.5523346,
          50.34559774,
          49.95089449,
          49.79185139,
          49.21091439,
          49.00045935,
          48.88802678,
          48.84047414,
          48.75798769,
          48.18041792
         ],
         "yaxis": "y"
        },
        {
         "hovertemplate": "variable=Communications and Journalism<br>Year=%{x}<br>value=%{y}<extra></extra>",
         "legendgroup": "Communications and Journalism",
         "line": {
          "color": "#1C8356",
          "dash": "solid"
         },
         "marker": {
          "symbol": "circle"
         },
         "mode": "lines",
         "name": "Communications and Journalism",
         "orientation": "v",
         "showlegend": true,
         "type": "scatter",
         "x": [
          1970,
          1971,
          1972,
          1973,
          1974,
          1975,
          1976,
          1977,
          1978,
          1979,
          1980,
          1981,
          1982,
          1983,
          1984,
          1985,
          1986,
          1987,
          1988,
          1989,
          1990,
          1991,
          1992,
          1993,
          1994,
          1995,
          1996,
          1997,
          1998,
          1999,
          2000,
          2001,
          2002,
          2003,
          2004,
          2005,
          2006,
          2007,
          2008,
          2009,
          2010,
          2011
         ],
         "xaxis": "x",
         "y": [
          35.3,
          35.5,
          36.6,
          38.4,
          40.5,
          41.5,
          44.3,
          46.9,
          49.9,
          52.3,
          54.7,
          56.4,
          58,
          58.6,
          59.1,
          59,
          60,
          60.2,
          60.4,
          60.5,
          60.8,
          60.8,
          59.7,
          58.7,
          58.1,
          58.8,
          58.7,
          60,
          60,
          61.2,
          61.9,
          63,
          63.7,
          64.6,
          64.2,
          63.4,
          63,
          62.5,
          62.4,
          62.8,
          62.5,
          62.2
         ],
         "yaxis": "y"
        },
        {
         "hovertemplate": "variable=Computer Science<br>Year=%{x}<br>value=%{y}<extra></extra>",
         "legendgroup": "Computer Science",
         "line": {
          "color": "#16FF32",
          "dash": "solid"
         },
         "marker": {
          "symbol": "circle"
         },
         "mode": "lines",
         "name": "Computer Science",
         "orientation": "v",
         "showlegend": true,
         "type": "scatter",
         "x": [
          1970,
          1971,
          1972,
          1973,
          1974,
          1975,
          1976,
          1977,
          1978,
          1979,
          1980,
          1981,
          1982,
          1983,
          1984,
          1985,
          1986,
          1987,
          1988,
          1989,
          1990,
          1991,
          1992,
          1993,
          1994,
          1995,
          1996,
          1997,
          1998,
          1999,
          2000,
          2001,
          2002,
          2003,
          2004,
          2005,
          2006,
          2007,
          2008,
          2009,
          2010,
          2011
         ],
         "xaxis": "x",
         "y": [
          13.6,
          13.6,
          14.9,
          16.4,
          18.9,
          19.8,
          23.9,
          25.7,
          28.1,
          30.2,
          32.5,
          34.8,
          36.3,
          37.1,
          36.8,
          35.7,
          34.7,
          32.4,
          30.8,
          29.9,
          29.4,
          28.7,
          28.2,
          28.5,
          28.5,
          27.5,
          27.1,
          26.8,
          27,
          28.1,
          27.7,
          27.6,
          27,
          25.1,
          22.2,
          20.6,
          18.6,
          17.6,
          17.8,
          18.1,
          17.6,
          18.2
         ],
         "yaxis": "y"
        },
        {
         "hovertemplate": "variable=Education<br>Year=%{x}<br>value=%{y}<extra></extra>",
         "legendgroup": "Education",
         "line": {
          "color": "#F7E1A0",
          "dash": "solid"
         },
         "marker": {
          "symbol": "circle"
         },
         "mode": "lines",
         "name": "Education",
         "orientation": "v",
         "showlegend": true,
         "type": "scatter",
         "x": [
          1970,
          1971,
          1972,
          1973,
          1974,
          1975,
          1976,
          1977,
          1978,
          1979,
          1980,
          1981,
          1982,
          1983,
          1984,
          1985,
          1986,
          1987,
          1988,
          1989,
          1990,
          1991,
          1992,
          1993,
          1994,
          1995,
          1996,
          1997,
          1998,
          1999,
          2000,
          2001,
          2002,
          2003,
          2004,
          2005,
          2006,
          2007,
          2008,
          2009,
          2010,
          2011
         ],
         "xaxis": "x",
         "y": [
          74.53532758,
          74.14920369,
          73.55451996,
          73.50181443,
          73.33681143,
          72.80185448,
          72.16652471,
          72.45639481,
          73.19282134,
          73.82114234,
          74.98103152,
          75.84512345,
          75.84364914,
          75.95060123,
          75.86911601,
          75.92343971,
          76.14301516,
          76.96309168,
          77.62766177,
          78.11191872,
          78.86685859,
          78.99124597,
          78.43518191,
          77.26731199,
          75.81493264,
          75.12525621,
          75.03519921,
          75.1637013,
          75.48616027,
          75.83816206,
          76.69214284,
          77.37522931,
          78.64424394,
          78.54494815,
          78.65074774,
          79.06712173,
          78.68630551,
          78.72141311,
          79.19632674,
          79.5329087,
          79.61862451,
          79.43281184
         ],
         "yaxis": "y"
        },
        {
         "hovertemplate": "variable=Engineering<br>Year=%{x}<br>value=%{y}<extra></extra>",
         "legendgroup": "Engineering",
         "line": {
          "color": "#E2E2E2",
          "dash": "solid"
         },
         "marker": {
          "symbol": "circle"
         },
         "mode": "lines",
         "name": "Engineering",
         "orientation": "v",
         "showlegend": true,
         "type": "scatter",
         "x": [
          1970,
          1971,
          1972,
          1973,
          1974,
          1975,
          1976,
          1977,
          1978,
          1979,
          1980,
          1981,
          1982,
          1983,
          1984,
          1985,
          1986,
          1987,
          1988,
          1989,
          1990,
          1991,
          1992,
          1993,
          1994,
          1995,
          1996,
          1997,
          1998,
          1999,
          2000,
          2001,
          2002,
          2003,
          2004,
          2005,
          2006,
          2007,
          2008,
          2009,
          2010,
          2011
         ],
         "xaxis": "x",
         "y": [
          0.8,
          1,
          1.2,
          1.6,
          2.2,
          3.2,
          4.5,
          6.8,
          8.4,
          9.4,
          10.3,
          11.6,
          12.4,
          13.1,
          13.5,
          13.5,
          13.9,
          14,
          13.9,
          14.1,
          14.1,
          14,
          14.5,
          14.9,
          15.7,
          16.2,
          16.7,
          17,
          17.8,
          18.6,
          18.4,
          19,
          18.7,
          18.8,
          18.2,
          17.9,
          16.8,
          16.8,
          16.5,
          16.8,
          17.2,
          17.5
         ],
         "yaxis": "y"
        },
        {
         "hovertemplate": "variable=English<br>Year=%{x}<br>value=%{y}<extra></extra>",
         "legendgroup": "English",
         "line": {
          "color": "#1CBE4F",
          "dash": "solid"
         },
         "marker": {
          "symbol": "circle"
         },
         "mode": "lines",
         "name": "English",
         "orientation": "v",
         "showlegend": true,
         "type": "scatter",
         "x": [
          1970,
          1971,
          1972,
          1973,
          1974,
          1975,
          1976,
          1977,
          1978,
          1979,
          1980,
          1981,
          1982,
          1983,
          1984,
          1985,
          1986,
          1987,
          1988,
          1989,
          1990,
          1991,
          1992,
          1993,
          1994,
          1995,
          1996,
          1997,
          1998,
          1999,
          2000,
          2001,
          2002,
          2003,
          2004,
          2005,
          2006,
          2007,
          2008,
          2009,
          2010,
          2011
         ],
         "xaxis": "x",
         "y": [
          65.57092343,
          64.55648516,
          63.6642632,
          62.94150212,
          62.41341209,
          61.64720641,
          62.14819377,
          62.72306675,
          63.61912216,
          65.08838972,
          65.28413007,
          65.83832154,
          65.84735212,
          65.91837999,
          65.74986233,
          65.79819852,
          65.98256091,
          66.70603055,
          67.14449816,
          67.01707156,
          66.92190193,
          66.24147465,
          65.62245655,
          65.73095014,
          65.64197772,
          65.93694921,
          66.43777883,
          66.78635548,
          67.2554484,
          67.82022113,
          68.36599498,
          68.57852029,
          68.82995959,
          68.89448726,
          68.45473436,
          68.57122114,
          68.29759443,
          67.87492278,
          67.59402834,
          67.96979204,
          67.92810557,
          68.42673015
         ],
         "yaxis": "y"
        },
        {
         "hovertemplate": "variable=Foreign Languages<br>Year=%{x}<br>value=%{y}<extra></extra>",
         "legendgroup": "Foreign Languages",
         "line": {
          "color": "#C4451C",
          "dash": "solid"
         },
         "marker": {
          "symbol": "circle"
         },
         "mode": "lines",
         "name": "Foreign Languages",
         "orientation": "v",
         "showlegend": true,
         "type": "scatter",
         "x": [
          1970,
          1971,
          1972,
          1973,
          1974,
          1975,
          1976,
          1977,
          1978,
          1979,
          1980,
          1981,
          1982,
          1983,
          1984,
          1985,
          1986,
          1987,
          1988,
          1989,
          1990,
          1991,
          1992,
          1993,
          1994,
          1995,
          1996,
          1997,
          1998,
          1999,
          2000,
          2001,
          2002,
          2003,
          2004,
          2005,
          2006,
          2007,
          2008,
          2009,
          2010,
          2011
         ],
         "xaxis": "x",
         "y": [
          73.8,
          73.9,
          74.6,
          74.9,
          75.3,
          75,
          74.4,
          74.3,
          74.3,
          74.2,
          74.1,
          73.9,
          72.7,
          71.8,
          72.1,
          70.8,
          71.2,
          72,
          72.3,
          72.4,
          71.2,
          71.1,
          71,
          70,
          69.1,
          69.6,
          69.7,
          70,
          70.1,
          70.9,
          70.9,
          71.2,
          70.5,
          70.6,
          70.8,
          69.9,
          69.6,
          70.2,
          70.2,
          69.3,
          69,
          69.5
         ],
         "yaxis": "y"
        },
        {
         "hovertemplate": "variable=Health Professions<br>Year=%{x}<br>value=%{y}<extra></extra>",
         "legendgroup": "Health Professions",
         "line": {
          "color": "#DEA0FD",
          "dash": "solid"
         },
         "marker": {
          "symbol": "circle"
         },
         "mode": "lines",
         "name": "Health Professions",
         "orientation": "v",
         "showlegend": true,
         "type": "scatter",
         "x": [
          1970,
          1971,
          1972,
          1973,
          1974,
          1975,
          1976,
          1977,
          1978,
          1979,
          1980,
          1981,
          1982,
          1983,
          1984,
          1985,
          1986,
          1987,
          1988,
          1989,
          1990,
          1991,
          1992,
          1993,
          1994,
          1995,
          1996,
          1997,
          1998,
          1999,
          2000,
          2001,
          2002,
          2003,
          2004,
          2005,
          2006,
          2007,
          2008,
          2009,
          2010,
          2011
         ],
         "xaxis": "x",
         "y": [
          77.1,
          75.5,
          76.9,
          77.4,
          77.9,
          78.9,
          79.2,
          80.5,
          81.9,
          82.3,
          83.5,
          84.1,
          84.4,
          84.6,
          85.1,
          85.3,
          85.7,
          85.5,
          85.2,
          84.6,
          83.9,
          83.5,
          83,
          82.4,
          81.8,
          81.5,
          81.3,
          81.9,
          82.1,
          83.5,
          83.5,
          85.1,
          85.8,
          86.5,
          86.5,
          86,
          85.9,
          85.4,
          85.2,
          85.1,
          85,
          84.8
         ],
         "yaxis": "y"
        },
        {
         "hovertemplate": "variable=Math and Statistics<br>Year=%{x}<br>value=%{y}<extra></extra>",
         "legendgroup": "Math and Statistics",
         "line": {
          "color": "#FE00FA",
          "dash": "solid"
         },
         "marker": {
          "symbol": "circle"
         },
         "mode": "lines",
         "name": "Math and Statistics",
         "orientation": "v",
         "showlegend": true,
         "type": "scatter",
         "x": [
          1970,
          1971,
          1972,
          1973,
          1974,
          1975,
          1976,
          1977,
          1978,
          1979,
          1980,
          1981,
          1982,
          1983,
          1984,
          1985,
          1986,
          1987,
          1988,
          1989,
          1990,
          1991,
          1992,
          1993,
          1994,
          1995,
          1996,
          1997,
          1998,
          1999,
          2000,
          2001,
          2002,
          2003,
          2004,
          2005,
          2006,
          2007,
          2008,
          2009,
          2010,
          2011
         ],
         "xaxis": "x",
         "y": [
          38,
          39,
          40.2,
          40.9,
          41.8,
          40.7,
          41.5,
          41.1,
          41.6,
          42.3,
          42.8,
          43.2,
          44,
          44.3,
          46.2,
          46.5,
          46.7,
          46.5,
          46.2,
          46.2,
          47.3,
          47,
          47.4,
          46.4,
          47,
          46.1,
          46.4,
          47,
          48.3,
          47.8,
          48.2,
          47,
          45.7,
          46,
          44.7,
          45.1,
          44.1,
          44.1,
          43.3,
          43.3,
          43.1,
          43.1
         ],
         "yaxis": "y"
        },
        {
         "hovertemplate": "variable=Physical Sciences<br>Year=%{x}<br>value=%{y}<extra></extra>",
         "legendgroup": "Physical Sciences",
         "line": {
          "color": "#325A9B",
          "dash": "solid"
         },
         "marker": {
          "symbol": "circle"
         },
         "mode": "lines",
         "name": "Physical Sciences",
         "orientation": "v",
         "showlegend": true,
         "type": "scatter",
         "x": [
          1970,
          1971,
          1972,
          1973,
          1974,
          1975,
          1976,
          1977,
          1978,
          1979,
          1980,
          1981,
          1982,
          1983,
          1984,
          1985,
          1986,
          1987,
          1988,
          1989,
          1990,
          1991,
          1992,
          1993,
          1994,
          1995,
          1996,
          1997,
          1998,
          1999,
          2000,
          2001,
          2002,
          2003,
          2004,
          2005,
          2006,
          2007,
          2008,
          2009,
          2010,
          2011
         ],
         "xaxis": "x",
         "y": [
          13.8,
          14.9,
          14.8,
          16.5,
          18.2,
          19.1,
          20,
          21.3,
          22.5,
          23.7,
          24.6,
          25.7,
          27.3,
          27.6,
          28,
          27.5,
          28.4,
          30.4,
          29.7,
          31.3,
          31.6,
          32.6,
          32.6,
          33.6,
          34.8,
          35.9,
          37.3,
          38.3,
          39.7,
          40.2,
          41,
          42.2,
          41.1,
          41.7,
          42.1,
          41.6,
          40.8,
          40.7,
          40.7,
          40.7,
          40.2,
          40.1
         ],
         "yaxis": "y"
        },
        {
         "hovertemplate": "variable=Psychology<br>Year=%{x}<br>value=%{y}<extra></extra>",
         "legendgroup": "Psychology",
         "line": {
          "color": "#FEAF16",
          "dash": "solid"
         },
         "marker": {
          "symbol": "circle"
         },
         "mode": "lines",
         "name": "Psychology",
         "orientation": "v",
         "showlegend": true,
         "type": "scatter",
         "x": [
          1970,
          1971,
          1972,
          1973,
          1974,
          1975,
          1976,
          1977,
          1978,
          1979,
          1980,
          1981,
          1982,
          1983,
          1984,
          1985,
          1986,
          1987,
          1988,
          1989,
          1990,
          1991,
          1992,
          1993,
          1994,
          1995,
          1996,
          1997,
          1998,
          1999,
          2000,
          2001,
          2002,
          2003,
          2004,
          2005,
          2006,
          2007,
          2008,
          2009,
          2010,
          2011
         ],
         "xaxis": "x",
         "y": [
          44.4,
          46.2,
          47.6,
          50.4,
          52.6,
          54.5,
          56.9,
          59,
          61.3,
          63.3,
          65.1,
          66.9,
          67.5,
          67.9,
          68.2,
          69,
          69,
          70.1,
          70.9,
          71.6,
          72.6,
          73.2,
          73.2,
          73.1,
          72.9,
          73,
          73.9,
          74.4,
          75.1,
          76.5,
          77.5,
          77.5,
          77.7,
          77.8,
          77.8,
          77.5,
          77.4,
          77.1,
          77.2,
          77.1,
          77,
          76.7
         ],
         "yaxis": "y"
        },
        {
         "hovertemplate": "variable=Public Administration<br>Year=%{x}<br>value=%{y}<extra></extra>",
         "legendgroup": "Public Administration",
         "line": {
          "color": "#F8A19F",
          "dash": "solid"
         },
         "marker": {
          "symbol": "circle"
         },
         "mode": "lines",
         "name": "Public Administration",
         "orientation": "v",
         "showlegend": true,
         "type": "scatter",
         "x": [
          1970,
          1971,
          1972,
          1973,
          1974,
          1975,
          1976,
          1977,
          1978,
          1979,
          1980,
          1981,
          1982,
          1983,
          1984,
          1985,
          1986,
          1987,
          1988,
          1989,
          1990,
          1991,
          1992,
          1993,
          1994,
          1995,
          1996,
          1997,
          1998,
          1999,
          2000,
          2001,
          2002,
          2003,
          2004,
          2005,
          2006,
          2007,
          2008,
          2009,
          2010,
          2011
         ],
         "xaxis": "x",
         "y": [
          68.4,
          65.5,
          62.6,
          64.3,
          66.1,
          63,
          65.6,
          69.3,
          71.5,
          73.3,
          74.6,
          74.7,
          76.8,
          76.1,
          75.9,
          75,
          75.7,
          76.4,
          75.6,
          76,
          77.6,
          78.2,
          77.3,
          78,
          78.8,
          78.8,
          79.8,
          81,
          81.3,
          81.1,
          81.1,
          80.9,
          81.3,
          81.5,
          80.7,
          81.2,
          81.2,
          82.1,
          81.7,
          82,
          81.7,
          81.9
         ],
         "yaxis": "y"
        },
        {
         "hovertemplate": "variable=Social Sciences and History<br>Year=%{x}<br>value=%{y}<extra></extra>",
         "legendgroup": "Social Sciences and History",
         "line": {
          "color": "#90AD1C",
          "dash": "solid"
         },
         "marker": {
          "symbol": "circle"
         },
         "mode": "lines",
         "name": "Social Sciences and History",
         "orientation": "v",
         "showlegend": true,
         "type": "scatter",
         "x": [
          1970,
          1971,
          1972,
          1973,
          1974,
          1975,
          1976,
          1977,
          1978,
          1979,
          1980,
          1981,
          1982,
          1983,
          1984,
          1985,
          1986,
          1987,
          1988,
          1989,
          1990,
          1991,
          1992,
          1993,
          1994,
          1995,
          1996,
          1997,
          1998,
          1999,
          2000,
          2001,
          2002,
          2003,
          2004,
          2005,
          2006,
          2007,
          2008,
          2009,
          2010,
          2011
         ],
         "xaxis": "x",
         "y": [
          36.8,
          36.2,
          36.1,
          36.4,
          37.3,
          37.7,
          39.2,
          40.5,
          41.8,
          43.6,
          44.2,
          44.6,
          44.6,
          44.1,
          44.1,
          43.8,
          44,
          43.9,
          44.4,
          44.2,
          45.1,
          45.5,
          45.8,
          46.1,
          46.8,
          47.9,
          48.7,
          49.2,
          50.5,
          51.2,
          51.8,
          51.7,
          51.5,
          50.9,
          50.5,
          50,
          49.8,
          49.3,
          49.4,
          49.4,
          49.3,
          49.2
         ],
         "yaxis": "y"
        }
       ],
       "layout": {
        "height": 800,
        "legend": {
         "font": {
          "color": "black",
          "size": 8
         },
         "title": {
          "font": {
           "size": 10
          },
          "text": "variable"
         },
         "tracegroupgap": 0
        },
        "margin": {
         "t": 60
        },
        "template": {
         "data": {
          "bar": [
           {
            "error_x": {
             "color": "#2a3f5f"
            },
            "error_y": {
             "color": "#2a3f5f"
            },
            "marker": {
             "line": {
              "color": "#E5ECF6",
              "width": 0.5
             },
             "pattern": {
              "fillmode": "overlay",
              "size": 10,
              "solidity": 0.2
             }
            },
            "type": "bar"
           }
          ],
          "barpolar": [
           {
            "marker": {
             "line": {
              "color": "#E5ECF6",
              "width": 0.5
             },
             "pattern": {
              "fillmode": "overlay",
              "size": 10,
              "solidity": 0.2
             }
            },
            "type": "barpolar"
           }
          ],
          "carpet": [
           {
            "aaxis": {
             "endlinecolor": "#2a3f5f",
             "gridcolor": "white",
             "linecolor": "white",
             "minorgridcolor": "white",
             "startlinecolor": "#2a3f5f"
            },
            "baxis": {
             "endlinecolor": "#2a3f5f",
             "gridcolor": "white",
             "linecolor": "white",
             "minorgridcolor": "white",
             "startlinecolor": "#2a3f5f"
            },
            "type": "carpet"
           }
          ],
          "choropleth": [
           {
            "colorbar": {
             "outlinewidth": 0,
             "ticks": ""
            },
            "type": "choropleth"
           }
          ],
          "contour": [
           {
            "colorbar": {
             "outlinewidth": 0,
             "ticks": ""
            },
            "colorscale": [
             [
              0,
              "#0d0887"
             ],
             [
              0.1111111111111111,
              "#46039f"
             ],
             [
              0.2222222222222222,
              "#7201a8"
             ],
             [
              0.3333333333333333,
              "#9c179e"
             ],
             [
              0.4444444444444444,
              "#bd3786"
             ],
             [
              0.5555555555555556,
              "#d8576b"
             ],
             [
              0.6666666666666666,
              "#ed7953"
             ],
             [
              0.7777777777777778,
              "#fb9f3a"
             ],
             [
              0.8888888888888888,
              "#fdca26"
             ],
             [
              1,
              "#f0f921"
             ]
            ],
            "type": "contour"
           }
          ],
          "contourcarpet": [
           {
            "colorbar": {
             "outlinewidth": 0,
             "ticks": ""
            },
            "type": "contourcarpet"
           }
          ],
          "heatmap": [
           {
            "colorbar": {
             "outlinewidth": 0,
             "ticks": ""
            },
            "colorscale": [
             [
              0,
              "#0d0887"
             ],
             [
              0.1111111111111111,
              "#46039f"
             ],
             [
              0.2222222222222222,
              "#7201a8"
             ],
             [
              0.3333333333333333,
              "#9c179e"
             ],
             [
              0.4444444444444444,
              "#bd3786"
             ],
             [
              0.5555555555555556,
              "#d8576b"
             ],
             [
              0.6666666666666666,
              "#ed7953"
             ],
             [
              0.7777777777777778,
              "#fb9f3a"
             ],
             [
              0.8888888888888888,
              "#fdca26"
             ],
             [
              1,
              "#f0f921"
             ]
            ],
            "type": "heatmap"
           }
          ],
          "heatmapgl": [
           {
            "colorbar": {
             "outlinewidth": 0,
             "ticks": ""
            },
            "colorscale": [
             [
              0,
              "#0d0887"
             ],
             [
              0.1111111111111111,
              "#46039f"
             ],
             [
              0.2222222222222222,
              "#7201a8"
             ],
             [
              0.3333333333333333,
              "#9c179e"
             ],
             [
              0.4444444444444444,
              "#bd3786"
             ],
             [
              0.5555555555555556,
              "#d8576b"
             ],
             [
              0.6666666666666666,
              "#ed7953"
             ],
             [
              0.7777777777777778,
              "#fb9f3a"
             ],
             [
              0.8888888888888888,
              "#fdca26"
             ],
             [
              1,
              "#f0f921"
             ]
            ],
            "type": "heatmapgl"
           }
          ],
          "histogram": [
           {
            "marker": {
             "pattern": {
              "fillmode": "overlay",
              "size": 10,
              "solidity": 0.2
             }
            },
            "type": "histogram"
           }
          ],
          "histogram2d": [
           {
            "colorbar": {
             "outlinewidth": 0,
             "ticks": ""
            },
            "colorscale": [
             [
              0,
              "#0d0887"
             ],
             [
              0.1111111111111111,
              "#46039f"
             ],
             [
              0.2222222222222222,
              "#7201a8"
             ],
             [
              0.3333333333333333,
              "#9c179e"
             ],
             [
              0.4444444444444444,
              "#bd3786"
             ],
             [
              0.5555555555555556,
              "#d8576b"
             ],
             [
              0.6666666666666666,
              "#ed7953"
             ],
             [
              0.7777777777777778,
              "#fb9f3a"
             ],
             [
              0.8888888888888888,
              "#fdca26"
             ],
             [
              1,
              "#f0f921"
             ]
            ],
            "type": "histogram2d"
           }
          ],
          "histogram2dcontour": [
           {
            "colorbar": {
             "outlinewidth": 0,
             "ticks": ""
            },
            "colorscale": [
             [
              0,
              "#0d0887"
             ],
             [
              0.1111111111111111,
              "#46039f"
             ],
             [
              0.2222222222222222,
              "#7201a8"
             ],
             [
              0.3333333333333333,
              "#9c179e"
             ],
             [
              0.4444444444444444,
              "#bd3786"
             ],
             [
              0.5555555555555556,
              "#d8576b"
             ],
             [
              0.6666666666666666,
              "#ed7953"
             ],
             [
              0.7777777777777778,
              "#fb9f3a"
             ],
             [
              0.8888888888888888,
              "#fdca26"
             ],
             [
              1,
              "#f0f921"
             ]
            ],
            "type": "histogram2dcontour"
           }
          ],
          "mesh3d": [
           {
            "colorbar": {
             "outlinewidth": 0,
             "ticks": ""
            },
            "type": "mesh3d"
           }
          ],
          "parcoords": [
           {
            "line": {
             "colorbar": {
              "outlinewidth": 0,
              "ticks": ""
             }
            },
            "type": "parcoords"
           }
          ],
          "pie": [
           {
            "automargin": true,
            "type": "pie"
           }
          ],
          "scatter": [
           {
            "fillpattern": {
             "fillmode": "overlay",
             "size": 10,
             "solidity": 0.2
            },
            "type": "scatter"
           }
          ],
          "scatter3d": [
           {
            "line": {
             "colorbar": {
              "outlinewidth": 0,
              "ticks": ""
             }
            },
            "marker": {
             "colorbar": {
              "outlinewidth": 0,
              "ticks": ""
             }
            },
            "type": "scatter3d"
           }
          ],
          "scattercarpet": [
           {
            "marker": {
             "colorbar": {
              "outlinewidth": 0,
              "ticks": ""
             }
            },
            "type": "scattercarpet"
           }
          ],
          "scattergeo": [
           {
            "marker": {
             "colorbar": {
              "outlinewidth": 0,
              "ticks": ""
             }
            },
            "type": "scattergeo"
           }
          ],
          "scattergl": [
           {
            "marker": {
             "colorbar": {
              "outlinewidth": 0,
              "ticks": ""
             }
            },
            "type": "scattergl"
           }
          ],
          "scattermapbox": [
           {
            "marker": {
             "colorbar": {
              "outlinewidth": 0,
              "ticks": ""
             }
            },
            "type": "scattermapbox"
           }
          ],
          "scatterpolar": [
           {
            "marker": {
             "colorbar": {
              "outlinewidth": 0,
              "ticks": ""
             }
            },
            "type": "scatterpolar"
           }
          ],
          "scatterpolargl": [
           {
            "marker": {
             "colorbar": {
              "outlinewidth": 0,
              "ticks": ""
             }
            },
            "type": "scatterpolargl"
           }
          ],
          "scatterternary": [
           {
            "marker": {
             "colorbar": {
              "outlinewidth": 0,
              "ticks": ""
             }
            },
            "type": "scatterternary"
           }
          ],
          "surface": [
           {
            "colorbar": {
             "outlinewidth": 0,
             "ticks": ""
            },
            "colorscale": [
             [
              0,
              "#0d0887"
             ],
             [
              0.1111111111111111,
              "#46039f"
             ],
             [
              0.2222222222222222,
              "#7201a8"
             ],
             [
              0.3333333333333333,
              "#9c179e"
             ],
             [
              0.4444444444444444,
              "#bd3786"
             ],
             [
              0.5555555555555556,
              "#d8576b"
             ],
             [
              0.6666666666666666,
              "#ed7953"
             ],
             [
              0.7777777777777778,
              "#fb9f3a"
             ],
             [
              0.8888888888888888,
              "#fdca26"
             ],
             [
              1,
              "#f0f921"
             ]
            ],
            "type": "surface"
           }
          ],
          "table": [
           {
            "cells": {
             "fill": {
              "color": "#EBF0F8"
             },
             "line": {
              "color": "white"
             }
            },
            "header": {
             "fill": {
              "color": "#C8D4E3"
             },
             "line": {
              "color": "white"
             }
            },
            "type": "table"
           }
          ]
         },
         "layout": {
          "annotationdefaults": {
           "arrowcolor": "#2a3f5f",
           "arrowhead": 0,
           "arrowwidth": 1
          },
          "autotypenumbers": "strict",
          "coloraxis": {
           "colorbar": {
            "outlinewidth": 0,
            "ticks": ""
           }
          },
          "colorscale": {
           "diverging": [
            [
             0,
             "#8e0152"
            ],
            [
             0.1,
             "#c51b7d"
            ],
            [
             0.2,
             "#de77ae"
            ],
            [
             0.3,
             "#f1b6da"
            ],
            [
             0.4,
             "#fde0ef"
            ],
            [
             0.5,
             "#f7f7f7"
            ],
            [
             0.6,
             "#e6f5d0"
            ],
            [
             0.7,
             "#b8e186"
            ],
            [
             0.8,
             "#7fbc41"
            ],
            [
             0.9,
             "#4d9221"
            ],
            [
             1,
             "#276419"
            ]
           ],
           "sequential": [
            [
             0,
             "#0d0887"
            ],
            [
             0.1111111111111111,
             "#46039f"
            ],
            [
             0.2222222222222222,
             "#7201a8"
            ],
            [
             0.3333333333333333,
             "#9c179e"
            ],
            [
             0.4444444444444444,
             "#bd3786"
            ],
            [
             0.5555555555555556,
             "#d8576b"
            ],
            [
             0.6666666666666666,
             "#ed7953"
            ],
            [
             0.7777777777777778,
             "#fb9f3a"
            ],
            [
             0.8888888888888888,
             "#fdca26"
            ],
            [
             1,
             "#f0f921"
            ]
           ],
           "sequentialminus": [
            [
             0,
             "#0d0887"
            ],
            [
             0.1111111111111111,
             "#46039f"
            ],
            [
             0.2222222222222222,
             "#7201a8"
            ],
            [
             0.3333333333333333,
             "#9c179e"
            ],
            [
             0.4444444444444444,
             "#bd3786"
            ],
            [
             0.5555555555555556,
             "#d8576b"
            ],
            [
             0.6666666666666666,
             "#ed7953"
            ],
            [
             0.7777777777777778,
             "#fb9f3a"
            ],
            [
             0.8888888888888888,
             "#fdca26"
            ],
            [
             1,
             "#f0f921"
            ]
           ]
          },
          "colorway": [
           "#636efa",
           "#EF553B",
           "#00cc96",
           "#ab63fa",
           "#FFA15A",
           "#19d3f3",
           "#FF6692",
           "#B6E880",
           "#FF97FF",
           "#FECB52"
          ],
          "font": {
           "color": "#2a3f5f"
          },
          "geo": {
           "bgcolor": "white",
           "lakecolor": "white",
           "landcolor": "#E5ECF6",
           "showlakes": true,
           "showland": true,
           "subunitcolor": "white"
          },
          "hoverlabel": {
           "align": "left"
          },
          "hovermode": "closest",
          "mapbox": {
           "style": "light"
          },
          "paper_bgcolor": "white",
          "plot_bgcolor": "#E5ECF6",
          "polar": {
           "angularaxis": {
            "gridcolor": "white",
            "linecolor": "white",
            "ticks": ""
           },
           "bgcolor": "#E5ECF6",
           "radialaxis": {
            "gridcolor": "white",
            "linecolor": "white",
            "ticks": ""
           }
          },
          "scene": {
           "xaxis": {
            "backgroundcolor": "#E5ECF6",
            "gridcolor": "white",
            "gridwidth": 2,
            "linecolor": "white",
            "showbackground": true,
            "ticks": "",
            "zerolinecolor": "white"
           },
           "yaxis": {
            "backgroundcolor": "#E5ECF6",
            "gridcolor": "white",
            "gridwidth": 2,
            "linecolor": "white",
            "showbackground": true,
            "ticks": "",
            "zerolinecolor": "white"
           },
           "zaxis": {
            "backgroundcolor": "#E5ECF6",
            "gridcolor": "white",
            "gridwidth": 2,
            "linecolor": "white",
            "showbackground": true,
            "ticks": "",
            "zerolinecolor": "white"
           }
          },
          "shapedefaults": {
           "line": {
            "color": "#2a3f5f"
           }
          },
          "ternary": {
           "aaxis": {
            "gridcolor": "white",
            "linecolor": "white",
            "ticks": ""
           },
           "baxis": {
            "gridcolor": "white",
            "linecolor": "white",
            "ticks": ""
           },
           "bgcolor": "#E5ECF6",
           "caxis": {
            "gridcolor": "white",
            "linecolor": "white",
            "ticks": ""
           }
          },
          "title": {
           "x": 0.05
          },
          "xaxis": {
           "automargin": true,
           "gridcolor": "white",
           "linecolor": "white",
           "ticks": "",
           "title": {
            "standoff": 15
           },
           "zerolinecolor": "white",
           "zerolinewidth": 2
          },
          "yaxis": {
           "automargin": true,
           "gridcolor": "white",
           "linecolor": "white",
           "ticks": "",
           "title": {
            "standoff": 15
           },
           "zerolinecolor": "white",
           "zerolinewidth": 2
          }
         }
        },
        "title": {
         "text": "enhancing by changing figure size"
        },
        "width": 400,
        "xaxis": {
         "anchor": "y",
         "domain": [
          0,
          1
         ],
         "title": {
          "text": "Year"
         }
        },
        "yaxis": {
         "anchor": "x",
         "domain": [
          0,
          1
         ],
         "scaleanchor": "x",
         "scaleratio": 2,
         "title": {
          "text": "value"
         }
        }
       }
      }
     },
     "metadata": {},
     "output_type": "display_data"
    }
   ],
   "source": [
    "fig_enhanced =  px.line(degree_gender_ratio, x='Year', y=[x for x in degree_gender_ratio.columns[1:]],color_discrete_sequence=px.colors.qualitative.Alphabet)\n",
    "\n",
    "fig_enhanced.update_layout(legend = dict(font = dict(size = 8, color = \"black\")),\n",
    "                  legend_title = dict(font = dict(size = 10)))\n",
    "\n",
    "fig_enhanced.update_layout(\n",
    "    width = 400,\n",
    "    height = 800,\n",
    "    title = \"enhancing by changing figure size\"\n",
    ")\n",
    "fig_enhanced.update_yaxes(\n",
    "    scaleanchor = \"x\",\n",
    "    scaleratio = 2,\n",
    "  )\n",
    "fig_enhanced.show()"
   ]
  },
  {
   "cell_type": "code",
   "execution_count": 21,
   "metadata": {
    "colab": {
     "base_uri": "https://localhost:8080/",
     "height": 542
    },
    "id": "JPyJoK9tn5dI",
    "outputId": "97ff8ddc-bc62-4d2f-b7d9-10ac343ffd9b"
   },
   "outputs": [
    {
     "data": {
      "application/vnd.plotly.v1+json": {
       "config": {
        "plotlyServerURL": "https://plot.ly"
       },
       "data": [
        {
         "hovertemplate": "variable=Agriculture<br>Year=%{x}<br>value=%{y}<extra></extra>",
         "legendgroup": "Agriculture",
         "line": {
          "color": "#AA0DFE",
          "dash": "solid"
         },
         "marker": {
          "symbol": "circle"
         },
         "mode": "lines",
         "name": "Agriculture",
         "orientation": "v",
         "showlegend": true,
         "type": "scatter",
         "x": [
          1970,
          1971,
          1972,
          1973,
          1974,
          1975,
          1976,
          1977,
          1978,
          1979,
          1980,
          1981,
          1982,
          1983,
          1984,
          1985,
          1986,
          1987,
          1988,
          1989,
          1990,
          1991,
          1992,
          1993,
          1994,
          1995,
          1996,
          1997,
          1998,
          1999,
          2000,
          2001,
          2002,
          2003,
          2004,
          2005,
          2006,
          2007,
          2008,
          2009,
          2010,
          2011
         ],
         "xaxis": "x",
         "y": [
          4.22979798,
          5.452796685,
          7.42071022,
          9.653602412,
          14.07462346,
          18.33316153,
          22.25276005,
          24.6401766,
          27.14619175,
          29.63336549,
          30.75938956,
          31.31865519,
          32.63666364,
          31.6353471,
          31.09294748,
          31.3796588,
          31.19871923,
          31.48642948,
          31.08508746,
          31.6124031,
          32.70344407,
          34.71183749,
          33.93165961,
          34.94683208,
          36.03267447,
          36.84480747,
          38.96977475,
          40.68568483,
          41.91240333,
          42.88720191,
          45.05776637,
          45.86601517,
          47.13465821,
          47.93518721,
          47.88714025,
          47.67275409,
          46.79029957,
          47.60502633,
          47.570834,
          48.66722357,
          48.73004227,
          50.03718193
         ],
         "yaxis": "y"
        },
        {
         "hovertemplate": "variable=Architecture<br>Year=%{x}<br>value=%{y}<extra></extra>",
         "legendgroup": "Architecture",
         "line": {
          "color": "#3283FE",
          "dash": "solid"
         },
         "marker": {
          "symbol": "circle"
         },
         "mode": "lines",
         "name": "Architecture",
         "orientation": "v",
         "showlegend": true,
         "type": "scatter",
         "x": [
          1970,
          1971,
          1972,
          1973,
          1974,
          1975,
          1976,
          1977,
          1978,
          1979,
          1980,
          1981,
          1982,
          1983,
          1984,
          1985,
          1986,
          1987,
          1988,
          1989,
          1990,
          1991,
          1992,
          1993,
          1994,
          1995,
          1996,
          1997,
          1998,
          1999,
          2000,
          2001,
          2002,
          2003,
          2004,
          2005,
          2006,
          2007,
          2008,
          2009,
          2010,
          2011
         ],
         "xaxis": "x",
         "y": [
          11.92100539,
          12.00310559,
          13.21459351,
          14.7916134,
          17.44468758,
          19.13404767,
          21.39449143,
          23.74054054,
          25.84923973,
          27.77047744,
          28.08038075,
          29.84169408,
          34.81624758,
          35.82625735,
          35.45308311,
          36.13334795,
          37.24022346,
          38.73067535,
          39.3989071,
          39.09653994,
          40.82404662,
          33.67988118,
          35.20235628,
          35.77715877,
          34.43353129,
          36.06321839,
          35.9264854,
          35.10193413,
          37.59854457,
          38.63152919,
          40.02358491,
          40.69028156,
          41.13295053,
          42.75854266,
          43.46649345,
          43.10036784,
          44.49933107,
          43.10045895,
          42.71173041,
          43.34892051,
          42.06672091,
          42.7734375
         ],
         "yaxis": "y"
        },
        {
         "hovertemplate": "variable=Art and Performance<br>Year=%{x}<br>value=%{y}<extra></extra>",
         "legendgroup": "Art and Performance",
         "line": {
          "color": "#85660D",
          "dash": "solid"
         },
         "marker": {
          "symbol": "circle"
         },
         "mode": "lines",
         "name": "Art and Performance",
         "orientation": "v",
         "showlegend": true,
         "type": "scatter",
         "x": [
          1970,
          1971,
          1972,
          1973,
          1974,
          1975,
          1976,
          1977,
          1978,
          1979,
          1980,
          1981,
          1982,
          1983,
          1984,
          1985,
          1986,
          1987,
          1988,
          1989,
          1990,
          1991,
          1992,
          1993,
          1994,
          1995,
          1996,
          1997,
          1998,
          1999,
          2000,
          2001,
          2002,
          2003,
          2004,
          2005,
          2006,
          2007,
          2008,
          2009,
          2010,
          2011
         ],
         "xaxis": "x",
         "y": [
          59.7,
          59.9,
          60.4,
          60.2,
          61.9,
          60.9,
          61.3,
          62,
          62.5,
          63.2,
          63.4,
          63.3,
          63.1,
          62.4,
          62.1,
          61.8,
          62.1,
          61.7,
          61.7,
          62,
          62.6,
          62.1,
          61,
          60.2,
          59.4,
          59.2,
          58.6,
          58.7,
          59.1,
          59.2,
          59.2,
          59.4,
          60.9,
          61.1,
          61.3,
          61.4,
          61.6,
          61.4,
          60.7,
          61,
          61.3,
          61.2
         ],
         "yaxis": "y"
        },
        {
         "hovertemplate": "variable=Biology<br>Year=%{x}<br>value=%{y}<extra></extra>",
         "legendgroup": "Biology",
         "line": {
          "color": "#782AB6",
          "dash": "solid"
         },
         "marker": {
          "symbol": "circle"
         },
         "mode": "lines",
         "name": "Biology",
         "orientation": "v",
         "showlegend": true,
         "type": "scatter",
         "x": [
          1970,
          1971,
          1972,
          1973,
          1974,
          1975,
          1976,
          1977,
          1978,
          1979,
          1980,
          1981,
          1982,
          1983,
          1984,
          1985,
          1986,
          1987,
          1988,
          1989,
          1990,
          1991,
          1992,
          1993,
          1994,
          1995,
          1996,
          1997,
          1998,
          1999,
          2000,
          2001,
          2002,
          2003,
          2004,
          2005,
          2006,
          2007,
          2008,
          2009,
          2010,
          2011
         ],
         "xaxis": "x",
         "y": [
          29.08836297,
          29.39440285,
          29.81022105,
          31.14791477,
          32.99618284,
          34.44990213,
          36.07287146,
          38.33138629,
          40.11249564,
          42.06555109,
          43.99925716,
          45.24951206,
          45.96733794,
          46.71313451,
          47.66908276,
          47.9098841,
          48.30067763,
          50.20987789,
          50.09981147,
          50.77471585,
          50.81809432,
          51.46880537,
          51.34974154,
          51.12484404,
          52.2462176,
          52.59940342,
          53.78988011,
          54.99946903,
          56.35124789,
          58.22882288,
          59.38985737,
          60.71233149,
          61.8951284,
          62.1694558,
          61.91458697,
          61.50098432,
          60.17284465,
          59.41199314,
          59.30576517,
          58.48958333,
          59.01025521,
          58.7423969
         ],
         "yaxis": "y"
        },
        {
         "hovertemplate": "variable=Business<br>Year=%{x}<br>value=%{y}<extra></extra>",
         "legendgroup": "Business",
         "line": {
          "color": "#565656",
          "dash": "solid"
         },
         "marker": {
          "symbol": "circle"
         },
         "mode": "lines",
         "name": "Business",
         "orientation": "v",
         "showlegend": true,
         "type": "scatter",
         "x": [
          1970,
          1971,
          1972,
          1973,
          1974,
          1975,
          1976,
          1977,
          1978,
          1979,
          1980,
          1981,
          1982,
          1983,
          1984,
          1985,
          1986,
          1987,
          1988,
          1989,
          1990,
          1991,
          1992,
          1993,
          1994,
          1995,
          1996,
          1997,
          1998,
          1999,
          2000,
          2001,
          2002,
          2003,
          2004,
          2005,
          2006,
          2007,
          2008,
          2009,
          2010,
          2011
         ],
         "xaxis": "x",
         "y": [
          9.064438975,
          9.503186594,
          10.5589621,
          12.80460152,
          16.20485038,
          19.68624931,
          23.4300375,
          27.16342715,
          30.52751868,
          33.62163381,
          36.76572529,
          39.26622984,
          41.94937335,
          43.54206966,
          45.12403027,
          45.747782,
          46.53291505,
          46.69046648,
          46.7648277,
          46.7815648,
          47.20085084,
          47.22432481,
          47.21939541,
          47.63933161,
          47.98392441,
          48.57318101,
          48.6473926,
          48.56105033,
          49.2585152,
          49.81020815,
          49.80361649,
          50.27514494,
          50.5523346,
          50.34559774,
          49.95089449,
          49.79185139,
          49.21091439,
          49.00045935,
          48.88802678,
          48.84047414,
          48.75798769,
          48.18041792
         ],
         "yaxis": "y"
        },
        {
         "hovertemplate": "variable=Communications and Journalism<br>Year=%{x}<br>value=%{y}<extra></extra>",
         "legendgroup": "Communications and Journalism",
         "line": {
          "color": "#1C8356",
          "dash": "solid"
         },
         "marker": {
          "symbol": "circle"
         },
         "mode": "lines",
         "name": "Communications and Journalism",
         "orientation": "v",
         "showlegend": true,
         "type": "scatter",
         "x": [
          1970,
          1971,
          1972,
          1973,
          1974,
          1975,
          1976,
          1977,
          1978,
          1979,
          1980,
          1981,
          1982,
          1983,
          1984,
          1985,
          1986,
          1987,
          1988,
          1989,
          1990,
          1991,
          1992,
          1993,
          1994,
          1995,
          1996,
          1997,
          1998,
          1999,
          2000,
          2001,
          2002,
          2003,
          2004,
          2005,
          2006,
          2007,
          2008,
          2009,
          2010,
          2011
         ],
         "xaxis": "x",
         "y": [
          35.3,
          35.5,
          36.6,
          38.4,
          40.5,
          41.5,
          44.3,
          46.9,
          49.9,
          52.3,
          54.7,
          56.4,
          58,
          58.6,
          59.1,
          59,
          60,
          60.2,
          60.4,
          60.5,
          60.8,
          60.8,
          59.7,
          58.7,
          58.1,
          58.8,
          58.7,
          60,
          60,
          61.2,
          61.9,
          63,
          63.7,
          64.6,
          64.2,
          63.4,
          63,
          62.5,
          62.4,
          62.8,
          62.5,
          62.2
         ],
         "yaxis": "y"
        },
        {
         "hovertemplate": "variable=Computer Science<br>Year=%{x}<br>value=%{y}<extra></extra>",
         "legendgroup": "Computer Science",
         "line": {
          "color": "#16FF32",
          "dash": "solid"
         },
         "marker": {
          "symbol": "circle"
         },
         "mode": "lines",
         "name": "Computer Science",
         "orientation": "v",
         "showlegend": true,
         "type": "scatter",
         "x": [
          1970,
          1971,
          1972,
          1973,
          1974,
          1975,
          1976,
          1977,
          1978,
          1979,
          1980,
          1981,
          1982,
          1983,
          1984,
          1985,
          1986,
          1987,
          1988,
          1989,
          1990,
          1991,
          1992,
          1993,
          1994,
          1995,
          1996,
          1997,
          1998,
          1999,
          2000,
          2001,
          2002,
          2003,
          2004,
          2005,
          2006,
          2007,
          2008,
          2009,
          2010,
          2011
         ],
         "xaxis": "x",
         "y": [
          13.6,
          13.6,
          14.9,
          16.4,
          18.9,
          19.8,
          23.9,
          25.7,
          28.1,
          30.2,
          32.5,
          34.8,
          36.3,
          37.1,
          36.8,
          35.7,
          34.7,
          32.4,
          30.8,
          29.9,
          29.4,
          28.7,
          28.2,
          28.5,
          28.5,
          27.5,
          27.1,
          26.8,
          27,
          28.1,
          27.7,
          27.6,
          27,
          25.1,
          22.2,
          20.6,
          18.6,
          17.6,
          17.8,
          18.1,
          17.6,
          18.2
         ],
         "yaxis": "y"
        },
        {
         "hovertemplate": "variable=Education<br>Year=%{x}<br>value=%{y}<extra></extra>",
         "legendgroup": "Education",
         "line": {
          "color": "#F7E1A0",
          "dash": "solid"
         },
         "marker": {
          "symbol": "circle"
         },
         "mode": "lines",
         "name": "Education",
         "orientation": "v",
         "showlegend": true,
         "type": "scatter",
         "x": [
          1970,
          1971,
          1972,
          1973,
          1974,
          1975,
          1976,
          1977,
          1978,
          1979,
          1980,
          1981,
          1982,
          1983,
          1984,
          1985,
          1986,
          1987,
          1988,
          1989,
          1990,
          1991,
          1992,
          1993,
          1994,
          1995,
          1996,
          1997,
          1998,
          1999,
          2000,
          2001,
          2002,
          2003,
          2004,
          2005,
          2006,
          2007,
          2008,
          2009,
          2010,
          2011
         ],
         "xaxis": "x",
         "y": [
          74.53532758,
          74.14920369,
          73.55451996,
          73.50181443,
          73.33681143,
          72.80185448,
          72.16652471,
          72.45639481,
          73.19282134,
          73.82114234,
          74.98103152,
          75.84512345,
          75.84364914,
          75.95060123,
          75.86911601,
          75.92343971,
          76.14301516,
          76.96309168,
          77.62766177,
          78.11191872,
          78.86685859,
          78.99124597,
          78.43518191,
          77.26731199,
          75.81493264,
          75.12525621,
          75.03519921,
          75.1637013,
          75.48616027,
          75.83816206,
          76.69214284,
          77.37522931,
          78.64424394,
          78.54494815,
          78.65074774,
          79.06712173,
          78.68630551,
          78.72141311,
          79.19632674,
          79.5329087,
          79.61862451,
          79.43281184
         ],
         "yaxis": "y"
        },
        {
         "hovertemplate": "variable=Engineering<br>Year=%{x}<br>value=%{y}<extra></extra>",
         "legendgroup": "Engineering",
         "line": {
          "color": "#E2E2E2",
          "dash": "solid"
         },
         "marker": {
          "symbol": "circle"
         },
         "mode": "lines",
         "name": "Engineering",
         "orientation": "v",
         "showlegend": true,
         "type": "scatter",
         "x": [
          1970,
          1971,
          1972,
          1973,
          1974,
          1975,
          1976,
          1977,
          1978,
          1979,
          1980,
          1981,
          1982,
          1983,
          1984,
          1985,
          1986,
          1987,
          1988,
          1989,
          1990,
          1991,
          1992,
          1993,
          1994,
          1995,
          1996,
          1997,
          1998,
          1999,
          2000,
          2001,
          2002,
          2003,
          2004,
          2005,
          2006,
          2007,
          2008,
          2009,
          2010,
          2011
         ],
         "xaxis": "x",
         "y": [
          0.8,
          1,
          1.2,
          1.6,
          2.2,
          3.2,
          4.5,
          6.8,
          8.4,
          9.4,
          10.3,
          11.6,
          12.4,
          13.1,
          13.5,
          13.5,
          13.9,
          14,
          13.9,
          14.1,
          14.1,
          14,
          14.5,
          14.9,
          15.7,
          16.2,
          16.7,
          17,
          17.8,
          18.6,
          18.4,
          19,
          18.7,
          18.8,
          18.2,
          17.9,
          16.8,
          16.8,
          16.5,
          16.8,
          17.2,
          17.5
         ],
         "yaxis": "y"
        },
        {
         "hovertemplate": "variable=English<br>Year=%{x}<br>value=%{y}<extra></extra>",
         "legendgroup": "English",
         "line": {
          "color": "#1CBE4F",
          "dash": "solid"
         },
         "marker": {
          "symbol": "circle"
         },
         "mode": "lines",
         "name": "English",
         "orientation": "v",
         "showlegend": true,
         "type": "scatter",
         "x": [
          1970,
          1971,
          1972,
          1973,
          1974,
          1975,
          1976,
          1977,
          1978,
          1979,
          1980,
          1981,
          1982,
          1983,
          1984,
          1985,
          1986,
          1987,
          1988,
          1989,
          1990,
          1991,
          1992,
          1993,
          1994,
          1995,
          1996,
          1997,
          1998,
          1999,
          2000,
          2001,
          2002,
          2003,
          2004,
          2005,
          2006,
          2007,
          2008,
          2009,
          2010,
          2011
         ],
         "xaxis": "x",
         "y": [
          65.57092343,
          64.55648516,
          63.6642632,
          62.94150212,
          62.41341209,
          61.64720641,
          62.14819377,
          62.72306675,
          63.61912216,
          65.08838972,
          65.28413007,
          65.83832154,
          65.84735212,
          65.91837999,
          65.74986233,
          65.79819852,
          65.98256091,
          66.70603055,
          67.14449816,
          67.01707156,
          66.92190193,
          66.24147465,
          65.62245655,
          65.73095014,
          65.64197772,
          65.93694921,
          66.43777883,
          66.78635548,
          67.2554484,
          67.82022113,
          68.36599498,
          68.57852029,
          68.82995959,
          68.89448726,
          68.45473436,
          68.57122114,
          68.29759443,
          67.87492278,
          67.59402834,
          67.96979204,
          67.92810557,
          68.42673015
         ],
         "yaxis": "y"
        },
        {
         "hovertemplate": "variable=Foreign Languages<br>Year=%{x}<br>value=%{y}<extra></extra>",
         "legendgroup": "Foreign Languages",
         "line": {
          "color": "#C4451C",
          "dash": "solid"
         },
         "marker": {
          "symbol": "circle"
         },
         "mode": "lines",
         "name": "Foreign Languages",
         "orientation": "v",
         "showlegend": true,
         "type": "scatter",
         "x": [
          1970,
          1971,
          1972,
          1973,
          1974,
          1975,
          1976,
          1977,
          1978,
          1979,
          1980,
          1981,
          1982,
          1983,
          1984,
          1985,
          1986,
          1987,
          1988,
          1989,
          1990,
          1991,
          1992,
          1993,
          1994,
          1995,
          1996,
          1997,
          1998,
          1999,
          2000,
          2001,
          2002,
          2003,
          2004,
          2005,
          2006,
          2007,
          2008,
          2009,
          2010,
          2011
         ],
         "xaxis": "x",
         "y": [
          73.8,
          73.9,
          74.6,
          74.9,
          75.3,
          75,
          74.4,
          74.3,
          74.3,
          74.2,
          74.1,
          73.9,
          72.7,
          71.8,
          72.1,
          70.8,
          71.2,
          72,
          72.3,
          72.4,
          71.2,
          71.1,
          71,
          70,
          69.1,
          69.6,
          69.7,
          70,
          70.1,
          70.9,
          70.9,
          71.2,
          70.5,
          70.6,
          70.8,
          69.9,
          69.6,
          70.2,
          70.2,
          69.3,
          69,
          69.5
         ],
         "yaxis": "y"
        },
        {
         "hovertemplate": "variable=Health Professions<br>Year=%{x}<br>value=%{y}<extra></extra>",
         "legendgroup": "Health Professions",
         "line": {
          "color": "#DEA0FD",
          "dash": "solid"
         },
         "marker": {
          "symbol": "circle"
         },
         "mode": "lines",
         "name": "Health Professions",
         "orientation": "v",
         "showlegend": true,
         "type": "scatter",
         "x": [
          1970,
          1971,
          1972,
          1973,
          1974,
          1975,
          1976,
          1977,
          1978,
          1979,
          1980,
          1981,
          1982,
          1983,
          1984,
          1985,
          1986,
          1987,
          1988,
          1989,
          1990,
          1991,
          1992,
          1993,
          1994,
          1995,
          1996,
          1997,
          1998,
          1999,
          2000,
          2001,
          2002,
          2003,
          2004,
          2005,
          2006,
          2007,
          2008,
          2009,
          2010,
          2011
         ],
         "xaxis": "x",
         "y": [
          77.1,
          75.5,
          76.9,
          77.4,
          77.9,
          78.9,
          79.2,
          80.5,
          81.9,
          82.3,
          83.5,
          84.1,
          84.4,
          84.6,
          85.1,
          85.3,
          85.7,
          85.5,
          85.2,
          84.6,
          83.9,
          83.5,
          83,
          82.4,
          81.8,
          81.5,
          81.3,
          81.9,
          82.1,
          83.5,
          83.5,
          85.1,
          85.8,
          86.5,
          86.5,
          86,
          85.9,
          85.4,
          85.2,
          85.1,
          85,
          84.8
         ],
         "yaxis": "y"
        },
        {
         "hovertemplate": "variable=Math and Statistics<br>Year=%{x}<br>value=%{y}<extra></extra>",
         "legendgroup": "Math and Statistics",
         "line": {
          "color": "#FE00FA",
          "dash": "solid"
         },
         "marker": {
          "symbol": "circle"
         },
         "mode": "lines",
         "name": "Math and Statistics",
         "orientation": "v",
         "showlegend": true,
         "type": "scatter",
         "x": [
          1970,
          1971,
          1972,
          1973,
          1974,
          1975,
          1976,
          1977,
          1978,
          1979,
          1980,
          1981,
          1982,
          1983,
          1984,
          1985,
          1986,
          1987,
          1988,
          1989,
          1990,
          1991,
          1992,
          1993,
          1994,
          1995,
          1996,
          1997,
          1998,
          1999,
          2000,
          2001,
          2002,
          2003,
          2004,
          2005,
          2006,
          2007,
          2008,
          2009,
          2010,
          2011
         ],
         "xaxis": "x",
         "y": [
          38,
          39,
          40.2,
          40.9,
          41.8,
          40.7,
          41.5,
          41.1,
          41.6,
          42.3,
          42.8,
          43.2,
          44,
          44.3,
          46.2,
          46.5,
          46.7,
          46.5,
          46.2,
          46.2,
          47.3,
          47,
          47.4,
          46.4,
          47,
          46.1,
          46.4,
          47,
          48.3,
          47.8,
          48.2,
          47,
          45.7,
          46,
          44.7,
          45.1,
          44.1,
          44.1,
          43.3,
          43.3,
          43.1,
          43.1
         ],
         "yaxis": "y"
        },
        {
         "hovertemplate": "variable=Physical Sciences<br>Year=%{x}<br>value=%{y}<extra></extra>",
         "legendgroup": "Physical Sciences",
         "line": {
          "color": "#325A9B",
          "dash": "solid"
         },
         "marker": {
          "symbol": "circle"
         },
         "mode": "lines",
         "name": "Physical Sciences",
         "orientation": "v",
         "showlegend": true,
         "type": "scatter",
         "x": [
          1970,
          1971,
          1972,
          1973,
          1974,
          1975,
          1976,
          1977,
          1978,
          1979,
          1980,
          1981,
          1982,
          1983,
          1984,
          1985,
          1986,
          1987,
          1988,
          1989,
          1990,
          1991,
          1992,
          1993,
          1994,
          1995,
          1996,
          1997,
          1998,
          1999,
          2000,
          2001,
          2002,
          2003,
          2004,
          2005,
          2006,
          2007,
          2008,
          2009,
          2010,
          2011
         ],
         "xaxis": "x",
         "y": [
          13.8,
          14.9,
          14.8,
          16.5,
          18.2,
          19.1,
          20,
          21.3,
          22.5,
          23.7,
          24.6,
          25.7,
          27.3,
          27.6,
          28,
          27.5,
          28.4,
          30.4,
          29.7,
          31.3,
          31.6,
          32.6,
          32.6,
          33.6,
          34.8,
          35.9,
          37.3,
          38.3,
          39.7,
          40.2,
          41,
          42.2,
          41.1,
          41.7,
          42.1,
          41.6,
          40.8,
          40.7,
          40.7,
          40.7,
          40.2,
          40.1
         ],
         "yaxis": "y"
        },
        {
         "hovertemplate": "variable=Psychology<br>Year=%{x}<br>value=%{y}<extra></extra>",
         "legendgroup": "Psychology",
         "line": {
          "color": "#FEAF16",
          "dash": "solid"
         },
         "marker": {
          "symbol": "circle"
         },
         "mode": "lines",
         "name": "Psychology",
         "orientation": "v",
         "showlegend": true,
         "type": "scatter",
         "x": [
          1970,
          1971,
          1972,
          1973,
          1974,
          1975,
          1976,
          1977,
          1978,
          1979,
          1980,
          1981,
          1982,
          1983,
          1984,
          1985,
          1986,
          1987,
          1988,
          1989,
          1990,
          1991,
          1992,
          1993,
          1994,
          1995,
          1996,
          1997,
          1998,
          1999,
          2000,
          2001,
          2002,
          2003,
          2004,
          2005,
          2006,
          2007,
          2008,
          2009,
          2010,
          2011
         ],
         "xaxis": "x",
         "y": [
          44.4,
          46.2,
          47.6,
          50.4,
          52.6,
          54.5,
          56.9,
          59,
          61.3,
          63.3,
          65.1,
          66.9,
          67.5,
          67.9,
          68.2,
          69,
          69,
          70.1,
          70.9,
          71.6,
          72.6,
          73.2,
          73.2,
          73.1,
          72.9,
          73,
          73.9,
          74.4,
          75.1,
          76.5,
          77.5,
          77.5,
          77.7,
          77.8,
          77.8,
          77.5,
          77.4,
          77.1,
          77.2,
          77.1,
          77,
          76.7
         ],
         "yaxis": "y"
        },
        {
         "hovertemplate": "variable=Public Administration<br>Year=%{x}<br>value=%{y}<extra></extra>",
         "legendgroup": "Public Administration",
         "line": {
          "color": "#F8A19F",
          "dash": "solid"
         },
         "marker": {
          "symbol": "circle"
         },
         "mode": "lines",
         "name": "Public Administration",
         "orientation": "v",
         "showlegend": true,
         "type": "scatter",
         "x": [
          1970,
          1971,
          1972,
          1973,
          1974,
          1975,
          1976,
          1977,
          1978,
          1979,
          1980,
          1981,
          1982,
          1983,
          1984,
          1985,
          1986,
          1987,
          1988,
          1989,
          1990,
          1991,
          1992,
          1993,
          1994,
          1995,
          1996,
          1997,
          1998,
          1999,
          2000,
          2001,
          2002,
          2003,
          2004,
          2005,
          2006,
          2007,
          2008,
          2009,
          2010,
          2011
         ],
         "xaxis": "x",
         "y": [
          68.4,
          65.5,
          62.6,
          64.3,
          66.1,
          63,
          65.6,
          69.3,
          71.5,
          73.3,
          74.6,
          74.7,
          76.8,
          76.1,
          75.9,
          75,
          75.7,
          76.4,
          75.6,
          76,
          77.6,
          78.2,
          77.3,
          78,
          78.8,
          78.8,
          79.8,
          81,
          81.3,
          81.1,
          81.1,
          80.9,
          81.3,
          81.5,
          80.7,
          81.2,
          81.2,
          82.1,
          81.7,
          82,
          81.7,
          81.9
         ],
         "yaxis": "y"
        },
        {
         "hovertemplate": "variable=Social Sciences and History<br>Year=%{x}<br>value=%{y}<extra></extra>",
         "legendgroup": "Social Sciences and History",
         "line": {
          "color": "#90AD1C",
          "dash": "solid"
         },
         "marker": {
          "symbol": "circle"
         },
         "mode": "lines",
         "name": "Social Sciences and History",
         "orientation": "v",
         "showlegend": true,
         "type": "scatter",
         "x": [
          1970,
          1971,
          1972,
          1973,
          1974,
          1975,
          1976,
          1977,
          1978,
          1979,
          1980,
          1981,
          1982,
          1983,
          1984,
          1985,
          1986,
          1987,
          1988,
          1989,
          1990,
          1991,
          1992,
          1993,
          1994,
          1995,
          1996,
          1997,
          1998,
          1999,
          2000,
          2001,
          2002,
          2003,
          2004,
          2005,
          2006,
          2007,
          2008,
          2009,
          2010,
          2011
         ],
         "xaxis": "x",
         "y": [
          36.8,
          36.2,
          36.1,
          36.4,
          37.3,
          37.7,
          39.2,
          40.5,
          41.8,
          43.6,
          44.2,
          44.6,
          44.6,
          44.1,
          44.1,
          43.8,
          44,
          43.9,
          44.4,
          44.2,
          45.1,
          45.5,
          45.8,
          46.1,
          46.8,
          47.9,
          48.7,
          49.2,
          50.5,
          51.2,
          51.8,
          51.7,
          51.5,
          50.9,
          50.5,
          50,
          49.8,
          49.3,
          49.4,
          49.4,
          49.3,
          49.2
         ],
         "yaxis": "y"
        }
       ],
       "layout": {
        "height": 300,
        "legend": {
         "font": {
          "color": "black",
          "size": 8
         },
         "title": {
          "font": {
           "size": 10
          },
          "text": "variable"
         },
         "tracegroupgap": 0
        },
        "margin": {
         "t": 60
        },
        "template": {
         "data": {
          "bar": [
           {
            "error_x": {
             "color": "#2a3f5f"
            },
            "error_y": {
             "color": "#2a3f5f"
            },
            "marker": {
             "line": {
              "color": "#E5ECF6",
              "width": 0.5
             },
             "pattern": {
              "fillmode": "overlay",
              "size": 10,
              "solidity": 0.2
             }
            },
            "type": "bar"
           }
          ],
          "barpolar": [
           {
            "marker": {
             "line": {
              "color": "#E5ECF6",
              "width": 0.5
             },
             "pattern": {
              "fillmode": "overlay",
              "size": 10,
              "solidity": 0.2
             }
            },
            "type": "barpolar"
           }
          ],
          "carpet": [
           {
            "aaxis": {
             "endlinecolor": "#2a3f5f",
             "gridcolor": "white",
             "linecolor": "white",
             "minorgridcolor": "white",
             "startlinecolor": "#2a3f5f"
            },
            "baxis": {
             "endlinecolor": "#2a3f5f",
             "gridcolor": "white",
             "linecolor": "white",
             "minorgridcolor": "white",
             "startlinecolor": "#2a3f5f"
            },
            "type": "carpet"
           }
          ],
          "choropleth": [
           {
            "colorbar": {
             "outlinewidth": 0,
             "ticks": ""
            },
            "type": "choropleth"
           }
          ],
          "contour": [
           {
            "colorbar": {
             "outlinewidth": 0,
             "ticks": ""
            },
            "colorscale": [
             [
              0,
              "#0d0887"
             ],
             [
              0.1111111111111111,
              "#46039f"
             ],
             [
              0.2222222222222222,
              "#7201a8"
             ],
             [
              0.3333333333333333,
              "#9c179e"
             ],
             [
              0.4444444444444444,
              "#bd3786"
             ],
             [
              0.5555555555555556,
              "#d8576b"
             ],
             [
              0.6666666666666666,
              "#ed7953"
             ],
             [
              0.7777777777777778,
              "#fb9f3a"
             ],
             [
              0.8888888888888888,
              "#fdca26"
             ],
             [
              1,
              "#f0f921"
             ]
            ],
            "type": "contour"
           }
          ],
          "contourcarpet": [
           {
            "colorbar": {
             "outlinewidth": 0,
             "ticks": ""
            },
            "type": "contourcarpet"
           }
          ],
          "heatmap": [
           {
            "colorbar": {
             "outlinewidth": 0,
             "ticks": ""
            },
            "colorscale": [
             [
              0,
              "#0d0887"
             ],
             [
              0.1111111111111111,
              "#46039f"
             ],
             [
              0.2222222222222222,
              "#7201a8"
             ],
             [
              0.3333333333333333,
              "#9c179e"
             ],
             [
              0.4444444444444444,
              "#bd3786"
             ],
             [
              0.5555555555555556,
              "#d8576b"
             ],
             [
              0.6666666666666666,
              "#ed7953"
             ],
             [
              0.7777777777777778,
              "#fb9f3a"
             ],
             [
              0.8888888888888888,
              "#fdca26"
             ],
             [
              1,
              "#f0f921"
             ]
            ],
            "type": "heatmap"
           }
          ],
          "heatmapgl": [
           {
            "colorbar": {
             "outlinewidth": 0,
             "ticks": ""
            },
            "colorscale": [
             [
              0,
              "#0d0887"
             ],
             [
              0.1111111111111111,
              "#46039f"
             ],
             [
              0.2222222222222222,
              "#7201a8"
             ],
             [
              0.3333333333333333,
              "#9c179e"
             ],
             [
              0.4444444444444444,
              "#bd3786"
             ],
             [
              0.5555555555555556,
              "#d8576b"
             ],
             [
              0.6666666666666666,
              "#ed7953"
             ],
             [
              0.7777777777777778,
              "#fb9f3a"
             ],
             [
              0.8888888888888888,
              "#fdca26"
             ],
             [
              1,
              "#f0f921"
             ]
            ],
            "type": "heatmapgl"
           }
          ],
          "histogram": [
           {
            "marker": {
             "pattern": {
              "fillmode": "overlay",
              "size": 10,
              "solidity": 0.2
             }
            },
            "type": "histogram"
           }
          ],
          "histogram2d": [
           {
            "colorbar": {
             "outlinewidth": 0,
             "ticks": ""
            },
            "colorscale": [
             [
              0,
              "#0d0887"
             ],
             [
              0.1111111111111111,
              "#46039f"
             ],
             [
              0.2222222222222222,
              "#7201a8"
             ],
             [
              0.3333333333333333,
              "#9c179e"
             ],
             [
              0.4444444444444444,
              "#bd3786"
             ],
             [
              0.5555555555555556,
              "#d8576b"
             ],
             [
              0.6666666666666666,
              "#ed7953"
             ],
             [
              0.7777777777777778,
              "#fb9f3a"
             ],
             [
              0.8888888888888888,
              "#fdca26"
             ],
             [
              1,
              "#f0f921"
             ]
            ],
            "type": "histogram2d"
           }
          ],
          "histogram2dcontour": [
           {
            "colorbar": {
             "outlinewidth": 0,
             "ticks": ""
            },
            "colorscale": [
             [
              0,
              "#0d0887"
             ],
             [
              0.1111111111111111,
              "#46039f"
             ],
             [
              0.2222222222222222,
              "#7201a8"
             ],
             [
              0.3333333333333333,
              "#9c179e"
             ],
             [
              0.4444444444444444,
              "#bd3786"
             ],
             [
              0.5555555555555556,
              "#d8576b"
             ],
             [
              0.6666666666666666,
              "#ed7953"
             ],
             [
              0.7777777777777778,
              "#fb9f3a"
             ],
             [
              0.8888888888888888,
              "#fdca26"
             ],
             [
              1,
              "#f0f921"
             ]
            ],
            "type": "histogram2dcontour"
           }
          ],
          "mesh3d": [
           {
            "colorbar": {
             "outlinewidth": 0,
             "ticks": ""
            },
            "type": "mesh3d"
           }
          ],
          "parcoords": [
           {
            "line": {
             "colorbar": {
              "outlinewidth": 0,
              "ticks": ""
             }
            },
            "type": "parcoords"
           }
          ],
          "pie": [
           {
            "automargin": true,
            "type": "pie"
           }
          ],
          "scatter": [
           {
            "fillpattern": {
             "fillmode": "overlay",
             "size": 10,
             "solidity": 0.2
            },
            "type": "scatter"
           }
          ],
          "scatter3d": [
           {
            "line": {
             "colorbar": {
              "outlinewidth": 0,
              "ticks": ""
             }
            },
            "marker": {
             "colorbar": {
              "outlinewidth": 0,
              "ticks": ""
             }
            },
            "type": "scatter3d"
           }
          ],
          "scattercarpet": [
           {
            "marker": {
             "colorbar": {
              "outlinewidth": 0,
              "ticks": ""
             }
            },
            "type": "scattercarpet"
           }
          ],
          "scattergeo": [
           {
            "marker": {
             "colorbar": {
              "outlinewidth": 0,
              "ticks": ""
             }
            },
            "type": "scattergeo"
           }
          ],
          "scattergl": [
           {
            "marker": {
             "colorbar": {
              "outlinewidth": 0,
              "ticks": ""
             }
            },
            "type": "scattergl"
           }
          ],
          "scattermapbox": [
           {
            "marker": {
             "colorbar": {
              "outlinewidth": 0,
              "ticks": ""
             }
            },
            "type": "scattermapbox"
           }
          ],
          "scatterpolar": [
           {
            "marker": {
             "colorbar": {
              "outlinewidth": 0,
              "ticks": ""
             }
            },
            "type": "scatterpolar"
           }
          ],
          "scatterpolargl": [
           {
            "marker": {
             "colorbar": {
              "outlinewidth": 0,
              "ticks": ""
             }
            },
            "type": "scatterpolargl"
           }
          ],
          "scatterternary": [
           {
            "marker": {
             "colorbar": {
              "outlinewidth": 0,
              "ticks": ""
             }
            },
            "type": "scatterternary"
           }
          ],
          "surface": [
           {
            "colorbar": {
             "outlinewidth": 0,
             "ticks": ""
            },
            "colorscale": [
             [
              0,
              "#0d0887"
             ],
             [
              0.1111111111111111,
              "#46039f"
             ],
             [
              0.2222222222222222,
              "#7201a8"
             ],
             [
              0.3333333333333333,
              "#9c179e"
             ],
             [
              0.4444444444444444,
              "#bd3786"
             ],
             [
              0.5555555555555556,
              "#d8576b"
             ],
             [
              0.6666666666666666,
              "#ed7953"
             ],
             [
              0.7777777777777778,
              "#fb9f3a"
             ],
             [
              0.8888888888888888,
              "#fdca26"
             ],
             [
              1,
              "#f0f921"
             ]
            ],
            "type": "surface"
           }
          ],
          "table": [
           {
            "cells": {
             "fill": {
              "color": "#EBF0F8"
             },
             "line": {
              "color": "white"
             }
            },
            "header": {
             "fill": {
              "color": "#C8D4E3"
             },
             "line": {
              "color": "white"
             }
            },
            "type": "table"
           }
          ]
         },
         "layout": {
          "annotationdefaults": {
           "arrowcolor": "#2a3f5f",
           "arrowhead": 0,
           "arrowwidth": 1
          },
          "autotypenumbers": "strict",
          "coloraxis": {
           "colorbar": {
            "outlinewidth": 0,
            "ticks": ""
           }
          },
          "colorscale": {
           "diverging": [
            [
             0,
             "#8e0152"
            ],
            [
             0.1,
             "#c51b7d"
            ],
            [
             0.2,
             "#de77ae"
            ],
            [
             0.3,
             "#f1b6da"
            ],
            [
             0.4,
             "#fde0ef"
            ],
            [
             0.5,
             "#f7f7f7"
            ],
            [
             0.6,
             "#e6f5d0"
            ],
            [
             0.7,
             "#b8e186"
            ],
            [
             0.8,
             "#7fbc41"
            ],
            [
             0.9,
             "#4d9221"
            ],
            [
             1,
             "#276419"
            ]
           ],
           "sequential": [
            [
             0,
             "#0d0887"
            ],
            [
             0.1111111111111111,
             "#46039f"
            ],
            [
             0.2222222222222222,
             "#7201a8"
            ],
            [
             0.3333333333333333,
             "#9c179e"
            ],
            [
             0.4444444444444444,
             "#bd3786"
            ],
            [
             0.5555555555555556,
             "#d8576b"
            ],
            [
             0.6666666666666666,
             "#ed7953"
            ],
            [
             0.7777777777777778,
             "#fb9f3a"
            ],
            [
             0.8888888888888888,
             "#fdca26"
            ],
            [
             1,
             "#f0f921"
            ]
           ],
           "sequentialminus": [
            [
             0,
             "#0d0887"
            ],
            [
             0.1111111111111111,
             "#46039f"
            ],
            [
             0.2222222222222222,
             "#7201a8"
            ],
            [
             0.3333333333333333,
             "#9c179e"
            ],
            [
             0.4444444444444444,
             "#bd3786"
            ],
            [
             0.5555555555555556,
             "#d8576b"
            ],
            [
             0.6666666666666666,
             "#ed7953"
            ],
            [
             0.7777777777777778,
             "#fb9f3a"
            ],
            [
             0.8888888888888888,
             "#fdca26"
            ],
            [
             1,
             "#f0f921"
            ]
           ]
          },
          "colorway": [
           "#636efa",
           "#EF553B",
           "#00cc96",
           "#ab63fa",
           "#FFA15A",
           "#19d3f3",
           "#FF6692",
           "#B6E880",
           "#FF97FF",
           "#FECB52"
          ],
          "font": {
           "color": "#2a3f5f"
          },
          "geo": {
           "bgcolor": "white",
           "lakecolor": "white",
           "landcolor": "#E5ECF6",
           "showlakes": true,
           "showland": true,
           "subunitcolor": "white"
          },
          "hoverlabel": {
           "align": "left"
          },
          "hovermode": "closest",
          "mapbox": {
           "style": "light"
          },
          "paper_bgcolor": "white",
          "plot_bgcolor": "#E5ECF6",
          "polar": {
           "angularaxis": {
            "gridcolor": "white",
            "linecolor": "white",
            "ticks": ""
           },
           "bgcolor": "#E5ECF6",
           "radialaxis": {
            "gridcolor": "white",
            "linecolor": "white",
            "ticks": ""
           }
          },
          "scene": {
           "xaxis": {
            "backgroundcolor": "#E5ECF6",
            "gridcolor": "white",
            "gridwidth": 2,
            "linecolor": "white",
            "showbackground": true,
            "ticks": "",
            "zerolinecolor": "white"
           },
           "yaxis": {
            "backgroundcolor": "#E5ECF6",
            "gridcolor": "white",
            "gridwidth": 2,
            "linecolor": "white",
            "showbackground": true,
            "ticks": "",
            "zerolinecolor": "white"
           },
           "zaxis": {
            "backgroundcolor": "#E5ECF6",
            "gridcolor": "white",
            "gridwidth": 2,
            "linecolor": "white",
            "showbackground": true,
            "ticks": "",
            "zerolinecolor": "white"
           }
          },
          "shapedefaults": {
           "line": {
            "color": "#2a3f5f"
           }
          },
          "ternary": {
           "aaxis": {
            "gridcolor": "white",
            "linecolor": "white",
            "ticks": ""
           },
           "baxis": {
            "gridcolor": "white",
            "linecolor": "white",
            "ticks": ""
           },
           "bgcolor": "#E5ECF6",
           "caxis": {
            "gridcolor": "white",
            "linecolor": "white",
            "ticks": ""
           }
          },
          "title": {
           "x": 0.05
          },
          "xaxis": {
           "automargin": true,
           "gridcolor": "white",
           "linecolor": "white",
           "ticks": "",
           "title": {
            "standoff": 15
           },
           "zerolinecolor": "white",
           "zerolinewidth": 2
          },
          "yaxis": {
           "automargin": true,
           "gridcolor": "white",
           "linecolor": "white",
           "ticks": "",
           "title": {
            "standoff": 15
           },
           "zerolinecolor": "white",
           "zerolinewidth": 2
          }
         }
        },
        "title": {
         "text": "enhancing by changing figure size"
        },
        "xaxis": {
         "anchor": "y",
         "domain": [
          0,
          1
         ],
         "title": {
          "text": "Year"
         }
        },
        "yaxis": {
         "anchor": "x",
         "domain": [
          0,
          1
         ],
         "title": {
          "text": "value"
         }
        }
       }
      }
     },
     "metadata": {},
     "output_type": "display_data"
    }
   ],
   "source": [
    "fig_hide = px.line(degree_gender_ratio, x='Year', y=[x for x in degree_gender_ratio.columns[1:]],color_discrete_sequence=px.colors.qualitative.Alphabet)\n",
    "fig_hide.update_layout(legend = dict(font = dict(size = 8, color = \"black\")),\n",
    "                  legend_title = dict(font = dict(size = 10)))\n",
    "\n",
    "\n",
    "fig_hide.update_layout(\n",
    "    height = 300,\n",
    "    title = \"enhancing by changing figure size\"\n",
    ")\n",
    "\n",
    "fig_hide.show()"
   ]
  },
  {
   "cell_type": "markdown",
   "metadata": {},
   "source": [
    "small multiples (matplotlib). Note the y-axis scaling!"
   ]
  },
  {
   "cell_type": "code",
   "execution_count": 22,
   "metadata": {
    "colab": {
     "base_uri": "https://localhost:8080/",
     "height": 766
    },
    "id": "qIm9r834wcpa",
    "outputId": "98b97a2d-2eec-4b79-c6ce-de93a2cd48cd"
   },
   "outputs": [
    {
     "data": {
      "image/png": "[encoded data removed]",
      "text/plain": [
       "<Figure size 1500x1000 with 18 Axes>"
      ]
     },
     "metadata": {},
     "output_type": "display_data"
    }
   ],
   "source": [
    "majors = degree_gender_ratio.columns[1:]\n",
    "fig, axs = plt.subplots(3, 6, figsize=(15,10))\n",
    "\n",
    "axs = axs.flatten()\n",
    "\n",
    "for i, major in enumerate(majors):\n",
    "    axs[i].plot(degree_gender_ratio['Year'], degree_gender_ratio[major])\n",
    "    axs[i].set_title(major)\n",
    "    axs[i].set_xlabel('Year')\n",
    "    axs[i].set_ylabel('Gender Ratio')\n",
    "    axs[i].set_ylim([0, 100])\n",
    "plt.tight_layout()\n",
    "plt.show()\n"
   ]
  },
  {
   "cell_type": "code",
   "execution_count": 23,
   "metadata": {},
   "outputs": [
    {
     "data": {
      "application/vnd.plotly.v1+json": {
       "config": {
        "plotlyServerURL": "https://plot.ly"
       },
       "data": [
        {
         "hovertemplate": "Major=Agriculture<br>Year=%{x}<br>value=%{y}<extra></extra>",
         "legendgroup": "",
         "line": {
          "color": "#AA0DFE",
          "dash": "solid"
         },
         "marker": {
          "symbol": "circle"
         },
         "mode": "lines",
         "name": "",
         "orientation": "v",
         "showlegend": false,
         "type": "scatter",
         "x": [
          1970,
          1971,
          1972,
          1973,
          1974,
          1975,
          1976,
          1977,
          1978,
          1979,
          1980,
          1981,
          1982,
          1983,
          1984,
          1985,
          1986,
          1987,
          1988,
          1989,
          1990,
          1991,
          1992,
          1993,
          1994,
          1995,
          1996,
          1997,
          1998,
          1999,
          2000,
          2001,
          2002,
          2003,
          2004,
          2005,
          2006,
          2007,
          2008,
          2009,
          2010,
          2011
         ],
         "xaxis": "x16",
         "y": [
          4.22979798,
          5.452796685,
          7.42071022,
          9.653602412,
          14.07462346,
          18.33316153,
          22.25276005,
          24.6401766,
          27.14619175,
          29.63336549,
          30.75938956,
          31.31865519,
          32.63666364,
          31.6353471,
          31.09294748,
          31.3796588,
          31.19871923,
          31.48642948,
          31.08508746,
          31.6124031,
          32.70344407,
          34.71183749,
          33.93165961,
          34.94683208,
          36.03267447,
          36.84480747,
          38.96977475,
          40.68568483,
          41.91240333,
          42.88720191,
          45.05776637,
          45.86601517,
          47.13465821,
          47.93518721,
          47.88714025,
          47.67275409,
          46.79029957,
          47.60502633,
          47.570834,
          48.66722357,
          48.73004227,
          50.03718193
         ],
         "yaxis": "y16"
        },
        {
         "hovertemplate": "Major=Architecture<br>Year=%{x}<br>value=%{y}<extra></extra>",
         "legendgroup": "",
         "line": {
          "color": "#AA0DFE",
          "dash": "solid"
         },
         "marker": {
          "symbol": "circle"
         },
         "mode": "lines",
         "name": "",
         "orientation": "v",
         "showlegend": false,
         "type": "scatter",
         "x": [
          1970,
          1971,
          1972,
          1973,
          1974,
          1975,
          1976,
          1977,
          1978,
          1979,
          1980,
          1981,
          1982,
          1983,
          1984,
          1985,
          1986,
          1987,
          1988,
          1989,
          1990,
          1991,
          1992,
          1993,
          1994,
          1995,
          1996,
          1997,
          1998,
          1999,
          2000,
          2001,
          2002,
          2003,
          2004,
          2005,
          2006,
          2007,
          2008,
          2009,
          2010,
          2011
         ],
         "xaxis": "x17",
         "y": [
          11.92100539,
          12.00310559,
          13.21459351,
          14.7916134,
          17.44468758,
          19.13404767,
          21.39449143,
          23.74054054,
          25.84923973,
          27.77047744,
          28.08038075,
          29.84169408,
          34.81624758,
          35.82625735,
          35.45308311,
          36.13334795,
          37.24022346,
          38.73067535,
          39.3989071,
          39.09653994,
          40.82404662,
          33.67988118,
          35.20235628,
          35.77715877,
          34.43353129,
          36.06321839,
          35.9264854,
          35.10193413,
          37.59854457,
          38.63152919,
          40.02358491,
          40.69028156,
          41.13295053,
          42.75854266,
          43.46649345,
          43.10036784,
          44.49933107,
          43.10045895,
          42.71173041,
          43.34892051,
          42.06672091,
          42.7734375
         ],
         "yaxis": "y17"
        },
        {
         "hovertemplate": "Major=Art and Performance<br>Year=%{x}<br>value=%{y}<extra></extra>",
         "legendgroup": "",
         "line": {
          "color": "#AA0DFE",
          "dash": "solid"
         },
         "marker": {
          "symbol": "circle"
         },
         "mode": "lines",
         "name": "",
         "orientation": "v",
         "showlegend": false,
         "type": "scatter",
         "x": [
          1970,
          1971,
          1972,
          1973,
          1974,
          1975,
          1976,
          1977,
          1978,
          1979,
          1980,
          1981,
          1982,
          1983,
          1984,
          1985,
          1986,
          1987,
          1988,
          1989,
          1990,
          1991,
          1992,
          1993,
          1994,
          1995,
          1996,
          1997,
          1998,
          1999,
          2000,
          2001,
          2002,
          2003,
          2004,
          2005,
          2006,
          2007,
          2008,
          2009,
          2010,
          2011
         ],
         "xaxis": "x18",
         "y": [
          59.7,
          59.9,
          60.4,
          60.2,
          61.9,
          60.9,
          61.3,
          62,
          62.5,
          63.2,
          63.4,
          63.3,
          63.1,
          62.4,
          62.1,
          61.8,
          62.1,
          61.7,
          61.7,
          62,
          62.6,
          62.1,
          61,
          60.2,
          59.4,
          59.2,
          58.6,
          58.7,
          59.1,
          59.2,
          59.2,
          59.4,
          60.9,
          61.1,
          61.3,
          61.4,
          61.6,
          61.4,
          60.7,
          61,
          61.3,
          61.2
         ],
         "yaxis": "y18"
        },
        {
         "hovertemplate": "Major=Biology<br>Year=%{x}<br>value=%{y}<extra></extra>",
         "legendgroup": "",
         "line": {
          "color": "#AA0DFE",
          "dash": "solid"
         },
         "marker": {
          "symbol": "circle"
         },
         "mode": "lines",
         "name": "",
         "orientation": "v",
         "showlegend": false,
         "type": "scatter",
         "x": [
          1970,
          1971,
          1972,
          1973,
          1974,
          1975,
          1976,
          1977,
          1978,
          1979,
          1980,
          1981,
          1982,
          1983,
          1984,
          1985,
          1986,
          1987,
          1988,
          1989,
          1990,
          1991,
          1992,
          1993,
          1994,
          1995,
          1996,
          1997,
          1998,
          1999,
          2000,
          2001,
          2002,
          2003,
          2004,
          2005,
          2006,
          2007,
          2008,
          2009,
          2010,
          2011
         ],
         "xaxis": "x13",
         "y": [
          29.08836297,
          29.39440285,
          29.81022105,
          31.14791477,
          32.99618284,
          34.44990213,
          36.07287146,
          38.33138629,
          40.11249564,
          42.06555109,
          43.99925716,
          45.24951206,
          45.96733794,
          46.71313451,
          47.66908276,
          47.9098841,
          48.30067763,
          50.20987789,
          50.09981147,
          50.77471585,
          50.81809432,
          51.46880537,
          51.34974154,
          51.12484404,
          52.2462176,
          52.59940342,
          53.78988011,
          54.99946903,
          56.35124789,
          58.22882288,
          59.38985737,
          60.71233149,
          61.8951284,
          62.1694558,
          61.91458697,
          61.50098432,
          60.17284465,
          59.41199314,
          59.30576517,
          58.48958333,
          59.01025521,
          58.7423969
         ],
         "yaxis": "y13"
        },
        {
         "hovertemplate": "Major=Business<br>Year=%{x}<br>value=%{y}<extra></extra>",
         "legendgroup": "",
         "line": {
          "color": "#AA0DFE",
          "dash": "solid"
         },
         "marker": {
          "symbol": "circle"
         },
         "mode": "lines",
         "name": "",
         "orientation": "v",
         "showlegend": false,
         "type": "scatter",
         "x": [
          1970,
          1971,
          1972,
          1973,
          1974,
          1975,
          1976,
          1977,
          1978,
          1979,
          1980,
          1981,
          1982,
          1983,
          1984,
          1985,
          1986,
          1987,
          1988,
          1989,
          1990,
          1991,
          1992,
          1993,
          1994,
          1995,
          1996,
          1997,
          1998,
          1999,
          2000,
          2001,
          2002,
          2003,
          2004,
          2005,
          2006,
          2007,
          2008,
          2009,
          2010,
          2011
         ],
         "xaxis": "x14",
         "y": [
          9.064438975,
          9.503186594,
          10.5589621,
          12.80460152,
          16.20485038,
          19.68624931,
          23.4300375,
          27.16342715,
          30.52751868,
          33.62163381,
          36.76572529,
          39.26622984,
          41.94937335,
          43.54206966,
          45.12403027,
          45.747782,
          46.53291505,
          46.69046648,
          46.7648277,
          46.7815648,
          47.20085084,
          47.22432481,
          47.21939541,
          47.63933161,
          47.98392441,
          48.57318101,
          48.6473926,
          48.56105033,
          49.2585152,
          49.81020815,
          49.80361649,
          50.27514494,
          50.5523346,
          50.34559774,
          49.95089449,
          49.79185139,
          49.21091439,
          49.00045935,
          48.88802678,
          48.84047414,
          48.75798769,
          48.18041792
         ],
         "yaxis": "y14"
        },
        {
         "hovertemplate": "Major=Communications and Journalism<br>Year=%{x}<br>value=%{y}<extra></extra>",
         "legendgroup": "",
         "line": {
          "color": "#AA0DFE",
          "dash": "solid"
         },
         "marker": {
          "symbol": "circle"
         },
         "mode": "lines",
         "name": "",
         "orientation": "v",
         "showlegend": false,
         "type": "scatter",
         "x": [
          1970,
          1971,
          1972,
          1973,
          1974,
          1975,
          1976,
          1977,
          1978,
          1979,
          1980,
          1981,
          1982,
          1983,
          1984,
          1985,
          1986,
          1987,
          1988,
          1989,
          1990,
          1991,
          1992,
          1993,
          1994,
          1995,
          1996,
          1997,
          1998,
          1999,
          2000,
          2001,
          2002,
          2003,
          2004,
          2005,
          2006,
          2007,
          2008,
          2009,
          2010,
          2011
         ],
         "xaxis": "x15",
         "y": [
          35.3,
          35.5,
          36.6,
          38.4,
          40.5,
          41.5,
          44.3,
          46.9,
          49.9,
          52.3,
          54.7,
          56.4,
          58,
          58.6,
          59.1,
          59,
          60,
          60.2,
          60.4,
          60.5,
          60.8,
          60.8,
          59.7,
          58.7,
          58.1,
          58.8,
          58.7,
          60,
          60,
          61.2,
          61.9,
          63,
          63.7,
          64.6,
          64.2,
          63.4,
          63,
          62.5,
          62.4,
          62.8,
          62.5,
          62.2
         ],
         "yaxis": "y15"
        },
        {
         "hovertemplate": "Major=Computer Science<br>Year=%{x}<br>value=%{y}<extra></extra>",
         "legendgroup": "",
         "line": {
          "color": "#AA0DFE",
          "dash": "solid"
         },
         "marker": {
          "symbol": "circle"
         },
         "mode": "lines",
         "name": "",
         "orientation": "v",
         "showlegend": false,
         "type": "scatter",
         "x": [
          1970,
          1971,
          1972,
          1973,
          1974,
          1975,
          1976,
          1977,
          1978,
          1979,
          1980,
          1981,
          1982,
          1983,
          1984,
          1985,
          1986,
          1987,
          1988,
          1989,
          1990,
          1991,
          1992,
          1993,
          1994,
          1995,
          1996,
          1997,
          1998,
          1999,
          2000,
          2001,
          2002,
          2003,
          2004,
          2005,
          2006,
          2007,
          2008,
          2009,
          2010,
          2011
         ],
         "xaxis": "x10",
         "y": [
          13.6,
          13.6,
          14.9,
          16.4,
          18.9,
          19.8,
          23.9,
          25.7,
          28.1,
          30.2,
          32.5,
          34.8,
          36.3,
          37.1,
          36.8,
          35.7,
          34.7,
          32.4,
          30.8,
          29.9,
          29.4,
          28.7,
          28.2,
          28.5,
          28.5,
          27.5,
          27.1,
          26.8,
          27,
          28.1,
          27.7,
          27.6,
          27,
          25.1,
          22.2,
          20.6,
          18.6,
          17.6,
          17.8,
          18.1,
          17.6,
          18.2
         ],
         "yaxis": "y10"
        },
        {
         "hovertemplate": "Major=Education<br>Year=%{x}<br>value=%{y}<extra></extra>",
         "legendgroup": "",
         "line": {
          "color": "#AA0DFE",
          "dash": "solid"
         },
         "marker": {
          "symbol": "circle"
         },
         "mode": "lines",
         "name": "",
         "orientation": "v",
         "showlegend": false,
         "type": "scatter",
         "x": [
          1970,
          1971,
          1972,
          1973,
          1974,
          1975,
          1976,
          1977,
          1978,
          1979,
          1980,
          1981,
          1982,
          1983,
          1984,
          1985,
          1986,
          1987,
          1988,
          1989,
          1990,
          1991,
          1992,
          1993,
          1994,
          1995,
          1996,
          1997,
          1998,
          1999,
          2000,
          2001,
          2002,
          2003,
          2004,
          2005,
          2006,
          2007,
          2008,
          2009,
          2010,
          2011
         ],
         "xaxis": "x11",
         "y": [
          74.53532758,
          74.14920369,
          73.55451996,
          73.50181443,
          73.33681143,
          72.80185448,
          72.16652471,
          72.45639481,
          73.19282134,
          73.82114234,
          74.98103152,
          75.84512345,
          75.84364914,
          75.95060123,
          75.86911601,
          75.92343971,
          76.14301516,
          76.96309168,
          77.62766177,
          78.11191872,
          78.86685859,
          78.99124597,
          78.43518191,
          77.26731199,
          75.81493264,
          75.12525621,
          75.03519921,
          75.1637013,
          75.48616027,
          75.83816206,
          76.69214284,
          77.37522931,
          78.64424394,
          78.54494815,
          78.65074774,
          79.06712173,
          78.68630551,
          78.72141311,
          79.19632674,
          79.5329087,
          79.61862451,
          79.43281184
         ],
         "yaxis": "y11"
        },
        {
         "hovertemplate": "Major=Engineering<br>Year=%{x}<br>value=%{y}<extra></extra>",
         "legendgroup": "",
         "line": {
          "color": "#AA0DFE",
          "dash": "solid"
         },
         "marker": {
          "symbol": "circle"
         },
         "mode": "lines",
         "name": "",
         "orientation": "v",
         "showlegend": false,
         "type": "scatter",
         "x": [
          1970,
          1971,
          1972,
          1973,
          1974,
          1975,
          1976,
          1977,
          1978,
          1979,
          1980,
          1981,
          1982,
          1983,
          1984,
          1985,
          1986,
          1987,
          1988,
          1989,
          1990,
          1991,
          1992,
          1993,
          1994,
          1995,
          1996,
          1997,
          1998,
          1999,
          2000,
          2001,
          2002,
          2003,
          2004,
          2005,
          2006,
          2007,
          2008,
          2009,
          2010,
          2011
         ],
         "xaxis": "x12",
         "y": [
          0.8,
          1,
          1.2,
          1.6,
          2.2,
          3.2,
          4.5,
          6.8,
          8.4,
          9.4,
          10.3,
          11.6,
          12.4,
          13.1,
          13.5,
          13.5,
          13.9,
          14,
          13.9,
          14.1,
          14.1,
          14,
          14.5,
          14.9,
          15.7,
          16.2,
          16.7,
          17,
          17.8,
          18.6,
          18.4,
          19,
          18.7,
          18.8,
          18.2,
          17.9,
          16.8,
          16.8,
          16.5,
          16.8,
          17.2,
          17.5
         ],
         "yaxis": "y12"
        },
        {
         "hovertemplate": "Major=English<br>Year=%{x}<br>value=%{y}<extra></extra>",
         "legendgroup": "",
         "line": {
          "color": "#AA0DFE",
          "dash": "solid"
         },
         "marker": {
          "symbol": "circle"
         },
         "mode": "lines",
         "name": "",
         "orientation": "v",
         "showlegend": false,
         "type": "scatter",
         "x": [
          1970,
          1971,
          1972,
          1973,
          1974,
          1975,
          1976,
          1977,
          1978,
          1979,
          1980,
          1981,
          1982,
          1983,
          1984,
          1985,
          1986,
          1987,
          1988,
          1989,
          1990,
          1991,
          1992,
          1993,
          1994,
          1995,
          1996,
          1997,
          1998,
          1999,
          2000,
          2001,
          2002,
          2003,
          2004,
          2005,
          2006,
          2007,
          2008,
          2009,
          2010,
          2011
         ],
         "xaxis": "x7",
         "y": [
          65.57092343,
          64.55648516,
          63.6642632,
          62.94150212,
          62.41341209,
          61.64720641,
          62.14819377,
          62.72306675,
          63.61912216,
          65.08838972,
          65.28413007,
          65.83832154,
          65.84735212,
          65.91837999,
          65.74986233,
          65.79819852,
          65.98256091,
          66.70603055,
          67.14449816,
          67.01707156,
          66.92190193,
          66.24147465,
          65.62245655,
          65.73095014,
          65.64197772,
          65.93694921,
          66.43777883,
          66.78635548,
          67.2554484,
          67.82022113,
          68.36599498,
          68.57852029,
          68.82995959,
          68.89448726,
          68.45473436,
          68.57122114,
          68.29759443,
          67.87492278,
          67.59402834,
          67.96979204,
          67.92810557,
          68.42673015
         ],
         "yaxis": "y7"
        },
        {
         "hovertemplate": "Major=Foreign Languages<br>Year=%{x}<br>value=%{y}<extra></extra>",
         "legendgroup": "",
         "line": {
          "color": "#AA0DFE",
          "dash": "solid"
         },
         "marker": {
          "symbol": "circle"
         },
         "mode": "lines",
         "name": "",
         "orientation": "v",
         "showlegend": false,
         "type": "scatter",
         "x": [
          1970,
          1971,
          1972,
          1973,
          1974,
          1975,
          1976,
          1977,
          1978,
          1979,
          1980,
          1981,
          1982,
          1983,
          1984,
          1985,
          1986,
          1987,
          1988,
          1989,
          1990,
          1991,
          1992,
          1993,
          1994,
          1995,
          1996,
          1997,
          1998,
          1999,
          2000,
          2001,
          2002,
          2003,
          2004,
          2005,
          2006,
          2007,
          2008,
          2009,
          2010,
          2011
         ],
         "xaxis": "x8",
         "y": [
          73.8,
          73.9,
          74.6,
          74.9,
          75.3,
          75,
          74.4,
          74.3,
          74.3,
          74.2,
          74.1,
          73.9,
          72.7,
          71.8,
          72.1,
          70.8,
          71.2,
          72,
          72.3,
          72.4,
          71.2,
          71.1,
          71,
          70,
          69.1,
          69.6,
          69.7,
          70,
          70.1,
          70.9,
          70.9,
          71.2,
          70.5,
          70.6,
          70.8,
          69.9,
          69.6,
          70.2,
          70.2,
          69.3,
          69,
          69.5
         ],
         "yaxis": "y8"
        },
        {
         "hovertemplate": "Major=Health Professions<br>Year=%{x}<br>value=%{y}<extra></extra>",
         "legendgroup": "",
         "line": {
          "color": "#AA0DFE",
          "dash": "solid"
         },
         "marker": {
          "symbol": "circle"
         },
         "mode": "lines",
         "name": "",
         "orientation": "v",
         "showlegend": false,
         "type": "scatter",
         "x": [
          1970,
          1971,
          1972,
          1973,
          1974,
          1975,
          1976,
          1977,
          1978,
          1979,
          1980,
          1981,
          1982,
          1983,
          1984,
          1985,
          1986,
          1987,
          1988,
          1989,
          1990,
          1991,
          1992,
          1993,
          1994,
          1995,
          1996,
          1997,
          1998,
          1999,
          2000,
          2001,
          2002,
          2003,
          2004,
          2005,
          2006,
          2007,
          2008,
          2009,
          2010,
          2011
         ],
         "xaxis": "x9",
         "y": [
          77.1,
          75.5,
          76.9,
          77.4,
          77.9,
          78.9,
          79.2,
          80.5,
          81.9,
          82.3,
          83.5,
          84.1,
          84.4,
          84.6,
          85.1,
          85.3,
          85.7,
          85.5,
          85.2,
          84.6,
          83.9,
          83.5,
          83,
          82.4,
          81.8,
          81.5,
          81.3,
          81.9,
          82.1,
          83.5,
          83.5,
          85.1,
          85.8,
          86.5,
          86.5,
          86,
          85.9,
          85.4,
          85.2,
          85.1,
          85,
          84.8
         ],
         "yaxis": "y9"
        },
        {
         "hovertemplate": "Major=Math and Statistics<br>Year=%{x}<br>value=%{y}<extra></extra>",
         "legendgroup": "",
         "line": {
          "color": "#AA0DFE",
          "dash": "solid"
         },
         "marker": {
          "symbol": "circle"
         },
         "mode": "lines",
         "name": "",
         "orientation": "v",
         "showlegend": false,
         "type": "scatter",
         "x": [
          1970,
          1971,
          1972,
          1973,
          1974,
          1975,
          1976,
          1977,
          1978,
          1979,
          1980,
          1981,
          1982,
          1983,
          1984,
          1985,
          1986,
          1987,
          1988,
          1989,
          1990,
          1991,
          1992,
          1993,
          1994,
          1995,
          1996,
          1997,
          1998,
          1999,
          2000,
          2001,
          2002,
          2003,
          2004,
          2005,
          2006,
          2007,
          2008,
          2009,
          2010,
          2011
         ],
         "xaxis": "x4",
         "y": [
          38,
          39,
          40.2,
          40.9,
          41.8,
          40.7,
          41.5,
          41.1,
          41.6,
          42.3,
          42.8,
          43.2,
          44,
          44.3,
          46.2,
          46.5,
          46.7,
          46.5,
          46.2,
          46.2,
          47.3,
          47,
          47.4,
          46.4,
          47,
          46.1,
          46.4,
          47,
          48.3,
          47.8,
          48.2,
          47,
          45.7,
          46,
          44.7,
          45.1,
          44.1,
          44.1,
          43.3,
          43.3,
          43.1,
          43.1
         ],
         "yaxis": "y4"
        },
        {
         "hovertemplate": "Major=Physical Sciences<br>Year=%{x}<br>value=%{y}<extra></extra>",
         "legendgroup": "",
         "line": {
          "color": "#AA0DFE",
          "dash": "solid"
         },
         "marker": {
          "symbol": "circle"
         },
         "mode": "lines",
         "name": "",
         "orientation": "v",
         "showlegend": false,
         "type": "scatter",
         "x": [
          1970,
          1971,
          1972,
          1973,
          1974,
          1975,
          1976,
          1977,
          1978,
          1979,
          1980,
          1981,
          1982,
          1983,
          1984,
          1985,
          1986,
          1987,
          1988,
          1989,
          1990,
          1991,
          1992,
          1993,
          1994,
          1995,
          1996,
          1997,
          1998,
          1999,
          2000,
          2001,
          2002,
          2003,
          2004,
          2005,
          2006,
          2007,
          2008,
          2009,
          2010,
          2011
         ],
         "xaxis": "x5",
         "y": [
          13.8,
          14.9,
          14.8,
          16.5,
          18.2,
          19.1,
          20,
          21.3,
          22.5,
          23.7,
          24.6,
          25.7,
          27.3,
          27.6,
          28,
          27.5,
          28.4,
          30.4,
          29.7,
          31.3,
          31.6,
          32.6,
          32.6,
          33.6,
          34.8,
          35.9,
          37.3,
          38.3,
          39.7,
          40.2,
          41,
          42.2,
          41.1,
          41.7,
          42.1,
          41.6,
          40.8,
          40.7,
          40.7,
          40.7,
          40.2,
          40.1
         ],
         "yaxis": "y5"
        },
        {
         "hovertemplate": "Major=Psychology<br>Year=%{x}<br>value=%{y}<extra></extra>",
         "legendgroup": "",
         "line": {
          "color": "#AA0DFE",
          "dash": "solid"
         },
         "marker": {
          "symbol": "circle"
         },
         "mode": "lines",
         "name": "",
         "orientation": "v",
         "showlegend": false,
         "type": "scatter",
         "x": [
          1970,
          1971,
          1972,
          1973,
          1974,
          1975,
          1976,
          1977,
          1978,
          1979,
          1980,
          1981,
          1982,
          1983,
          1984,
          1985,
          1986,
          1987,
          1988,
          1989,
          1990,
          1991,
          1992,
          1993,
          1994,
          1995,
          1996,
          1997,
          1998,
          1999,
          2000,
          2001,
          2002,
          2003,
          2004,
          2005,
          2006,
          2007,
          2008,
          2009,
          2010,
          2011
         ],
         "xaxis": "x6",
         "y": [
          44.4,
          46.2,
          47.6,
          50.4,
          52.6,
          54.5,
          56.9,
          59,
          61.3,
          63.3,
          65.1,
          66.9,
          67.5,
          67.9,
          68.2,
          69,
          69,
          70.1,
          70.9,
          71.6,
          72.6,
          73.2,
          73.2,
          73.1,
          72.9,
          73,
          73.9,
          74.4,
          75.1,
          76.5,
          77.5,
          77.5,
          77.7,
          77.8,
          77.8,
          77.5,
          77.4,
          77.1,
          77.2,
          77.1,
          77,
          76.7
         ],
         "yaxis": "y6"
        },
        {
         "hovertemplate": "Major=Public Administration<br>Year=%{x}<br>value=%{y}<extra></extra>",
         "legendgroup": "",
         "line": {
          "color": "#AA0DFE",
          "dash": "solid"
         },
         "marker": {
          "symbol": "circle"
         },
         "mode": "lines",
         "name": "",
         "orientation": "v",
         "showlegend": false,
         "type": "scatter",
         "x": [
          1970,
          1971,
          1972,
          1973,
          1974,
          1975,
          1976,
          1977,
          1978,
          1979,
          1980,
          1981,
          1982,
          1983,
          1984,
          1985,
          1986,
          1987,
          1988,
          1989,
          1990,
          1991,
          1992,
          1993,
          1994,
          1995,
          1996,
          1997,
          1998,
          1999,
          2000,
          2001,
          2002,
          2003,
          2004,
          2005,
          2006,
          2007,
          2008,
          2009,
          2010,
          2011
         ],
         "xaxis": "x",
         "y": [
          68.4,
          65.5,
          62.6,
          64.3,
          66.1,
          63,
          65.6,
          69.3,
          71.5,
          73.3,
          74.6,
          74.7,
          76.8,
          76.1,
          75.9,
          75,
          75.7,
          76.4,
          75.6,
          76,
          77.6,
          78.2,
          77.3,
          78,
          78.8,
          78.8,
          79.8,
          81,
          81.3,
          81.1,
          81.1,
          80.9,
          81.3,
          81.5,
          80.7,
          81.2,
          81.2,
          82.1,
          81.7,
          82,
          81.7,
          81.9
         ],
         "yaxis": "y"
        },
        {
         "hovertemplate": "Major=Social Sciences and History<br>Year=%{x}<br>value=%{y}<extra></extra>",
         "legendgroup": "",
         "line": {
          "color": "#AA0DFE",
          "dash": "solid"
         },
         "marker": {
          "symbol": "circle"
         },
         "mode": "lines",
         "name": "",
         "orientation": "v",
         "showlegend": false,
         "type": "scatter",
         "x": [
          1970,
          1971,
          1972,
          1973,
          1974,
          1975,
          1976,
          1977,
          1978,
          1979,
          1980,
          1981,
          1982,
          1983,
          1984,
          1985,
          1986,
          1987,
          1988,
          1989,
          1990,
          1991,
          1992,
          1993,
          1994,
          1995,
          1996,
          1997,
          1998,
          1999,
          2000,
          2001,
          2002,
          2003,
          2004,
          2005,
          2006,
          2007,
          2008,
          2009,
          2010,
          2011
         ],
         "xaxis": "x2",
         "y": [
          36.8,
          36.2,
          36.1,
          36.4,
          37.3,
          37.7,
          39.2,
          40.5,
          41.8,
          43.6,
          44.2,
          44.6,
          44.6,
          44.1,
          44.1,
          43.8,
          44,
          43.9,
          44.4,
          44.2,
          45.1,
          45.5,
          45.8,
          46.1,
          46.8,
          47.9,
          48.7,
          49.2,
          50.5,
          51.2,
          51.8,
          51.7,
          51.5,
          50.9,
          50.5,
          50,
          49.8,
          49.3,
          49.4,
          49.4,
          49.3,
          49.2
         ],
         "yaxis": "y2"
        }
       ],
       "layout": {
        "annotations": [
         {
          "font": {},
          "showarrow": false,
          "text": "Major=Public Administration",
          "x": 0.15999999999999998,
          "xanchor": "center",
          "xref": "paper",
          "y": 0.10833333333333331,
          "yanchor": "bottom",
          "yref": "paper"
         },
         {
          "font": {},
          "showarrow": false,
          "text": "Major=Social Sciences and History",
          "x": 0.49999999999999994,
          "xanchor": "center",
          "xref": "paper",
          "y": 0.10833333333333331,
          "yanchor": "bottom",
          "yref": "paper"
         },
         {
          "font": {},
          "showarrow": false,
          "text": "Major=Math and Statistics",
          "x": 0.15999999999999998,
          "xanchor": "center",
          "xref": "paper",
          "y": 0.2866666666666666,
          "yanchor": "bottom",
          "yref": "paper"
         },
         {
          "font": {},
          "showarrow": false,
          "text": "Major=Physical Sciences",
          "x": 0.49999999999999994,
          "xanchor": "center",
          "xref": "paper",
          "y": 0.2866666666666666,
          "yanchor": "bottom",
          "yref": "paper"
         },
         {
          "font": {},
          "showarrow": false,
          "text": "Major=Psychology",
          "x": 0.8399999999999999,
          "xanchor": "center",
          "xref": "paper",
          "y": 0.2866666666666666,
          "yanchor": "bottom",
          "yref": "paper"
         },
         {
          "font": {},
          "showarrow": false,
          "text": "Major=English",
          "x": 0.15999999999999998,
          "xanchor": "center",
          "xref": "paper",
          "y": 0.46499999999999997,
          "yanchor": "bottom",
          "yref": "paper"
         },
         {
          "font": {},
          "showarrow": false,
          "text": "Major=Foreign Languages",
          "x": 0.49999999999999994,
          "xanchor": "center",
          "xref": "paper",
          "y": 0.46499999999999997,
          "yanchor": "bottom",
          "yref": "paper"
         },
         {
          "font": {},
          "showarrow": false,
          "text": "Major=Health Professions",
          "x": 0.8399999999999999,
          "xanchor": "center",
          "xref": "paper",
          "y": 0.46499999999999997,
          "yanchor": "bottom",
          "yref": "paper"
         },
         {
          "font": {},
          "showarrow": false,
          "text": "Major=Computer Science",
          "x": 0.15999999999999998,
          "xanchor": "center",
          "xref": "paper",
          "y": 0.6433333333333332,
          "yanchor": "bottom",
          "yref": "paper"
         },
         {
          "font": {},
          "showarrow": false,
          "text": "Major=Education",
          "x": 0.49999999999999994,
          "xanchor": "center",
          "xref": "paper",
          "y": 0.6433333333333332,
          "yanchor": "bottom",
          "yref": "paper"
         },
         {
          "font": {},
          "showarrow": false,
          "text": "Major=Engineering",
          "x": 0.8399999999999999,
          "xanchor": "center",
          "xref": "paper",
          "y": 0.6433333333333332,
          "yanchor": "bottom",
          "yref": "paper"
         },
         {
          "font": {},
          "showarrow": false,
          "text": "Major=Biology",
          "x": 0.15999999999999998,
          "xanchor": "center",
          "xref": "paper",
          "y": 0.8216666666666665,
          "yanchor": "bottom",
          "yref": "paper"
         },
         {
          "font": {},
          "showarrow": false,
          "text": "Major=Business",
          "x": 0.49999999999999994,
          "xanchor": "center",
          "xref": "paper",
          "y": 0.8216666666666665,
          "yanchor": "bottom",
          "yref": "paper"
         },
         {
          "font": {},
          "showarrow": false,
          "text": "Major=Communications and Journalism",
          "x": 0.8399999999999999,
          "xanchor": "center",
          "xref": "paper",
          "y": 0.8216666666666665,
          "yanchor": "bottom",
          "yref": "paper"
         },
         {
          "font": {},
          "showarrow": false,
          "text": "Major=Agriculture",
          "x": 0.15999999999999998,
          "xanchor": "center",
          "xref": "paper",
          "y": 0.9999999999999999,
          "yanchor": "bottom",
          "yref": "paper"
         },
         {
          "font": {},
          "showarrow": false,
          "text": "Major=Architecture",
          "x": 0.49999999999999994,
          "xanchor": "center",
          "xref": "paper",
          "y": 0.9999999999999999,
          "yanchor": "bottom",
          "yref": "paper"
         },
         {
          "font": {},
          "showarrow": false,
          "text": "Major=Art and Performance",
          "x": 0.8399999999999999,
          "xanchor": "center",
          "xref": "paper",
          "y": 0.9999999999999999,
          "yanchor": "bottom",
          "yref": "paper"
         }
        ],
        "font": {
         "size": 8
        },
        "legend": {
         "tracegroupgap": 0
        },
        "margin": {
         "t": 60
        },
        "template": {
         "data": {
          "bar": [
           {
            "error_x": {
             "color": "#2a3f5f"
            },
            "error_y": {
             "color": "#2a3f5f"
            },
            "marker": {
             "line": {
              "color": "#E5ECF6",
              "width": 0.5
             },
             "pattern": {
              "fillmode": "overlay",
              "size": 10,
              "solidity": 0.2
             }
            },
            "type": "bar"
           }
          ],
          "barpolar": [
           {
            "marker": {
             "line": {
              "color": "#E5ECF6",
              "width": 0.5
             },
             "pattern": {
              "fillmode": "overlay",
              "size": 10,
              "solidity": 0.2
             }
            },
            "type": "barpolar"
           }
          ],
          "carpet": [
           {
            "aaxis": {
             "endlinecolor": "#2a3f5f",
             "gridcolor": "white",
             "linecolor": "white",
             "minorgridcolor": "white",
             "startlinecolor": "#2a3f5f"
            },
            "baxis": {
             "endlinecolor": "#2a3f5f",
             "gridcolor": "white",
             "linecolor": "white",
             "minorgridcolor": "white",
             "startlinecolor": "#2a3f5f"
            },
            "type": "carpet"
           }
          ],
          "choropleth": [
           {
            "colorbar": {
             "outlinewidth": 0,
             "ticks": ""
            },
            "type": "choropleth"
           }
          ],
          "contour": [
           {
            "colorbar": {
             "outlinewidth": 0,
             "ticks": ""
            },
            "colorscale": [
             [
              0,
              "#0d0887"
             ],
             [
              0.1111111111111111,
              "#46039f"
             ],
             [
              0.2222222222222222,
              "#7201a8"
             ],
             [
              0.3333333333333333,
              "#9c179e"
             ],
             [
              0.4444444444444444,
              "#bd3786"
             ],
             [
              0.5555555555555556,
              "#d8576b"
             ],
             [
              0.6666666666666666,
              "#ed7953"
             ],
             [
              0.7777777777777778,
              "#fb9f3a"
             ],
             [
              0.8888888888888888,
              "#fdca26"
             ],
             [
              1,
              "#f0f921"
             ]
            ],
            "type": "contour"
           }
          ],
          "contourcarpet": [
           {
            "colorbar": {
             "outlinewidth": 0,
             "ticks": ""
            },
            "type": "contourcarpet"
           }
          ],
          "heatmap": [
           {
            "colorbar": {
             "outlinewidth": 0,
             "ticks": ""
            },
            "colorscale": [
             [
              0,
              "#0d0887"
             ],
             [
              0.1111111111111111,
              "#46039f"
             ],
             [
              0.2222222222222222,
              "#7201a8"
             ],
             [
              0.3333333333333333,
              "#9c179e"
             ],
             [
              0.4444444444444444,
              "#bd3786"
             ],
             [
              0.5555555555555556,
              "#d8576b"
             ],
             [
              0.6666666666666666,
              "#ed7953"
             ],
             [
              0.7777777777777778,
              "#fb9f3a"
             ],
             [
              0.8888888888888888,
              "#fdca26"
             ],
             [
              1,
              "#f0f921"
             ]
            ],
            "type": "heatmap"
           }
          ],
          "heatmapgl": [
           {
            "colorbar": {
             "outlinewidth": 0,
             "ticks": ""
            },
            "colorscale": [
             [
              0,
              "#0d0887"
             ],
             [
              0.1111111111111111,
              "#46039f"
             ],
             [
              0.2222222222222222,
              "#7201a8"
             ],
             [
              0.3333333333333333,
              "#9c179e"
             ],
             [
              0.4444444444444444,
              "#bd3786"
             ],
             [
              0.5555555555555556,
              "#d8576b"
             ],
             [
              0.6666666666666666,
              "#ed7953"
             ],
             [
              0.7777777777777778,
              "#fb9f3a"
             ],
             [
              0.8888888888888888,
              "#fdca26"
             ],
             [
              1,
              "#f0f921"
             ]
            ],
            "type": "heatmapgl"
           }
          ],
          "histogram": [
           {
            "marker": {
             "pattern": {
              "fillmode": "overlay",
              "size": 10,
              "solidity": 0.2
             }
            },
            "type": "histogram"
           }
          ],
          "histogram2d": [
           {
            "colorbar": {
             "outlinewidth": 0,
             "ticks": ""
            },
            "colorscale": [
             [
              0,
              "#0d0887"
             ],
             [
              0.1111111111111111,
              "#46039f"
             ],
             [
              0.2222222222222222,
              "#7201a8"
             ],
             [
              0.3333333333333333,
              "#9c179e"
             ],
             [
              0.4444444444444444,
              "#bd3786"
             ],
             [
              0.5555555555555556,
              "#d8576b"
             ],
             [
              0.6666666666666666,
              "#ed7953"
             ],
             [
              0.7777777777777778,
              "#fb9f3a"
             ],
             [
              0.8888888888888888,
              "#fdca26"
             ],
             [
              1,
              "#f0f921"
             ]
            ],
            "type": "histogram2d"
           }
          ],
          "histogram2dcontour": [
           {
            "colorbar": {
             "outlinewidth": 0,
             "ticks": ""
            },
            "colorscale": [
             [
              0,
              "#0d0887"
             ],
             [
              0.1111111111111111,
              "#46039f"
             ],
             [
              0.2222222222222222,
              "#7201a8"
             ],
             [
              0.3333333333333333,
              "#9c179e"
             ],
             [
              0.4444444444444444,
              "#bd3786"
             ],
             [
              0.5555555555555556,
              "#d8576b"
             ],
             [
              0.6666666666666666,
              "#ed7953"
             ],
             [
              0.7777777777777778,
              "#fb9f3a"
             ],
             [
              0.8888888888888888,
              "#fdca26"
             ],
             [
              1,
              "#f0f921"
             ]
            ],
            "type": "histogram2dcontour"
           }
          ],
          "mesh3d": [
           {
            "colorbar": {
             "outlinewidth": 0,
             "ticks": ""
            },
            "type": "mesh3d"
           }
          ],
          "parcoords": [
           {
            "line": {
             "colorbar": {
              "outlinewidth": 0,
              "ticks": ""
             }
            },
            "type": "parcoords"
           }
          ],
          "pie": [
           {
            "automargin": true,
            "type": "pie"
           }
          ],
          "scatter": [
           {
            "fillpattern": {
             "fillmode": "overlay",
             "size": 10,
             "solidity": 0.2
            },
            "type": "scatter"
           }
          ],
          "scatter3d": [
           {
            "line": {
             "colorbar": {
              "outlinewidth": 0,
              "ticks": ""
             }
            },
            "marker": {
             "colorbar": {
              "outlinewidth": 0,
              "ticks": ""
             }
            },
            "type": "scatter3d"
           }
          ],
          "scattercarpet": [
           {
            "marker": {
             "colorbar": {
              "outlinewidth": 0,
              "ticks": ""
             }
            },
            "type": "scattercarpet"
           }
          ],
          "scattergeo": [
           {
            "marker": {
             "colorbar": {
              "outlinewidth": 0,
              "ticks": ""
             }
            },
            "type": "scattergeo"
           }
          ],
          "scattergl": [
           {
            "marker": {
             "colorbar": {
              "outlinewidth": 0,
              "ticks": ""
             }
            },
            "type": "scattergl"
           }
          ],
          "scattermapbox": [
           {
            "marker": {
             "colorbar": {
              "outlinewidth": 0,
              "ticks": ""
             }
            },
            "type": "scattermapbox"
           }
          ],
          "scatterpolar": [
           {
            "marker": {
             "colorbar": {
              "outlinewidth": 0,
              "ticks": ""
             }
            },
            "type": "scatterpolar"
           }
          ],
          "scatterpolargl": [
           {
            "marker": {
             "colorbar": {
              "outlinewidth": 0,
              "ticks": ""
             }
            },
            "type": "scatterpolargl"
           }
          ],
          "scatterternary": [
           {
            "marker": {
             "colorbar": {
              "outlinewidth": 0,
              "ticks": ""
             }
            },
            "type": "scatterternary"
           }
          ],
          "surface": [
           {
            "colorbar": {
             "outlinewidth": 0,
             "ticks": ""
            },
            "colorscale": [
             [
              0,
              "#0d0887"
             ],
             [
              0.1111111111111111,
              "#46039f"
             ],
             [
              0.2222222222222222,
              "#7201a8"
             ],
             [
              0.3333333333333333,
              "#9c179e"
             ],
             [
              0.4444444444444444,
              "#bd3786"
             ],
             [
              0.5555555555555556,
              "#d8576b"
             ],
             [
              0.6666666666666666,
              "#ed7953"
             ],
             [
              0.7777777777777778,
              "#fb9f3a"
             ],
             [
              0.8888888888888888,
              "#fdca26"
             ],
             [
              1,
              "#f0f921"
             ]
            ],
            "type": "surface"
           }
          ],
          "table": [
           {
            "cells": {
             "fill": {
              "color": "#EBF0F8"
             },
             "line": {
              "color": "white"
             }
            },
            "header": {
             "fill": {
              "color": "#C8D4E3"
             },
             "line": {
              "color": "white"
             }
            },
            "type": "table"
           }
          ]
         },
         "layout": {
          "annotationdefaults": {
           "arrowcolor": "#2a3f5f",
           "arrowhead": 0,
           "arrowwidth": 1
          },
          "autotypenumbers": "strict",
          "coloraxis": {
           "colorbar": {
            "outlinewidth": 0,
            "ticks": ""
           }
          },
          "colorscale": {
           "diverging": [
            [
             0,
             "#8e0152"
            ],
            [
             0.1,
             "#c51b7d"
            ],
            [
             0.2,
             "#de77ae"
            ],
            [
             0.3,
             "#f1b6da"
            ],
            [
             0.4,
             "#fde0ef"
            ],
            [
             0.5,
             "#f7f7f7"
            ],
            [
             0.6,
             "#e6f5d0"
            ],
            [
             0.7,
             "#b8e186"
            ],
            [
             0.8,
             "#7fbc41"
            ],
            [
             0.9,
             "#4d9221"
            ],
            [
             1,
             "#276419"
            ]
           ],
           "sequential": [
            [
             0,
             "#0d0887"
            ],
            [
             0.1111111111111111,
             "#46039f"
            ],
            [
             0.2222222222222222,
             "#7201a8"
            ],
            [
             0.3333333333333333,
             "#9c179e"
            ],
            [
             0.4444444444444444,
             "#bd3786"
            ],
            [
             0.5555555555555556,
             "#d8576b"
            ],
            [
             0.6666666666666666,
             "#ed7953"
            ],
            [
             0.7777777777777778,
             "#fb9f3a"
            ],
            [
             0.8888888888888888,
             "#fdca26"
            ],
            [
             1,
             "#f0f921"
            ]
           ],
           "sequentialminus": [
            [
             0,
             "#0d0887"
            ],
            [
             0.1111111111111111,
             "#46039f"
            ],
            [
             0.2222222222222222,
             "#7201a8"
            ],
            [
             0.3333333333333333,
             "#9c179e"
            ],
            [
             0.4444444444444444,
             "#bd3786"
            ],
            [
             0.5555555555555556,
             "#d8576b"
            ],
            [
             0.6666666666666666,
             "#ed7953"
            ],
            [
             0.7777777777777778,
             "#fb9f3a"
            ],
            [
             0.8888888888888888,
             "#fdca26"
            ],
            [
             1,
             "#f0f921"
            ]
           ]
          },
          "colorway": [
           "#636efa",
           "#EF553B",
           "#00cc96",
           "#ab63fa",
           "#FFA15A",
           "#19d3f3",
           "#FF6692",
           "#B6E880",
           "#FF97FF",
           "#FECB52"
          ],
          "font": {
           "color": "#2a3f5f"
          },
          "geo": {
           "bgcolor": "white",
           "lakecolor": "white",
           "landcolor": "#E5ECF6",
           "showlakes": true,
           "showland": true,
           "subunitcolor": "white"
          },
          "hoverlabel": {
           "align": "left"
          },
          "hovermode": "closest",
          "mapbox": {
           "style": "light"
          },
          "paper_bgcolor": "white",
          "plot_bgcolor": "#E5ECF6",
          "polar": {
           "angularaxis": {
            "gridcolor": "white",
            "linecolor": "white",
            "ticks": ""
           },
           "bgcolor": "#E5ECF6",
           "radialaxis": {
            "gridcolor": "white",
            "linecolor": "white",
            "ticks": ""
           }
          },
          "scene": {
           "xaxis": {
            "backgroundcolor": "#E5ECF6",
            "gridcolor": "white",
            "gridwidth": 2,
            "linecolor": "white",
            "showbackground": true,
            "ticks": "",
            "zerolinecolor": "white"
           },
           "yaxis": {
            "backgroundcolor": "#E5ECF6",
            "gridcolor": "white",
            "gridwidth": 2,
            "linecolor": "white",
            "showbackground": true,
            "ticks": "",
            "zerolinecolor": "white"
           },
           "zaxis": {
            "backgroundcolor": "#E5ECF6",
            "gridcolor": "white",
            "gridwidth": 2,
            "linecolor": "white",
            "showbackground": true,
            "ticks": "",
            "zerolinecolor": "white"
           }
          },
          "shapedefaults": {
           "line": {
            "color": "#2a3f5f"
           }
          },
          "ternary": {
           "aaxis": {
            "gridcolor": "white",
            "linecolor": "white",
            "ticks": ""
           },
           "baxis": {
            "gridcolor": "white",
            "linecolor": "white",
            "ticks": ""
           },
           "bgcolor": "#E5ECF6",
           "caxis": {
            "gridcolor": "white",
            "linecolor": "white",
            "ticks": ""
           }
          },
          "title": {
           "x": 0.05
          },
          "xaxis": {
           "automargin": true,
           "gridcolor": "white",
           "linecolor": "white",
           "ticks": "",
           "title": {
            "standoff": 15
           },
           "zerolinecolor": "white",
           "zerolinewidth": 2
          },
          "yaxis": {
           "automargin": true,
           "gridcolor": "white",
           "linecolor": "white",
           "ticks": "",
           "title": {
            "standoff": 15
           },
           "zerolinecolor": "white",
           "zerolinewidth": 2
          }
         }
        },
        "xaxis": {
         "anchor": "y",
         "domain": [
          0,
          0.31999999999999995
         ],
         "title": {
          "text": "Year"
         }
        },
        "xaxis10": {
         "anchor": "y10",
         "domain": [
          0,
          0.31999999999999995
         ],
         "matches": "x",
         "showticklabels": false
        },
        "xaxis11": {
         "anchor": "y11",
         "domain": [
          0.33999999999999997,
          0.6599999999999999
         ],
         "matches": "x",
         "showticklabels": false
        },
        "xaxis12": {
         "anchor": "y12",
         "domain": [
          0.6799999999999999,
          0.9999999999999999
         ],
         "matches": "x",
         "showticklabels": false
        },
        "xaxis13": {
         "anchor": "y13",
         "domain": [
          0,
          0.31999999999999995
         ],
         "matches": "x",
         "showticklabels": false
        },
        "xaxis14": {
         "anchor": "y14",
         "domain": [
          0.33999999999999997,
          0.6599999999999999
         ],
         "matches": "x",
         "showticklabels": false
        },
        "xaxis15": {
         "anchor": "y15",
         "domain": [
          0.6799999999999999,
          0.9999999999999999
         ],
         "matches": "x",
         "showticklabels": false
        },
        "xaxis16": {
         "anchor": "y16",
         "domain": [
          0,
          0.31999999999999995
         ],
         "matches": "x",
         "showticklabels": false
        },
        "xaxis17": {
         "anchor": "y17",
         "domain": [
          0.33999999999999997,
          0.6599999999999999
         ],
         "matches": "x",
         "showticklabels": false
        },
        "xaxis18": {
         "anchor": "y18",
         "domain": [
          0.6799999999999999,
          0.9999999999999999
         ],
         "matches": "x",
         "showticklabels": false
        },
        "xaxis2": {
         "anchor": "y2",
         "domain": [
          0.33999999999999997,
          0.6599999999999999
         ],
         "matches": "x",
         "title": {
          "text": "Year"
         }
        },
        "xaxis3": {
         "anchor": "y3",
         "domain": [
          0.6799999999999999,
          0.9999999999999999
         ],
         "matches": "x",
         "title": {
          "text": "Year"
         }
        },
        "xaxis4": {
         "anchor": "y4",
         "domain": [
          0,
          0.31999999999999995
         ],
         "matches": "x",
         "showticklabels": false
        },
        "xaxis5": {
         "anchor": "y5",
         "domain": [
          0.33999999999999997,
          0.6599999999999999
         ],
         "matches": "x",
         "showticklabels": false
        },
        "xaxis6": {
         "anchor": "y6",
         "domain": [
          0.6799999999999999,
          0.9999999999999999
         ],
         "matches": "x",
         "showticklabels": false
        },
        "xaxis7": {
         "anchor": "y7",
         "domain": [
          0,
          0.31999999999999995
         ],
         "matches": "x",
         "showticklabels": false
        },
        "xaxis8": {
         "anchor": "y8",
         "domain": [
          0.33999999999999997,
          0.6599999999999999
         ],
         "matches": "x",
         "showticklabels": false
        },
        "xaxis9": {
         "anchor": "y9",
         "domain": [
          0.6799999999999999,
          0.9999999999999999
         ],
         "matches": "x",
         "showticklabels": false
        },
        "yaxis": {
         "anchor": "x",
         "domain": [
          0,
          0.10833333333333331
         ],
         "title": {
          "text": "value"
         }
        },
        "yaxis10": {
         "anchor": "x10",
         "domain": [
          0.5349999999999999,
          0.6433333333333332
         ],
         "matches": "y",
         "title": {
          "text": "value"
         }
        },
        "yaxis11": {
         "anchor": "x11",
         "domain": [
          0.5349999999999999,
          0.6433333333333332
         ],
         "matches": "y",
         "showticklabels": false
        },
        "yaxis12": {
         "anchor": "x12",
         "domain": [
          0.5349999999999999,
          0.6433333333333332
         ],
         "matches": "y",
         "showticklabels": false
        },
        "yaxis13": {
         "anchor": "x13",
         "domain": [
          0.7133333333333333,
          0.8216666666666665
         ],
         "matches": "y",
         "title": {
          "text": "value"
         }
        },
        "yaxis14": {
         "anchor": "x14",
         "domain": [
          0.7133333333333333,
          0.8216666666666665
         ],
         "matches": "y",
         "showticklabels": false
        },
        "yaxis15": {
         "anchor": "x15",
         "domain": [
          0.7133333333333333,
          0.8216666666666665
         ],
         "matches": "y",
         "showticklabels": false
        },
        "yaxis16": {
         "anchor": "x16",
         "domain": [
          0.8916666666666666,
          0.9999999999999999
         ],
         "matches": "y",
         "title": {
          "text": "value"
         }
        },
        "yaxis17": {
         "anchor": "x17",
         "domain": [
          0.8916666666666666,
          0.9999999999999999
         ],
         "matches": "y",
         "showticklabels": false
        },
        "yaxis18": {
         "anchor": "x18",
         "domain": [
          0.8916666666666666,
          0.9999999999999999
         ],
         "matches": "y",
         "showticklabels": false
        },
        "yaxis2": {
         "anchor": "x2",
         "domain": [
          0,
          0.10833333333333331
         ],
         "matches": "y",
         "showticklabels": false
        },
        "yaxis3": {
         "anchor": "x3",
         "domain": [
          0,
          0.10833333333333331
         ],
         "matches": "y",
         "showticklabels": false
        },
        "yaxis4": {
         "anchor": "x4",
         "domain": [
          0.17833333333333332,
          0.2866666666666666
         ],
         "matches": "y",
         "title": {
          "text": "value"
         }
        },
        "yaxis5": {
         "anchor": "x5",
         "domain": [
          0.17833333333333332,
          0.2866666666666666
         ],
         "matches": "y",
         "showticklabels": false
        },
        "yaxis6": {
         "anchor": "x6",
         "domain": [
          0.17833333333333332,
          0.2866666666666666
         ],
         "matches": "y",
         "showticklabels": false
        },
        "yaxis7": {
         "anchor": "x7",
         "domain": [
          0.35666666666666663,
          0.46499999999999997
         ],
         "matches": "y",
         "title": {
          "text": "value"
         }
        },
        "yaxis8": {
         "anchor": "x8",
         "domain": [
          0.35666666666666663,
          0.46499999999999997
         ],
         "matches": "y",
         "showticklabels": false
        },
        "yaxis9": {
         "anchor": "x9",
         "domain": [
          0.35666666666666663,
          0.46499999999999997
         ],
         "matches": "y",
         "showticklabels": false
        }
       }
      }
     },
     "metadata": {},
     "output_type": "display_data"
    }
   ],
   "source": [
    "# In plotly, reshaping the array\n",
    "\n",
    "df_melt = degree_gender_ratio.melt(id_vars='Year', var_name=\"Major\", value_name='value', value_vars=[x for x in degree_gender_ratio.columns[1:]])\n",
    "fig=px.line(df_melt, x='Year', y='value',facet_col=\"Major\",facet_col_wrap = 3, color_discrete_sequence=px.colors.qualitative.Alphabet)\n",
    "fig.update_layout(\n",
    "    font_size=8\n",
    ")"
   ]
  },
  {
   "cell_type": "markdown",
   "metadata": {},
   "source": [
    "Gender ratios of business, engineering, biology, health professions majors in 1970, 1990, and 2010\n",
    "Look at the dataframe! How can we get the gender ratios male/female?"
   ]
  },
  {
   "cell_type": "code",
   "execution_count": 11,
   "metadata": {
    "colab": {
     "base_uri": "https://localhost:8080/"
    },
    "id": "sCjzwX9a1QH4",
    "outputId": "536149fa-773c-4770-dfee-d5c0519c1afa"
   },
   "outputs": [
    {
     "name": "stdout",
     "output_type": "stream",
     "text": [
      "    Year               Major  Gender        val\n",
      "0   1970            Business  female   9.064439\n",
      "1   1990            Business  female  47.200851\n",
      "2   2010            Business  female  48.757988\n",
      "3   1970         Engineering  female   0.800000\n",
      "4   1990         Engineering  female  14.100000\n",
      "5   2010         Engineering  female  17.200000\n",
      "6   1970             Biology  female  29.088363\n",
      "7   1990             Biology  female  50.818094\n",
      "8   2010             Biology  female  59.010255\n",
      "9   1970  Health Professions  female  77.100000\n",
      "10  1990  Health Professions  female  83.900000\n",
      "11  2010  Health Professions  female  85.000000\n",
      "12  1970            Business    male  90.935561\n",
      "13  1990            Business    male  52.799149\n",
      "14  2010            Business    male  51.242012\n",
      "15  1970         Engineering    male  99.200000\n",
      "16  1990         Engineering    male  85.900000\n",
      "17  2010         Engineering    male  82.800000\n",
      "18  1970             Biology    male  70.911637\n",
      "19  1990             Biology    male  49.181906\n",
      "20  2010             Biology    male  40.989745\n",
      "21  1970  Health Professions    male  22.900000\n",
      "22  1990  Health Professions    male  16.100000\n",
      "23  2010  Health Professions    male  15.000000\n"
     ]
    },
    {
     "data": {
      "application/vnd.plotly.v1+json": {
       "config": {
        "plotlyServerURL": "https://plot.ly"
       },
       "data": [
        {
         "domain": {
          "x": [
           0,
           0.22999999999999998
          ],
          "y": [
           0.6866666666666665,
           0.9999999999999998
          ]
         },
         "hovertemplate": "Year=1970<br>Major=Business<br>Gender=%{label}<br>val=%{value}<extra></extra>",
         "labels": [
          "female",
          "male"
         ],
         "legendgroup": "",
         "name": "",
         "showlegend": true,
         "type": "pie",
         "values": [
          9.064438975,
          90.935561025
         ]
        },
        {
         "domain": {
          "x": [
           0.24999999999999997,
           0.48
          ],
          "y": [
           0.6866666666666665,
           0.9999999999999998
          ]
         },
         "hovertemplate": "Year=1970<br>Major=Engineering<br>Gender=%{label}<br>val=%{value}<extra></extra>",
         "labels": [
          "female",
          "male"
         ],
         "legendgroup": "",
         "name": "",
         "showlegend": true,
         "type": "pie",
         "values": [
          0.8,
          99.2
         ]
        },
        {
         "domain": {
          "x": [
           0.49999999999999994,
           0.73
          ],
          "y": [
           0.6866666666666665,
           0.9999999999999998
          ]
         },
         "hovertemplate": "Year=1970<br>Major=Biology<br>Gender=%{label}<br>val=%{value}<extra></extra>",
         "labels": [
          "female",
          "male"
         ],
         "legendgroup": "",
         "name": "",
         "showlegend": true,
         "type": "pie",
         "values": [
          29.08836297,
          70.91163703000001
         ]
        },
        {
         "domain": {
          "x": [
           0.75,
           0.98
          ],
          "y": [
           0.6866666666666665,
           0.9999999999999998
          ]
         },
         "hovertemplate": "Year=1970<br>Major=Health Professions<br>Gender=%{label}<br>val=%{value}<extra></extra>",
         "labels": [
          "female",
          "male"
         ],
         "legendgroup": "",
         "name": "",
         "showlegend": true,
         "type": "pie",
         "values": [
          77.1,
          22.900000000000006
         ]
        },
        {
         "domain": {
          "x": [
           0,
           0.22999999999999998
          ],
          "y": [
           0.34333333333333327,
           0.6566666666666665
          ]
         },
         "hovertemplate": "Year=1990<br>Major=Business<br>Gender=%{label}<br>val=%{value}<extra></extra>",
         "labels": [
          "female",
          "male"
         ],
         "legendgroup": "",
         "name": "",
         "showlegend": true,
         "type": "pie",
         "values": [
          47.20085084,
          52.79914916
         ]
        },
        {
         "domain": {
          "x": [
           0.24999999999999997,
           0.48
          ],
          "y": [
           0.34333333333333327,
           0.6566666666666665
          ]
         },
         "hovertemplate": "Year=1990<br>Major=Engineering<br>Gender=%{label}<br>val=%{value}<extra></extra>",
         "labels": [
          "female",
          "male"
         ],
         "legendgroup": "",
         "name": "",
         "showlegend": true,
         "type": "pie",
         "values": [
          14.1,
          85.9
         ]
        },
        {
         "domain": {
          "x": [
           0.49999999999999994,
           0.73
          ],
          "y": [
           0.34333333333333327,
           0.6566666666666665
          ]
         },
         "hovertemplate": "Year=1990<br>Major=Biology<br>Gender=%{label}<br>val=%{value}<extra></extra>",
         "labels": [
          "female",
          "male"
         ],
         "legendgroup": "",
         "name": "",
         "showlegend": true,
         "type": "pie",
         "values": [
          50.81809432,
          49.18190568
         ]
        },
        {
         "domain": {
          "x": [
           0.75,
           0.98
          ],
          "y": [
           0.34333333333333327,
           0.6566666666666665
          ]
         },
         "hovertemplate": "Year=1990<br>Major=Health Professions<br>Gender=%{label}<br>val=%{value}<extra></extra>",
         "labels": [
          "female",
          "male"
         ],
         "legendgroup": "",
         "name": "",
         "showlegend": true,
         "type": "pie",
         "values": [
          83.9,
          16.099999999999994
         ]
        },
        {
         "domain": {
          "x": [
           0,
           0.22999999999999998
          ],
          "y": [
           0,
           0.3133333333333333
          ]
         },
         "hovertemplate": "Year=2010<br>Major=Business<br>Gender=%{label}<br>val=%{value}<extra></extra>",
         "labels": [
          "female",
          "male"
         ],
         "legendgroup": "",
         "name": "",
         "showlegend": true,
         "type": "pie",
         "values": [
          48.75798769,
          51.24201231
         ]
        },
        {
         "domain": {
          "x": [
           0.24999999999999997,
           0.48
          ],
          "y": [
           0,
           0.3133333333333333
          ]
         },
         "hovertemplate": "Year=2010<br>Major=Engineering<br>Gender=%{label}<br>val=%{value}<extra></extra>",
         "labels": [
          "female",
          "male"
         ],
         "legendgroup": "",
         "name": "",
         "showlegend": true,
         "type": "pie",
         "values": [
          17.2,
          82.8
         ]
        },
        {
         "domain": {
          "x": [
           0.49999999999999994,
           0.73
          ],
          "y": [
           0,
           0.3133333333333333
          ]
         },
         "hovertemplate": "Year=2010<br>Major=Biology<br>Gender=%{label}<br>val=%{value}<extra></extra>",
         "labels": [
          "female",
          "male"
         ],
         "legendgroup": "",
         "name": "",
         "showlegend": true,
         "type": "pie",
         "values": [
          59.01025521,
          40.98974479
         ]
        },
        {
         "domain": {
          "x": [
           0.75,
           0.98
          ],
          "y": [
           0,
           0.3133333333333333
          ]
         },
         "hovertemplate": "Year=2010<br>Major=Health Professions<br>Gender=%{label}<br>val=%{value}<extra></extra>",
         "labels": [
          "female",
          "male"
         ],
         "legendgroup": "",
         "name": "",
         "showlegend": true,
         "type": "pie",
         "values": [
          85,
          15
         ]
        }
       ],
       "layout": {
        "annotations": [
         {
          "font": {},
          "showarrow": false,
          "text": "Major=Business",
          "x": 0.11499999999999999,
          "xanchor": "center",
          "xref": "paper",
          "y": 0.9999999999999998,
          "yanchor": "bottom",
          "yref": "paper"
         },
         {
          "font": {},
          "showarrow": false,
          "text": "Major=Engineering",
          "x": 0.365,
          "xanchor": "center",
          "xref": "paper",
          "y": 0.9999999999999998,
          "yanchor": "bottom",
          "yref": "paper"
         },
         {
          "font": {},
          "showarrow": false,
          "text": "Major=Biology",
          "x": 0.615,
          "xanchor": "center",
          "xref": "paper",
          "y": 0.9999999999999998,
          "yanchor": "bottom",
          "yref": "paper"
         },
         {
          "font": {},
          "showarrow": false,
          "text": "Major=Health Professions",
          "x": 0.865,
          "xanchor": "center",
          "xref": "paper",
          "y": 0.9999999999999998,
          "yanchor": "bottom",
          "yref": "paper"
         },
         {
          "font": {},
          "showarrow": false,
          "text": "Year=2010",
          "textangle": 90,
          "x": 0.98,
          "xanchor": "left",
          "xref": "paper",
          "y": 0.15666666666666665,
          "yanchor": "middle",
          "yref": "paper"
         },
         {
          "font": {},
          "showarrow": false,
          "text": "Year=1990",
          "textangle": 90,
          "x": 0.98,
          "xanchor": "left",
          "xref": "paper",
          "y": 0.4999999999999999,
          "yanchor": "middle",
          "yref": "paper"
         },
         {
          "font": {},
          "showarrow": false,
          "text": "Year=1970",
          "textangle": 90,
          "x": 0.98,
          "xanchor": "left",
          "xref": "paper",
          "y": 0.8433333333333332,
          "yanchor": "middle",
          "yref": "paper"
         }
        ],
        "font": {
         "size": 8
        },
        "legend": {
         "tracegroupgap": 0
        },
        "margin": {
         "t": 60
        },
        "piecolorway": [
         "#1F77B4",
         "#FF7F0E",
         "#2CA02C",
         "#D62728",
         "#9467BD",
         "#8C564B",
         "#E377C2",
         "#7F7F7F",
         "#BCBD22",
         "#17BECF"
        ],
        "template": {
         "data": {
          "bar": [
           {
            "error_x": {
             "color": "#2a3f5f"
            },
            "error_y": {
             "color": "#2a3f5f"
            },
            "marker": {
             "line": {
              "color": "#E5ECF6",
              "width": 0.5
             },
             "pattern": {
              "fillmode": "overlay",
              "size": 10,
              "solidity": 0.2
             }
            },
            "type": "bar"
           }
          ],
          "barpolar": [
           {
            "marker": {
             "line": {
              "color": "#E5ECF6",
              "width": 0.5
             },
             "pattern": {
              "fillmode": "overlay",
              "size": 10,
              "solidity": 0.2
             }
            },
            "type": "barpolar"
           }
          ],
          "carpet": [
           {
            "aaxis": {
             "endlinecolor": "#2a3f5f",
             "gridcolor": "white",
             "linecolor": "white",
             "minorgridcolor": "white",
             "startlinecolor": "#2a3f5f"
            },
            "baxis": {
             "endlinecolor": "#2a3f5f",
             "gridcolor": "white",
             "linecolor": "white",
             "minorgridcolor": "white",
             "startlinecolor": "#2a3f5f"
            },
            "type": "carpet"
           }
          ],
          "choropleth": [
           {
            "colorbar": {
             "outlinewidth": 0,
             "ticks": ""
            },
            "type": "choropleth"
           }
          ],
          "contour": [
           {
            "colorbar": {
             "outlinewidth": 0,
             "ticks": ""
            },
            "colorscale": [
             [
              0,
              "#0d0887"
             ],
             [
              0.1111111111111111,
              "#46039f"
             ],
             [
              0.2222222222222222,
              "#7201a8"
             ],
             [
              0.3333333333333333,
              "#9c179e"
             ],
             [
              0.4444444444444444,
              "#bd3786"
             ],
             [
              0.5555555555555556,
              "#d8576b"
             ],
             [
              0.6666666666666666,
              "#ed7953"
             ],
             [
              0.7777777777777778,
              "#fb9f3a"
             ],
             [
              0.8888888888888888,
              "#fdca26"
             ],
             [
              1,
              "#f0f921"
             ]
            ],
            "type": "contour"
           }
          ],
          "contourcarpet": [
           {
            "colorbar": {
             "outlinewidth": 0,
             "ticks": ""
            },
            "type": "contourcarpet"
           }
          ],
          "heatmap": [
           {
            "colorbar": {
             "outlinewidth": 0,
             "ticks": ""
            },
            "colorscale": [
             [
              0,
              "#0d0887"
             ],
             [
              0.1111111111111111,
              "#46039f"
             ],
             [
              0.2222222222222222,
              "#7201a8"
             ],
             [
              0.3333333333333333,
              "#9c179e"
             ],
             [
              0.4444444444444444,
              "#bd3786"
             ],
             [
              0.5555555555555556,
              "#d8576b"
             ],
             [
              0.6666666666666666,
              "#ed7953"
             ],
             [
              0.7777777777777778,
              "#fb9f3a"
             ],
             [
              0.8888888888888888,
              "#fdca26"
             ],
             [
              1,
              "#f0f921"
             ]
            ],
            "type": "heatmap"
           }
          ],
          "heatmapgl": [
           {
            "colorbar": {
             "outlinewidth": 0,
             "ticks": ""
            },
            "colorscale": [
             [
              0,
              "#0d0887"
             ],
             [
              0.1111111111111111,
              "#46039f"
             ],
             [
              0.2222222222222222,
              "#7201a8"
             ],
             [
              0.3333333333333333,
              "#9c179e"
             ],
             [
              0.4444444444444444,
              "#bd3786"
             ],
             [
              0.5555555555555556,
              "#d8576b"
             ],
             [
              0.6666666666666666,
              "#ed7953"
             ],
             [
              0.7777777777777778,
              "#fb9f3a"
             ],
             [
              0.8888888888888888,
              "#fdca26"
             ],
             [
              1,
              "#f0f921"
             ]
            ],
            "type": "heatmapgl"
           }
          ],
          "histogram": [
           {
            "marker": {
             "pattern": {
              "fillmode": "overlay",
              "size": 10,
              "solidity": 0.2
             }
            },
            "type": "histogram"
           }
          ],
          "histogram2d": [
           {
            "colorbar": {
             "outlinewidth": 0,
             "ticks": ""
            },
            "colorscale": [
             [
              0,
              "#0d0887"
             ],
             [
              0.1111111111111111,
              "#46039f"
             ],
             [
              0.2222222222222222,
              "#7201a8"
             ],
             [
              0.3333333333333333,
              "#9c179e"
             ],
             [
              0.4444444444444444,
              "#bd3786"
             ],
             [
              0.5555555555555556,
              "#d8576b"
             ],
             [
              0.6666666666666666,
              "#ed7953"
             ],
             [
              0.7777777777777778,
              "#fb9f3a"
             ],
             [
              0.8888888888888888,
              "#fdca26"
             ],
             [
              1,
              "#f0f921"
             ]
            ],
            "type": "histogram2d"
           }
          ],
          "histogram2dcontour": [
           {
            "colorbar": {
             "outlinewidth": 0,
             "ticks": ""
            },
            "colorscale": [
             [
              0,
              "#0d0887"
             ],
             [
              0.1111111111111111,
              "#46039f"
             ],
             [
              0.2222222222222222,
              "#7201a8"
             ],
             [
              0.3333333333333333,
              "#9c179e"
             ],
             [
              0.4444444444444444,
              "#bd3786"
             ],
             [
              0.5555555555555556,
              "#d8576b"
             ],
             [
              0.6666666666666666,
              "#ed7953"
             ],
             [
              0.7777777777777778,
              "#fb9f3a"
             ],
             [
              0.8888888888888888,
              "#fdca26"
             ],
             [
              1,
              "#f0f921"
             ]
            ],
            "type": "histogram2dcontour"
           }
          ],
          "mesh3d": [
           {
            "colorbar": {
             "outlinewidth": 0,
             "ticks": ""
            },
            "type": "mesh3d"
           }
          ],
          "parcoords": [
           {
            "line": {
             "colorbar": {
              "outlinewidth": 0,
              "ticks": ""
             }
            },
            "type": "parcoords"
           }
          ],
          "pie": [
           {
            "automargin": true,
            "type": "pie"
           }
          ],
          "scatter": [
           {
            "fillpattern": {
             "fillmode": "overlay",
             "size": 10,
             "solidity": 0.2
            },
            "type": "scatter"
           }
          ],
          "scatter3d": [
           {
            "line": {
             "colorbar": {
              "outlinewidth": 0,
              "ticks": ""
             }
            },
            "marker": {
             "colorbar": {
              "outlinewidth": 0,
              "ticks": ""
             }
            },
            "type": "scatter3d"
           }
          ],
          "scattercarpet": [
           {
            "marker": {
             "colorbar": {
              "outlinewidth": 0,
              "ticks": ""
             }
            },
            "type": "scattercarpet"
           }
          ],
          "scattergeo": [
           {
            "marker": {
             "colorbar": {
              "outlinewidth": 0,
              "ticks": ""
             }
            },
            "type": "scattergeo"
           }
          ],
          "scattergl": [
           {
            "marker": {
             "colorbar": {
              "outlinewidth": 0,
              "ticks": ""
             }
            },
            "type": "scattergl"
           }
          ],
          "scattermapbox": [
           {
            "marker": {
             "colorbar": {
              "outlinewidth": 0,
              "ticks": ""
             }
            },
            "type": "scattermapbox"
           }
          ],
          "scatterpolar": [
           {
            "marker": {
             "colorbar": {
              "outlinewidth": 0,
              "ticks": ""
             }
            },
            "type": "scatterpolar"
           }
          ],
          "scatterpolargl": [
           {
            "marker": {
             "colorbar": {
              "outlinewidth": 0,
              "ticks": ""
             }
            },
            "type": "scatterpolargl"
           }
          ],
          "scatterternary": [
           {
            "marker": {
             "colorbar": {
              "outlinewidth": 0,
              "ticks": ""
             }
            },
            "type": "scatterternary"
           }
          ],
          "surface": [
           {
            "colorbar": {
             "outlinewidth": 0,
             "ticks": ""
            },
            "colorscale": [
             [
              0,
              "#0d0887"
             ],
             [
              0.1111111111111111,
              "#46039f"
             ],
             [
              0.2222222222222222,
              "#7201a8"
             ],
             [
              0.3333333333333333,
              "#9c179e"
             ],
             [
              0.4444444444444444,
              "#bd3786"
             ],
             [
              0.5555555555555556,
              "#d8576b"
             ],
             [
              0.6666666666666666,
              "#ed7953"
             ],
             [
              0.7777777777777778,
              "#fb9f3a"
             ],
             [
              0.8888888888888888,
              "#fdca26"
             ],
             [
              1,
              "#f0f921"
             ]
            ],
            "type": "surface"
           }
          ],
          "table": [
           {
            "cells": {
             "fill": {
              "color": "#EBF0F8"
             },
             "line": {
              "color": "white"
             }
            },
            "header": {
             "fill": {
              "color": "#C8D4E3"
             },
             "line": {
              "color": "white"
             }
            },
            "type": "table"
           }
          ]
         },
         "layout": {
          "annotationdefaults": {
           "arrowcolor": "#2a3f5f",
           "arrowhead": 0,
           "arrowwidth": 1
          },
          "autotypenumbers": "strict",
          "coloraxis": {
           "colorbar": {
            "outlinewidth": 0,
            "ticks": ""
           }
          },
          "colorscale": {
           "diverging": [
            [
             0,
             "#8e0152"
            ],
            [
             0.1,
             "#c51b7d"
            ],
            [
             0.2,
             "#de77ae"
            ],
            [
             0.3,
             "#f1b6da"
            ],
            [
             0.4,
             "#fde0ef"
            ],
            [
             0.5,
             "#f7f7f7"
            ],
            [
             0.6,
             "#e6f5d0"
            ],
            [
             0.7,
             "#b8e186"
            ],
            [
             0.8,
             "#7fbc41"
            ],
            [
             0.9,
             "#4d9221"
            ],
            [
             1,
             "#276419"
            ]
           ],
           "sequential": [
            [
             0,
             "#0d0887"
            ],
            [
             0.1111111111111111,
             "#46039f"
            ],
            [
             0.2222222222222222,
             "#7201a8"
            ],
            [
             0.3333333333333333,
             "#9c179e"
            ],
            [
             0.4444444444444444,
             "#bd3786"
            ],
            [
             0.5555555555555556,
             "#d8576b"
            ],
            [
             0.6666666666666666,
             "#ed7953"
            ],
            [
             0.7777777777777778,
             "#fb9f3a"
            ],
            [
             0.8888888888888888,
             "#fdca26"
            ],
            [
             1,
             "#f0f921"
            ]
           ],
           "sequentialminus": [
            [
             0,
             "#0d0887"
            ],
            [
             0.1111111111111111,
             "#46039f"
            ],
            [
             0.2222222222222222,
             "#7201a8"
            ],
            [
             0.3333333333333333,
             "#9c179e"
            ],
            [
             0.4444444444444444,
             "#bd3786"
            ],
            [
             0.5555555555555556,
             "#d8576b"
            ],
            [
             0.6666666666666666,
             "#ed7953"
            ],
            [
             0.7777777777777778,
             "#fb9f3a"
            ],
            [
             0.8888888888888888,
             "#fdca26"
            ],
            [
             1,
             "#f0f921"
            ]
           ]
          },
          "colorway": [
           "#636efa",
           "#EF553B",
           "#00cc96",
           "#ab63fa",
           "#FFA15A",
           "#19d3f3",
           "#FF6692",
           "#B6E880",
           "#FF97FF",
           "#FECB52"
          ],
          "font": {
           "color": "#2a3f5f"
          },
          "geo": {
           "bgcolor": "white",
           "lakecolor": "white",
           "landcolor": "#E5ECF6",
           "showlakes": true,
           "showland": true,
           "subunitcolor": "white"
          },
          "hoverlabel": {
           "align": "left"
          },
          "hovermode": "closest",
          "mapbox": {
           "style": "light"
          },
          "paper_bgcolor": "white",
          "plot_bgcolor": "#E5ECF6",
          "polar": {
           "angularaxis": {
            "gridcolor": "white",
            "linecolor": "white",
            "ticks": ""
           },
           "bgcolor": "#E5ECF6",
           "radialaxis": {
            "gridcolor": "white",
            "linecolor": "white",
            "ticks": ""
           }
          },
          "scene": {
           "xaxis": {
            "backgroundcolor": "#E5ECF6",
            "gridcolor": "white",
            "gridwidth": 2,
            "linecolor": "white",
            "showbackground": true,
            "ticks": "",
            "zerolinecolor": "white"
           },
           "yaxis": {
            "backgroundcolor": "#E5ECF6",
            "gridcolor": "white",
            "gridwidth": 2,
            "linecolor": "white",
            "showbackground": true,
            "ticks": "",
            "zerolinecolor": "white"
           },
           "zaxis": {
            "backgroundcolor": "#E5ECF6",
            "gridcolor": "white",
            "gridwidth": 2,
            "linecolor": "white",
            "showbackground": true,
            "ticks": "",
            "zerolinecolor": "white"
           }
          },
          "shapedefaults": {
           "line": {
            "color": "#2a3f5f"
           }
          },
          "ternary": {
           "aaxis": {
            "gridcolor": "white",
            "linecolor": "white",
            "ticks": ""
           },
           "baxis": {
            "gridcolor": "white",
            "linecolor": "white",
            "ticks": ""
           },
           "bgcolor": "#E5ECF6",
           "caxis": {
            "gridcolor": "white",
            "linecolor": "white",
            "ticks": ""
           }
          },
          "title": {
           "x": 0.05
          },
          "xaxis": {
           "automargin": true,
           "gridcolor": "white",
           "linecolor": "white",
           "ticks": "",
           "title": {
            "standoff": 15
           },
           "zerolinecolor": "white",
           "zerolinewidth": 2
          },
          "yaxis": {
           "automargin": true,
           "gridcolor": "white",
           "linecolor": "white",
           "ticks": "",
           "title": {
            "standoff": 15
           },
           "zerolinecolor": "white",
           "zerolinewidth": 2
          }
         }
        }
       }
      }
     },
     "metadata": {},
     "output_type": "display_data"
    }
   ],
   "source": [
    "selected_columns = ['Year','Business','Engineering','Biology','Health Professions']\n",
    "selected_years = [1970, 1990, 2010]\n",
    "\n",
    "\n",
    "selected_data = degree_gender_ratio.loc[degree_gender_ratio['Year'].isin(selected_years), selected_columns]\n",
    "df = selected_data.melt(id_vars='Year', var_name=\"Major\", value_name='female', value_vars=[x for x in selected_data.columns[1:]])\n",
    "df.insert(3, \"male\", 100-df[\"female\"])\n",
    "# Print the selected data\n",
    "\n",
    "df2 = df.melt(id_vars=['Year','Major'], var_name=\"Gender\", value_name='val', value_vars=[x for x in df.columns[2:]])\n",
    "print(df2 )\n",
    "fig=px.pie(df2, names='Gender',values='val', facet_col=\"Major\",facet_row=\"Year\", color_discrete_sequence=px.colors.qualitative.D3)\n",
    "\n",
    "fig.update_layout(\n",
    "    font_size=8\n",
    ")\n"
   ]
  }
 ],
 "metadata": {
  "colab": {
   "provenance": []
  },
  "kernelspec": {
   "display_name": "base",
   "language": "python",
   "name": "python3"
  },
  "language_info": {
   "codemirror_mode": {
    "name": "ipython",
    "version": 3
   },
   "file_extension": ".py",
   "mimetype": "text/x-python",
   "name": "python",
   "nbconvert_exporter": "python",
   "pygments_lexer": "ipython3",
   "version": "3.9.13"
  }
 },
 "nbformat": 4,
 "nbformat_minor": 0
}
